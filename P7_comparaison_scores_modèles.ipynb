{
 "cells": [
  {
   "cell_type": "code",
   "execution_count": 1,
   "id": "a4c20a89",
   "metadata": {},
   "outputs": [
    {
     "data": {
      "application/javascript": [
       "\n",
       "            setTimeout(function() {\n",
       "                var nbb_cell_id = 1;\n",
       "                var nbb_unformatted_code = \"# Check the PEP8 norm for each cell\\n%load_ext nb_black\";\n",
       "                var nbb_formatted_code = \"# Check the PEP8 norm for each cell\\n%load_ext nb_black\";\n",
       "                var nbb_cells = Jupyter.notebook.get_cells();\n",
       "                for (var i = 0; i < nbb_cells.length; ++i) {\n",
       "                    if (nbb_cells[i].input_prompt_number == nbb_cell_id) {\n",
       "                        if (nbb_cells[i].get_text() == nbb_unformatted_code) {\n",
       "                             nbb_cells[i].set_text(nbb_formatted_code);\n",
       "                        }\n",
       "                        break;\n",
       "                    }\n",
       "                }\n",
       "            }, 500);\n",
       "            "
      ],
      "text/plain": [
       "<IPython.core.display.Javascript object>"
      ]
     },
     "metadata": {},
     "output_type": "display_data"
    }
   ],
   "source": [
    "# Check the PEP8 norm for each cell\n",
    "%load_ext nb_black"
   ]
  },
  {
   "cell_type": "markdown",
   "id": "6f54afc0",
   "metadata": {},
   "source": [
    "P7 Description <br>\n",
    "\n",
    "Following the data Analysis, this part select the model(s) that will be investigate (search of better hyperparameters)\n",
    "The metrics selected at this step are the \"Receiver Operating Characteristic Area Under the Curve\" (ROC AUC or AUROC), the fbeta score and a custom score that I created according to the project needs.\n",
    "\n",
    "\n",
    "$\\;\\;\\;\\;\\;\\;$ Imports <br>\n",
    "Part 2 - Modelling <br>\n",
    "$\\;\\;\\;\\;\\;\\;$ [Model evaluation and metrcs](#eval) <br>\n",
    "$\\;\\;\\;\\;\\;\\;$ [Baseline](#base) <br>\n",
    "$\\;\\;\\;\\;\\;\\;$ [Metric tests on a simple model](#metric) <br>\n",
    "$\\;\\;\\;\\;\\;\\;\\;\\;\\;\\;\\;\\;$ [Summary](#sum) <br>\n",
    "$\\;\\;\\;\\;\\;\\;$ [Model selections](#models) <br>\n",
    "$\\;\\;\\;\\;\\;\\;\\;\\;\\;\\;\\;\\;$ [roc_auc](#roc) <br>\n",
    "$\\;\\;\\;\\;\\;\\;\\;\\;\\;\\;\\;\\;$ [fbeta](#beta) <br>\n",
    "$\\;\\;\\;\\;\\;\\;\\;\\;\\;\\;\\;\\;$ [custom](#cus) <br>"
   ]
  },
  {
   "cell_type": "markdown",
   "id": "8670d10c",
   "metadata": {},
   "source": [
    "#### imports"
   ]
  },
  {
   "cell_type": "code",
   "execution_count": 2,
   "id": "8ff303b6",
   "metadata": {},
   "outputs": [
    {
     "data": {
      "application/javascript": [
       "\n",
       "            setTimeout(function() {\n",
       "                var nbb_cell_id = 2;\n",
       "                var nbb_unformatted_code = \"import numpy as np\\nimport pandas as pd\\nimport matplotlib.pyplot as plt\\nimport seaborn as sns\\nimport plotly.express as px\\nimport plotly.graph_objects as go\";\n",
       "                var nbb_formatted_code = \"import numpy as np\\nimport pandas as pd\\nimport matplotlib.pyplot as plt\\nimport seaborn as sns\\nimport plotly.express as px\\nimport plotly.graph_objects as go\";\n",
       "                var nbb_cells = Jupyter.notebook.get_cells();\n",
       "                for (var i = 0; i < nbb_cells.length; ++i) {\n",
       "                    if (nbb_cells[i].input_prompt_number == nbb_cell_id) {\n",
       "                        if (nbb_cells[i].get_text() == nbb_unformatted_code) {\n",
       "                             nbb_cells[i].set_text(nbb_formatted_code);\n",
       "                        }\n",
       "                        break;\n",
       "                    }\n",
       "                }\n",
       "            }, 500);\n",
       "            "
      ],
      "text/plain": [
       "<IPython.core.display.Javascript object>"
      ]
     },
     "metadata": {},
     "output_type": "display_data"
    }
   ],
   "source": [
    "import numpy as np\n",
    "import pandas as pd\n",
    "import matplotlib.pyplot as plt\n",
    "import seaborn as sns\n",
    "import plotly.express as px\n",
    "import plotly.graph_objects as go"
   ]
  },
  {
   "cell_type": "code",
   "execution_count": 3,
   "id": "f71c562e",
   "metadata": {},
   "outputs": [
    {
     "data": {
      "application/javascript": [
       "\n",
       "            setTimeout(function() {\n",
       "                var nbb_cell_id = 3;\n",
       "                var nbb_unformatted_code = \"# col width\\npd.set_option(\\\"max_colwidth\\\", 240)\\n# option to be able see all columns\\npd.set_option(\\\"max_columns\\\", None)\\n# max lanes display\\npd.options.display.max_rows = 250\";\n",
       "                var nbb_formatted_code = \"# col width\\npd.set_option(\\\"max_colwidth\\\", 240)\\n# option to be able see all columns\\npd.set_option(\\\"max_columns\\\", None)\\n# max lanes display\\npd.options.display.max_rows = 250\";\n",
       "                var nbb_cells = Jupyter.notebook.get_cells();\n",
       "                for (var i = 0; i < nbb_cells.length; ++i) {\n",
       "                    if (nbb_cells[i].input_prompt_number == nbb_cell_id) {\n",
       "                        if (nbb_cells[i].get_text() == nbb_unformatted_code) {\n",
       "                             nbb_cells[i].set_text(nbb_formatted_code);\n",
       "                        }\n",
       "                        break;\n",
       "                    }\n",
       "                }\n",
       "            }, 500);\n",
       "            "
      ],
      "text/plain": [
       "<IPython.core.display.Javascript object>"
      ]
     },
     "metadata": {},
     "output_type": "display_data"
    }
   ],
   "source": [
    "# col width\n",
    "pd.set_option(\"max_colwidth\", 240)\n",
    "# option to be able see all columns\n",
    "pd.set_option(\"max_columns\", None)\n",
    "# max lanes display\n",
    "pd.options.display.max_rows = 250"
   ]
  },
  {
   "cell_type": "code",
   "execution_count": 4,
   "id": "e07cafb5",
   "metadata": {},
   "outputs": [
    {
     "data": {
      "application/javascript": [
       "\n",
       "            setTimeout(function() {\n",
       "                var nbb_cell_id = 4;\n",
       "                var nbb_unformatted_code = \"import time\";\n",
       "                var nbb_formatted_code = \"import time\";\n",
       "                var nbb_cells = Jupyter.notebook.get_cells();\n",
       "                for (var i = 0; i < nbb_cells.length; ++i) {\n",
       "                    if (nbb_cells[i].input_prompt_number == nbb_cell_id) {\n",
       "                        if (nbb_cells[i].get_text() == nbb_unformatted_code) {\n",
       "                             nbb_cells[i].set_text(nbb_formatted_code);\n",
       "                        }\n",
       "                        break;\n",
       "                    }\n",
       "                }\n",
       "            }, 500);\n",
       "            "
      ],
      "text/plain": [
       "<IPython.core.display.Javascript object>"
      ]
     },
     "metadata": {},
     "output_type": "display_data"
    }
   ],
   "source": [
    "import time"
   ]
  },
  {
   "cell_type": "code",
   "execution_count": 8,
   "id": "b5f1f346",
   "metadata": {},
   "outputs": [
    {
     "data": {
      "application/javascript": [
       "\n",
       "            setTimeout(function() {\n",
       "                var nbb_cell_id = 8;\n",
       "                var nbb_unformatted_code = \"from sklearn.pipeline import make_pipeline\\nfrom sklearn.compose import make_column_transformer\\nfrom imblearn.pipeline import Pipeline\";\n",
       "                var nbb_formatted_code = \"from sklearn.pipeline import make_pipeline\\nfrom sklearn.compose import make_column_transformer\\nfrom imblearn.pipeline import Pipeline\";\n",
       "                var nbb_cells = Jupyter.notebook.get_cells();\n",
       "                for (var i = 0; i < nbb_cells.length; ++i) {\n",
       "                    if (nbb_cells[i].input_prompt_number == nbb_cell_id) {\n",
       "                        if (nbb_cells[i].get_text() == nbb_unformatted_code) {\n",
       "                             nbb_cells[i].set_text(nbb_formatted_code);\n",
       "                        }\n",
       "                        break;\n",
       "                    }\n",
       "                }\n",
       "            }, 500);\n",
       "            "
      ],
      "text/plain": [
       "<IPython.core.display.Javascript object>"
      ]
     },
     "metadata": {},
     "output_type": "display_data"
    }
   ],
   "source": [
    "from sklearn.pipeline import make_pipeline\n",
    "from sklearn.compose import make_column_transformer\n",
    "from imblearn.pipeline import Pipeline"
   ]
  },
  {
   "cell_type": "code",
   "execution_count": 9,
   "id": "e1eba3a9",
   "metadata": {},
   "outputs": [
    {
     "data": {
      "application/javascript": [
       "\n",
       "            setTimeout(function() {\n",
       "                var nbb_cell_id = 9;\n",
       "                var nbb_unformatted_code = \"from sklearn.preprocessing import RobustScaler\";\n",
       "                var nbb_formatted_code = \"from sklearn.preprocessing import RobustScaler\";\n",
       "                var nbb_cells = Jupyter.notebook.get_cells();\n",
       "                for (var i = 0; i < nbb_cells.length; ++i) {\n",
       "                    if (nbb_cells[i].input_prompt_number == nbb_cell_id) {\n",
       "                        if (nbb_cells[i].get_text() == nbb_unformatted_code) {\n",
       "                             nbb_cells[i].set_text(nbb_formatted_code);\n",
       "                        }\n",
       "                        break;\n",
       "                    }\n",
       "                }\n",
       "            }, 500);\n",
       "            "
      ],
      "text/plain": [
       "<IPython.core.display.Javascript object>"
      ]
     },
     "metadata": {},
     "output_type": "display_data"
    }
   ],
   "source": [
    "from sklearn.preprocessing import RobustScaler"
   ]
  },
  {
   "cell_type": "code",
   "execution_count": 10,
   "id": "0107dc68",
   "metadata": {},
   "outputs": [
    {
     "data": {
      "application/javascript": [
       "\n",
       "            setTimeout(function() {\n",
       "                var nbb_cell_id = 10;\n",
       "                var nbb_unformatted_code = \"# ARI score\\nfrom sklearn.metrics.cluster import adjusted_rand_score\\nfrom sklearn import cluster, metrics\\nfrom sklearn.metrics import RocCurveDisplay\\nfrom sklearn.metrics import precision_recall_curve\";\n",
       "                var nbb_formatted_code = \"# ARI score\\nfrom sklearn.metrics.cluster import adjusted_rand_score\\nfrom sklearn import cluster, metrics\\nfrom sklearn.metrics import RocCurveDisplay\\nfrom sklearn.metrics import precision_recall_curve\";\n",
       "                var nbb_cells = Jupyter.notebook.get_cells();\n",
       "                for (var i = 0; i < nbb_cells.length; ++i) {\n",
       "                    if (nbb_cells[i].input_prompt_number == nbb_cell_id) {\n",
       "                        if (nbb_cells[i].get_text() == nbb_unformatted_code) {\n",
       "                             nbb_cells[i].set_text(nbb_formatted_code);\n",
       "                        }\n",
       "                        break;\n",
       "                    }\n",
       "                }\n",
       "            }, 500);\n",
       "            "
      ],
      "text/plain": [
       "<IPython.core.display.Javascript object>"
      ]
     },
     "metadata": {},
     "output_type": "display_data"
    }
   ],
   "source": [
    "from sklearn import cluster, metrics\n",
    "from sklearn.metrics import RocCurveDisplay\n",
    "from sklearn.metrics import precision_recall_curve"
   ]
  },
  {
   "cell_type": "code",
   "execution_count": 12,
   "id": "d00fefe2",
   "metadata": {},
   "outputs": [
    {
     "data": {
      "application/javascript": [
       "\n",
       "            setTimeout(function() {\n",
       "                var nbb_cell_id = 12;\n",
       "                var nbb_unformatted_code = \"# Cross-validation evaluation of Supervised algorithms\\nfrom sklearn.model_selection import cross_val_score\\nfrom sklearn.model_selection import GridSearchCV\\nfrom sklearn.model_selection import RandomizedSearchCV\\nfrom sklearn.model_selection import StratifiedKFold, KFold\";\n",
       "                var nbb_formatted_code = \"# Cross-validation evaluation of Supervised algorithms\\nfrom sklearn.model_selection import cross_val_score\\nfrom sklearn.model_selection import GridSearchCV\\nfrom sklearn.model_selection import RandomizedSearchCV\\nfrom sklearn.model_selection import StratifiedKFold, KFold\";\n",
       "                var nbb_cells = Jupyter.notebook.get_cells();\n",
       "                for (var i = 0; i < nbb_cells.length; ++i) {\n",
       "                    if (nbb_cells[i].input_prompt_number == nbb_cell_id) {\n",
       "                        if (nbb_cells[i].get_text() == nbb_unformatted_code) {\n",
       "                             nbb_cells[i].set_text(nbb_formatted_code);\n",
       "                        }\n",
       "                        break;\n",
       "                    }\n",
       "                }\n",
       "            }, 500);\n",
       "            "
      ],
      "text/plain": [
       "<IPython.core.display.Javascript object>"
      ]
     },
     "metadata": {},
     "output_type": "display_data"
    }
   ],
   "source": [
    "# Cross-validation evaluation of Supervised algorithms\n",
    "from sklearn.model_selection import cross_val_score\n",
    "from sklearn.model_selection import cross_validate\n",
    "from sklearn.model_selection import GridSearchCV\n",
    "from sklearn.model_selection import RandomizedSearchCV\n",
    "from sklearn.model_selection import StratifiedKFold, KFold\n",
    "from sklearn.model_selection import RepeatedStratifiedKFold\n",
    "from sklearn.metrics import fbeta_score, make_scorer"
   ]
  },
  {
   "cell_type": "code",
   "execution_count": 13,
   "id": "ca7c87ea",
   "metadata": {
    "scrolled": true
   },
   "outputs": [
    {
     "data": {
      "application/javascript": [
       "\n",
       "            setTimeout(function() {\n",
       "                var nbb_cell_id = 13;\n",
       "                var nbb_unformatted_code = \"from imblearn.under_sampling import RandomUnderSampler\";\n",
       "                var nbb_formatted_code = \"from imblearn.under_sampling import RandomUnderSampler\";\n",
       "                var nbb_cells = Jupyter.notebook.get_cells();\n",
       "                for (var i = 0; i < nbb_cells.length; ++i) {\n",
       "                    if (nbb_cells[i].input_prompt_number == nbb_cell_id) {\n",
       "                        if (nbb_cells[i].get_text() == nbb_unformatted_code) {\n",
       "                             nbb_cells[i].set_text(nbb_formatted_code);\n",
       "                        }\n",
       "                        break;\n",
       "                    }\n",
       "                }\n",
       "            }, 500);\n",
       "            "
      ],
      "text/plain": [
       "<IPython.core.display.Javascript object>"
      ]
     },
     "metadata": {},
     "output_type": "display_data"
    }
   ],
   "source": [
    "from imblearn.under_sampling import RandomUnderSampler"
   ]
  },
  {
   "cell_type": "code",
   "execution_count": 14,
   "id": "0c5e2853",
   "metadata": {},
   "outputs": [
    {
     "data": {
      "application/javascript": [
       "\n",
       "            setTimeout(function() {\n",
       "                var nbb_cell_id = 14;\n",
       "                var nbb_unformatted_code = \"from sklearn.metrics import confusion_matrix\";\n",
       "                var nbb_formatted_code = \"from sklearn.metrics import confusion_matrix\";\n",
       "                var nbb_cells = Jupyter.notebook.get_cells();\n",
       "                for (var i = 0; i < nbb_cells.length; ++i) {\n",
       "                    if (nbb_cells[i].input_prompt_number == nbb_cell_id) {\n",
       "                        if (nbb_cells[i].get_text() == nbb_unformatted_code) {\n",
       "                             nbb_cells[i].set_text(nbb_formatted_code);\n",
       "                        }\n",
       "                        break;\n",
       "                    }\n",
       "                }\n",
       "            }, 500);\n",
       "            "
      ],
      "text/plain": [
       "<IPython.core.display.Javascript object>"
      ]
     },
     "metadata": {},
     "output_type": "display_data"
    }
   ],
   "source": [
    "from sklearn.metrics import confusion_matrix"
   ]
  },
  {
   "cell_type": "markdown",
   "id": "cd3f13db",
   "metadata": {},
   "source": [
    "#### modeling"
   ]
  },
  {
   "cell_type": "code",
   "execution_count": 17,
   "id": "caa8c3d3",
   "metadata": {},
   "outputs": [
    {
     "data": {
      "application/javascript": [
       "\n",
       "            setTimeout(function() {\n",
       "                var nbb_cell_id = 17;\n",
       "                var nbb_unformatted_code = \"from statistics import mean\\nfrom numpy import std\\nfrom collections import Counter\";\n",
       "                var nbb_formatted_code = \"from statistics import mean\\nfrom numpy import std\\nfrom collections import Counter\";\n",
       "                var nbb_cells = Jupyter.notebook.get_cells();\n",
       "                for (var i = 0; i < nbb_cells.length; ++i) {\n",
       "                    if (nbb_cells[i].input_prompt_number == nbb_cell_id) {\n",
       "                        if (nbb_cells[i].get_text() == nbb_unformatted_code) {\n",
       "                             nbb_cells[i].set_text(nbb_formatted_code);\n",
       "                        }\n",
       "                        break;\n",
       "                    }\n",
       "                }\n",
       "            }, 500);\n",
       "            "
      ],
      "text/plain": [
       "<IPython.core.display.Javascript object>"
      ]
     },
     "metadata": {},
     "output_type": "display_data"
    }
   ],
   "source": [
    "from statistics import mean\n",
    "from numpy import std\n",
    "from collections import Counter"
   ]
  },
  {
   "cell_type": "code",
   "execution_count": 18,
   "id": "0fe0227b",
   "metadata": {},
   "outputs": [
    {
     "data": {
      "application/javascript": [
       "\n",
       "            setTimeout(function() {\n",
       "                var nbb_cell_id = 18;\n",
       "                var nbb_unformatted_code = \"# SMOTE and all\\nfrom imblearn.over_sampling import ADASYN\\nfrom imblearn.over_sampling import SVMSMOTE\";\n",
       "                var nbb_formatted_code = \"# SMOTE and all\\nfrom imblearn.over_sampling import ADASYN\\nfrom imblearn.over_sampling import SVMSMOTE\";\n",
       "                var nbb_cells = Jupyter.notebook.get_cells();\n",
       "                for (var i = 0; i < nbb_cells.length; ++i) {\n",
       "                    if (nbb_cells[i].input_prompt_number == nbb_cell_id) {\n",
       "                        if (nbb_cells[i].get_text() == nbb_unformatted_code) {\n",
       "                             nbb_cells[i].set_text(nbb_formatted_code);\n",
       "                        }\n",
       "                        break;\n",
       "                    }\n",
       "                }\n",
       "            }, 500);\n",
       "            "
      ],
      "text/plain": [
       "<IPython.core.display.Javascript object>"
      ]
     },
     "metadata": {},
     "output_type": "display_data"
    }
   ],
   "source": [
    "# SMOTE and all\n",
    "from imblearn.over_sampling import ADASYN\n",
    "from imblearn.over_sampling import SVMSMOTE"
   ]
  },
  {
   "cell_type": "code",
   "execution_count": 21,
   "id": "46065763",
   "metadata": {},
   "outputs": [
    {
     "data": {
      "application/javascript": [
       "\n",
       "            setTimeout(function() {\n",
       "                var nbb_cell_id = 21;\n",
       "                var nbb_unformatted_code = \"from sklearn.linear_model import LogisticRegression\\nfrom sklearn.tree import DecisionTreeClassifier\\nfrom sklearn.neighbors import KNeighborsClassifier\\nfrom sklearn.ensemble import RandomForestClassifier\\nfrom sklearn.ensemble import ExtraTreesClassifier\\nfrom sklearn.ensemble import BaggingClassifier\\nfrom sklearn.svm import SVC\\nfrom sklearn.ensemble import GradientBoostingClassifier\\nfrom sklearn.dummy import DummyClassifier\\nfrom lightgbm import LGBMClassifier\";\n",
       "                var nbb_formatted_code = \"from sklearn.linear_model import LogisticRegression\\nfrom sklearn.tree import DecisionTreeClassifier\\nfrom sklearn.neighbors import KNeighborsClassifier\\nfrom sklearn.ensemble import RandomForestClassifier\\nfrom sklearn.ensemble import ExtraTreesClassifier\\nfrom sklearn.ensemble import BaggingClassifier\\nfrom sklearn.svm import SVC\\nfrom sklearn.ensemble import GradientBoostingClassifier\\nfrom sklearn.dummy import DummyClassifier\\nfrom lightgbm import LGBMClassifier\";\n",
       "                var nbb_cells = Jupyter.notebook.get_cells();\n",
       "                for (var i = 0; i < nbb_cells.length; ++i) {\n",
       "                    if (nbb_cells[i].input_prompt_number == nbb_cell_id) {\n",
       "                        if (nbb_cells[i].get_text() == nbb_unformatted_code) {\n",
       "                             nbb_cells[i].set_text(nbb_formatted_code);\n",
       "                        }\n",
       "                        break;\n",
       "                    }\n",
       "                }\n",
       "            }, 500);\n",
       "            "
      ],
      "text/plain": [
       "<IPython.core.display.Javascript object>"
      ]
     },
     "metadata": {},
     "output_type": "display_data"
    }
   ],
   "source": [
    "from sklearn.linear_model import LogisticRegression\n",
    "from sklearn.tree import DecisionTreeClassifier\n",
    "from sklearn.neighbors import KNeighborsClassifier\n",
    "from sklearn.ensemble import RandomForestClassifier\n",
    "from sklearn.ensemble import ExtraTreesClassifier\n",
    "from sklearn.ensemble import BaggingClassifier\n",
    "from sklearn.svm import SVC\n",
    "from sklearn.ensemble import GradientBoostingClassifier\n",
    "from sklearn.dummy import DummyClassifier\n",
    "from lightgbm import LGBMClassifier"
   ]
  },
  {
   "cell_type": "markdown",
   "id": "e5438694",
   "metadata": {},
   "source": [
    "#### others"
   ]
  },
  {
   "cell_type": "code",
   "execution_count": 23,
   "id": "600e1e29",
   "metadata": {},
   "outputs": [
    {
     "data": {
      "application/javascript": [
       "\n",
       "            setTimeout(function() {\n",
       "                var nbb_cell_id = 23;\n",
       "                var nbb_unformatted_code = \"from IPython.display import Image\";\n",
       "                var nbb_formatted_code = \"from IPython.display import Image\";\n",
       "                var nbb_cells = Jupyter.notebook.get_cells();\n",
       "                for (var i = 0; i < nbb_cells.length; ++i) {\n",
       "                    if (nbb_cells[i].input_prompt_number == nbb_cell_id) {\n",
       "                        if (nbb_cells[i].get_text() == nbb_unformatted_code) {\n",
       "                             nbb_cells[i].set_text(nbb_formatted_code);\n",
       "                        }\n",
       "                        break;\n",
       "                    }\n",
       "                }\n",
       "            }, 500);\n",
       "            "
      ],
      "text/plain": [
       "<IPython.core.display.Javascript object>"
      ]
     },
     "metadata": {},
     "output_type": "display_data"
    }
   ],
   "source": [
    "from IPython.display import Image"
   ]
  },
  {
   "cell_type": "code",
   "execution_count": 24,
   "id": "46475ff2",
   "metadata": {},
   "outputs": [
    {
     "data": {
      "application/javascript": [
       "\n",
       "            setTimeout(function() {\n",
       "                var nbb_cell_id = 24;\n",
       "                var nbb_unformatted_code = \"# save numpy array as csv file\\nfrom numpy import asarray\\nfrom numpy import savetxt\\n\\n# load numpy array from csv file\\nfrom numpy import loadtxt\";\n",
       "                var nbb_formatted_code = \"# save numpy array as csv file\\nfrom numpy import asarray\\nfrom numpy import savetxt\\n\\n# load numpy array from csv file\\nfrom numpy import loadtxt\";\n",
       "                var nbb_cells = Jupyter.notebook.get_cells();\n",
       "                for (var i = 0; i < nbb_cells.length; ++i) {\n",
       "                    if (nbb_cells[i].input_prompt_number == nbb_cell_id) {\n",
       "                        if (nbb_cells[i].get_text() == nbb_unformatted_code) {\n",
       "                             nbb_cells[i].set_text(nbb_formatted_code);\n",
       "                        }\n",
       "                        break;\n",
       "                    }\n",
       "                }\n",
       "            }, 500);\n",
       "            "
      ],
      "text/plain": [
       "<IPython.core.display.Javascript object>"
      ]
     },
     "metadata": {},
     "output_type": "display_data"
    }
   ],
   "source": [
    "# save numpy array as csv file\n",
    "from numpy import asarray\n",
    "from numpy import savetxt\n",
    "\n",
    "# load numpy array from csv file\n",
    "from numpy import loadtxt"
   ]
  },
  {
   "cell_type": "markdown",
   "id": "55e26bde",
   "metadata": {},
   "source": [
    "#### data loading"
   ]
  },
  {
   "cell_type": "code",
   "execution_count": 43,
   "id": "fad4901c",
   "metadata": {
    "scrolled": false
   },
   "outputs": [
    {
     "name": "stdout",
     "output_type": "stream",
     "text": [
      "total time:  6.57032036781311 sec\n"
     ]
    },
    {
     "data": {
      "application/javascript": [
       "\n",
       "            setTimeout(function() {\n",
       "                var nbb_cell_id = 43;\n",
       "                var nbb_unformatted_code = \"start = time.time()\\n\\nX_train = pd.read_csv(\\\"X_train_fill_fulldb.csv\\\", index_col=[0])\\ny_train = pd.read_csv(\\\"y_train.csv\\\", index_col=[0])\\nX_test = pd.read_csv(\\\"X_test_nona_fulldb.csv\\\", index_col=[0])\\ny_test = pd.read_csv(\\\"y_test_nona_fulldb.csv\\\", index_col=[0])\\n\\nend = time.time()\\nprint(\\\"total time: \\\", (end - start), \\\"sec\\\")\";\n",
       "                var nbb_formatted_code = \"start = time.time()\\n\\nX_train = pd.read_csv(\\\"X_train_fill_fulldb.csv\\\", index_col=[0])\\ny_train = pd.read_csv(\\\"y_train.csv\\\", index_col=[0])\\nX_test = pd.read_csv(\\\"X_test_nona_fulldb.csv\\\", index_col=[0])\\ny_test = pd.read_csv(\\\"y_test_nona_fulldb.csv\\\", index_col=[0])\\n\\nend = time.time()\\nprint(\\\"total time: \\\", (end - start), \\\"sec\\\")\";\n",
       "                var nbb_cells = Jupyter.notebook.get_cells();\n",
       "                for (var i = 0; i < nbb_cells.length; ++i) {\n",
       "                    if (nbb_cells[i].input_prompt_number == nbb_cell_id) {\n",
       "                        if (nbb_cells[i].get_text() == nbb_unformatted_code) {\n",
       "                             nbb_cells[i].set_text(nbb_formatted_code);\n",
       "                        }\n",
       "                        break;\n",
       "                    }\n",
       "                }\n",
       "            }, 500);\n",
       "            "
      ],
      "text/plain": [
       "<IPython.core.display.Javascript object>"
      ]
     },
     "metadata": {},
     "output_type": "display_data"
    }
   ],
   "source": [
    "start = time.time()\n",
    "\n",
    "X_train = pd.read_csv(\"X_train_fill_fulldb.csv\", index_col=[0])\n",
    "y_train = pd.read_csv(\"y_train.csv\", index_col=[0])\n",
    "X_test = pd.read_csv(\"X_test_nona_fulldb.csv\", index_col=[0])\n",
    "y_test = pd.read_csv(\"y_test_nona_fulldb.csv\", index_col=[0])\n",
    "\n",
    "end = time.time()\n",
    "print(\"total time: \", (end - start), \"sec\")"
   ]
  },
  {
   "cell_type": "code",
   "execution_count": 47,
   "id": "9c744aa4",
   "metadata": {},
   "outputs": [
    {
     "name": "stdout",
     "output_type": "stream",
     "text": [
      "(246005, 239) (246005, 1) (17625, 239) (17625, 1)\n"
     ]
    },
    {
     "data": {
      "application/javascript": [
       "\n",
       "            setTimeout(function() {\n",
       "                var nbb_cell_id = 47;\n",
       "                var nbb_unformatted_code = \"print(X_train.shape, y_train.shape, X_test.shape, y_test.shape)\";\n",
       "                var nbb_formatted_code = \"print(X_train.shape, y_train.shape, X_test.shape, y_test.shape)\";\n",
       "                var nbb_cells = Jupyter.notebook.get_cells();\n",
       "                for (var i = 0; i < nbb_cells.length; ++i) {\n",
       "                    if (nbb_cells[i].input_prompt_number == nbb_cell_id) {\n",
       "                        if (nbb_cells[i].get_text() == nbb_unformatted_code) {\n",
       "                             nbb_cells[i].set_text(nbb_formatted_code);\n",
       "                        }\n",
       "                        break;\n",
       "                    }\n",
       "                }\n",
       "            }, 500);\n",
       "            "
      ],
      "text/plain": [
       "<IPython.core.display.Javascript object>"
      ]
     },
     "metadata": {},
     "output_type": "display_data"
    }
   ],
   "source": [
    "print(X_train.shape, y_train.shape, X_test.shape, y_test.shape)"
   ]
  },
  {
   "cell_type": "code",
   "execution_count": 63,
   "id": "c0986891",
   "metadata": {},
   "outputs": [
    {
     "data": {
      "application/javascript": [
       "\n",
       "            setTimeout(function() {\n",
       "                var nbb_cell_id = 63;\n",
       "                var nbb_unformatted_code = \"X_train[\\\"TARGET\\\"] = y_train\";\n",
       "                var nbb_formatted_code = \"X_train[\\\"TARGET\\\"] = y_train\";\n",
       "                var nbb_cells = Jupyter.notebook.get_cells();\n",
       "                for (var i = 0; i < nbb_cells.length; ++i) {\n",
       "                    if (nbb_cells[i].input_prompt_number == nbb_cell_id) {\n",
       "                        if (nbb_cells[i].get_text() == nbb_unformatted_code) {\n",
       "                             nbb_cells[i].set_text(nbb_formatted_code);\n",
       "                        }\n",
       "                        break;\n",
       "                    }\n",
       "                }\n",
       "            }, 500);\n",
       "            "
      ],
      "text/plain": [
       "<IPython.core.display.Javascript object>"
      ]
     },
     "metadata": {},
     "output_type": "display_data"
    }
   ],
   "source": [
    "X_train[\"TARGET\"] = y_train"
   ]
  },
  {
   "cell_type": "code",
   "execution_count": 64,
   "id": "32d64912",
   "metadata": {
    "scrolled": true
   },
   "outputs": [
    {
     "name": "stdout",
     "output_type": "stream",
     "text": [
      "before sampling : (246005, 240)\n",
      "after sampling : (12300, 240)\n"
     ]
    },
    {
     "data": {
      "application/javascript": [
       "\n",
       "            setTimeout(function() {\n",
       "                var nbb_cell_id = 64;\n",
       "                var nbb_unformatted_code = \"print(\\\"before sampling :\\\", X_train.shape)\\nX_train = X_train.sample(frac=0.05, random_state=6)\\nprint(\\\"after sampling :\\\", X_train.shape)\";\n",
       "                var nbb_formatted_code = \"print(\\\"before sampling :\\\", X_train.shape)\\nX_train = X_train.sample(frac=0.05, random_state=6)\\nprint(\\\"after sampling :\\\", X_train.shape)\";\n",
       "                var nbb_cells = Jupyter.notebook.get_cells();\n",
       "                for (var i = 0; i < nbb_cells.length; ++i) {\n",
       "                    if (nbb_cells[i].input_prompt_number == nbb_cell_id) {\n",
       "                        if (nbb_cells[i].get_text() == nbb_unformatted_code) {\n",
       "                             nbb_cells[i].set_text(nbb_formatted_code);\n",
       "                        }\n",
       "                        break;\n",
       "                    }\n",
       "                }\n",
       "            }, 500);\n",
       "            "
      ],
      "text/plain": [
       "<IPython.core.display.Javascript object>"
      ]
     },
     "metadata": {},
     "output_type": "display_data"
    }
   ],
   "source": [
    "print(\"before sampling :\", X_train.shape)\n",
    "X_train = X_train.sample(frac=0.05, random_state=6)\n",
    "print(\"after sampling :\", X_train.shape)"
   ]
  },
  {
   "cell_type": "code",
   "execution_count": 65,
   "id": "44ce4582",
   "metadata": {},
   "outputs": [
    {
     "data": {
      "text/html": [
       "<div>\n",
       "<style scoped>\n",
       "    .dataframe tbody tr th:only-of-type {\n",
       "        vertical-align: middle;\n",
       "    }\n",
       "\n",
       "    .dataframe tbody tr th {\n",
       "        vertical-align: top;\n",
       "    }\n",
       "\n",
       "    .dataframe thead th {\n",
       "        text-align: right;\n",
       "    }\n",
       "</style>\n",
       "<table border=\"1\" class=\"dataframe\">\n",
       "  <thead>\n",
       "    <tr style=\"text-align: right;\">\n",
       "      <th></th>\n",
       "      <th>CODE_GENDER</th>\n",
       "      <th>CNT_CHILDREN</th>\n",
       "      <th>DAYS_BIRTH</th>\n",
       "      <th>DAYS_EMPLOYED</th>\n",
       "      <th>DAYS_REGISTRATION</th>\n",
       "      <th>DAYS_ID_PUBLISH</th>\n",
       "      <th>FLAG_MOBIL</th>\n",
       "      <th>FLAG_EMP_PHONE</th>\n",
       "      <th>FLAG_WORK_PHONE</th>\n",
       "      <th>CNT_FAM_MEMBERS</th>\n",
       "      <th>REGION_RATING_CLIENT</th>\n",
       "      <th>REGION_RATING_CLIENT_W_CITY</th>\n",
       "      <th>REG_REGION_NOT_LIVE_REGION</th>\n",
       "      <th>REG_REGION_NOT_WORK_REGION</th>\n",
       "      <th>LIVE_REGION_NOT_WORK_REGION</th>\n",
       "      <th>REG_CITY_NOT_LIVE_CITY</th>\n",
       "      <th>REG_CITY_NOT_WORK_CITY</th>\n",
       "      <th>LIVE_CITY_NOT_WORK_CITY</th>\n",
       "      <th>OBS_30_CNT_SOCIAL_CIRCLE</th>\n",
       "      <th>DEF_30_CNT_SOCIAL_CIRCLE</th>\n",
       "      <th>OBS_60_CNT_SOCIAL_CIRCLE</th>\n",
       "      <th>DEF_60_CNT_SOCIAL_CIRCLE</th>\n",
       "      <th>DAYS_LAST_PHONE_CHANGE</th>\n",
       "      <th>FLAG_DOCUMENT_2</th>\n",
       "      <th>FLAG_DOCUMENT_3</th>\n",
       "      <th>FLAG_DOCUMENT_21</th>\n",
       "      <th>AMT_REQ_CREDIT_BUREAU_HOUR</th>\n",
       "      <th>AMT_REQ_CREDIT_BUREAU_DAY</th>\n",
       "      <th>AMT_REQ_CREDIT_BUREAU_WEEK</th>\n",
       "      <th>AMT_REQ_CREDIT_BUREAU_YEAR</th>\n",
       "      <th>NAME_TYPE_SUITE_Other_A</th>\n",
       "      <th>NAME_TYPE_SUITE_Other_B</th>\n",
       "      <th>NAME_TYPE_SUITE_Unaccompanied</th>\n",
       "      <th>NAME_INCOME_TYPE_Maternityleave</th>\n",
       "      <th>NAME_INCOME_TYPE_Unemployed</th>\n",
       "      <th>NAME_INCOME_TYPE_Working</th>\n",
       "      <th>NAME_EDUCATION_TYPE_Incompletehigher</th>\n",
       "      <th>NAME_EDUCATION_TYPE_Lowersecondary</th>\n",
       "      <th>NAME_EDUCATION_TYPE_Secondarysecondaryspecial</th>\n",
       "      <th>NAME_FAMILY_STATUS_Civilmarriage</th>\n",
       "      <th>NAME_FAMILY_STATUS_Separated</th>\n",
       "      <th>NAME_FAMILY_STATUS_Singlenotmarried</th>\n",
       "      <th>NAME_HOUSING_TYPE_Municipalapartment</th>\n",
       "      <th>NAME_HOUSING_TYPE_Rentedapartment</th>\n",
       "      <th>NAME_HOUSING_TYPE_Withparents</th>\n",
       "      <th>OCCUPATION_TYPE_Cleaningstaff</th>\n",
       "      <th>OCCUPATION_TYPE_Cookingstaff</th>\n",
       "      <th>OCCUPATION_TYPE_Drivers</th>\n",
       "      <th>OCCUPATION_TYPE_Laborers</th>\n",
       "      <th>OCCUPATION_TYPE_LowskillLaborers</th>\n",
       "      <th>OCCUPATION_TYPE_Salesstaff</th>\n",
       "      <th>OCCUPATION_TYPE_Securitystaff</th>\n",
       "      <th>OCCUPATION_TYPE_Waitersbarmenstaff</th>\n",
       "      <th>WEEKDAY_APPR_PROCESS_START_FRIDAY</th>\n",
       "      <th>WEEKDAY_APPR_PROCESS_START_TUESDAY</th>\n",
       "      <th>WEEKDAY_APPR_PROCESS_START_WEDNESDAY</th>\n",
       "      <th>ORGANIZATION_TYPE_Agriculture</th>\n",
       "      <th>ORGANIZATION_TYPE_BusinessEntityType2</th>\n",
       "      <th>ORGANIZATION_TYPE_BusinessEntityType3</th>\n",
       "      <th>ORGANIZATION_TYPE_Cleaning</th>\n",
       "      <th>ORGANIZATION_TYPE_Construction</th>\n",
       "      <th>ORGANIZATION_TYPE_Industrytype1</th>\n",
       "      <th>ORGANIZATION_TYPE_Industrytype11</th>\n",
       "      <th>ORGANIZATION_TYPE_Industrytype13</th>\n",
       "      <th>ORGANIZATION_TYPE_Industrytype3</th>\n",
       "      <th>ORGANIZATION_TYPE_Industrytype4</th>\n",
       "      <th>ORGANIZATION_TYPE_Industrytype8</th>\n",
       "      <th>ORGANIZATION_TYPE_Mobile</th>\n",
       "      <th>ORGANIZATION_TYPE_Postal</th>\n",
       "      <th>ORGANIZATION_TYPE_Realtor</th>\n",
       "      <th>ORGANIZATION_TYPE_Restaurant</th>\n",
       "      <th>ORGANIZATION_TYPE_Security</th>\n",
       "      <th>ORGANIZATION_TYPE_Selfemployed</th>\n",
       "      <th>ORGANIZATION_TYPE_Tradetype1</th>\n",
       "      <th>ORGANIZATION_TYPE_Tradetype3</th>\n",
       "      <th>ORGANIZATION_TYPE_Tradetype7</th>\n",
       "      <th>ORGANIZATION_TYPE_Transporttype3</th>\n",
       "      <th>ORGANIZATION_TYPE_Transporttype4</th>\n",
       "      <th>HOUSETYPE_MODE_specifichousing</th>\n",
       "      <th>HOUSETYPE_MODE_terracedhouse</th>\n",
       "      <th>WALLSMATERIAL_MODE_Others</th>\n",
       "      <th>WALLSMATERIAL_MODE_Wooden</th>\n",
       "      <th>EMERGENCYSTATE_MODE_Yes</th>\n",
       "      <th>ANNUITY_INCOME_PERC</th>\n",
       "      <th>PAYMENT_RATE</th>\n",
       "      <th>BURO_DAYS_CREDIT_MIN</th>\n",
       "      <th>BURO_DAYS_CREDIT_MAX</th>\n",
       "      <th>BURO_DAYS_CREDIT_MEAN</th>\n",
       "      <th>BURO_DAYS_CREDIT_ENDDATE_MIN</th>\n",
       "      <th>BURO_DAYS_CREDIT_ENDDATE_MAX</th>\n",
       "      <th>BURO_DAYS_CREDIT_ENDDATE_MEAN</th>\n",
       "      <th>BURO_DAYS_CREDIT_UPDATE_MEAN</th>\n",
       "      <th>BURO_CREDIT_DAY_OVERDUE_MAX</th>\n",
       "      <th>BURO_CREDIT_DAY_OVERDUE_MEAN</th>\n",
       "      <th>BURO_AMT_CREDIT_MAX_OVERDUE_MEAN</th>\n",
       "      <th>BURO_AMT_CREDIT_SUM_DEBT_SUM</th>\n",
       "      <th>BURO_AMT_CREDIT_SUM_OVERDUE_MEAN</th>\n",
       "      <th>BURO_CNT_CREDIT_PROLONG_SUM</th>\n",
       "      <th>BURO_CREDIT_ACTIVE_Active_MEAN</th>\n",
       "      <th>BURO_CREDIT_ACTIVE_Bad debt_MEAN</th>\n",
       "      <th>BURO_CREDIT_ACTIVE_Sold_MEAN</th>\n",
       "      <th>BURO_CREDIT_CURRENCY_currency 1_MEAN</th>\n",
       "      <th>BURO_CREDIT_CURRENCY_currency 3_MEAN</th>\n",
       "      <th>BURO_CREDIT_TYPE_Credit card_MEAN</th>\n",
       "      <th>BURO_CREDIT_TYPE_Loan for working capital replenishment_MEAN</th>\n",
       "      <th>BURO_CREDIT_TYPE_Microloan_MEAN</th>\n",
       "      <th>ACTIVE_DAYS_CREDIT_MIN</th>\n",
       "      <th>ACTIVE_DAYS_CREDIT_MAX</th>\n",
       "      <th>ACTIVE_DAYS_CREDIT_MEAN</th>\n",
       "      <th>ACTIVE_DAYS_CREDIT_ENDDATE_MIN</th>\n",
       "      <th>ACTIVE_DAYS_CREDIT_ENDDATE_MAX</th>\n",
       "      <th>ACTIVE_DAYS_CREDIT_ENDDATE_MEAN</th>\n",
       "      <th>ACTIVE_DAYS_CREDIT_UPDATE_MEAN</th>\n",
       "      <th>ACTIVE_CREDIT_DAY_OVERDUE_MAX</th>\n",
       "      <th>ACTIVE_CREDIT_DAY_OVERDUE_MEAN</th>\n",
       "      <th>ACTIVE_AMT_CREDIT_SUM_DEBT_SUM</th>\n",
       "      <th>ACTIVE_AMT_CREDIT_SUM_OVERDUE_MEAN</th>\n",
       "      <th>ACTIVE_CNT_CREDIT_PROLONG_SUM</th>\n",
       "      <th>ACTIVE_MONTHS_BALANCE_SIZE_SUM</th>\n",
       "      <th>CLOSED_DAYS_CREDIT_MIN</th>\n",
       "      <th>CLOSED_DAYS_CREDIT_MAX</th>\n",
       "      <th>CLOSED_DAYS_CREDIT_MEAN</th>\n",
       "      <th>CLOSED_DAYS_CREDIT_ENDDATE_MIN</th>\n",
       "      <th>CLOSED_DAYS_CREDIT_ENDDATE_MEAN</th>\n",
       "      <th>CLOSED_DAYS_CREDIT_UPDATE_MEAN</th>\n",
       "      <th>CLOSED_CREDIT_DAY_OVERDUE_MAX</th>\n",
       "      <th>CLOSED_CREDIT_DAY_OVERDUE_MEAN</th>\n",
       "      <th>CLOSED_AMT_CREDIT_MAX_OVERDUE_MEAN</th>\n",
       "      <th>CLOSED_AMT_CREDIT_SUM_DEBT_MAX</th>\n",
       "      <th>CLOSED_AMT_CREDIT_SUM_DEBT_MEAN</th>\n",
       "      <th>CLOSED_AMT_CREDIT_SUM_DEBT_SUM</th>\n",
       "      <th>CLOSED_AMT_CREDIT_SUM_LIMIT_MEAN</th>\n",
       "      <th>CLOSED_AMT_CREDIT_SUM_LIMIT_SUM</th>\n",
       "      <th>PREV_DAYS_DECISION_MIN</th>\n",
       "      <th>PREV_DAYS_DECISION_MAX</th>\n",
       "      <th>PREV_DAYS_DECISION_MEAN</th>\n",
       "      <th>PREV_CNT_PAYMENT_MEAN</th>\n",
       "      <th>PREV_CNT_PAYMENT_SUM</th>\n",
       "      <th>PREV_NAME_CONTRACT_TYPE_Cash loans_MEAN</th>\n",
       "      <th>PREV_NAME_CONTRACT_TYPE_Revolving loans_MEAN</th>\n",
       "      <th>PREV_NAME_CONTRACT_TYPE_XNA_MEAN</th>\n",
       "      <th>PREV_WEEKDAY_APPR_PROCESS_START_FRIDAY_MEAN</th>\n",
       "      <th>PREV_WEEKDAY_APPR_PROCESS_START_MONDAY_MEAN</th>\n",
       "      <th>PREV_WEEKDAY_APPR_PROCESS_START_THURSDAY_MEAN</th>\n",
       "      <th>PREV_WEEKDAY_APPR_PROCESS_START_WEDNESDAY_MEAN</th>\n",
       "      <th>PREV_NAME_CASH_LOAN_PURPOSE_Building a house or an annex_MEAN</th>\n",
       "      <th>PREV_NAME_CASH_LOAN_PURPOSE_Business development_MEAN</th>\n",
       "      <th>PREV_NAME_CASH_LOAN_PURPOSE_Buying a garage_MEAN</th>\n",
       "      <th>PREV_NAME_CASH_LOAN_PURPOSE_Buying a holiday home / land_MEAN</th>\n",
       "      <th>PREV_NAME_CASH_LOAN_PURPOSE_Buying a home_MEAN</th>\n",
       "      <th>PREV_NAME_CASH_LOAN_PURPOSE_Buying a new car_MEAN</th>\n",
       "      <th>PREV_NAME_CASH_LOAN_PURPOSE_Buying a used car_MEAN</th>\n",
       "      <th>PREV_NAME_CASH_LOAN_PURPOSE_Car repairs_MEAN</th>\n",
       "      <th>PREV_NAME_CASH_LOAN_PURPOSE_Education_MEAN</th>\n",
       "      <th>PREV_NAME_CASH_LOAN_PURPOSE_Everyday expenses_MEAN</th>\n",
       "      <th>PREV_NAME_CASH_LOAN_PURPOSE_Furniture_MEAN</th>\n",
       "      <th>PREV_NAME_CASH_LOAN_PURPOSE_Gasification / water supply_MEAN</th>\n",
       "      <th>PREV_NAME_CASH_LOAN_PURPOSE_Hobby_MEAN</th>\n",
       "      <th>PREV_NAME_CASH_LOAN_PURPOSE_Journey_MEAN</th>\n",
       "      <th>PREV_NAME_CASH_LOAN_PURPOSE_Medicine_MEAN</th>\n",
       "      <th>PREV_NAME_CASH_LOAN_PURPOSE_Other_MEAN</th>\n",
       "      <th>PREV_NAME_CASH_LOAN_PURPOSE_Payments on other loans_MEAN</th>\n",
       "      <th>PREV_NAME_CASH_LOAN_PURPOSE_Purchase of electronic equipment_MEAN</th>\n",
       "      <th>PREV_NAME_CASH_LOAN_PURPOSE_Refusal to name the goal_MEAN</th>\n",
       "      <th>PREV_NAME_CASH_LOAN_PURPOSE_Repairs_MEAN</th>\n",
       "      <th>PREV_NAME_CASH_LOAN_PURPOSE_Urgent needs_MEAN</th>\n",
       "      <th>PREV_NAME_CASH_LOAN_PURPOSE_Wedding / gift / holiday_MEAN</th>\n",
       "      <th>PREV_NAME_CONTRACT_STATUS_Canceled_MEAN</th>\n",
       "      <th>PREV_NAME_CONTRACT_STATUS_Refused_MEAN</th>\n",
       "      <th>PREV_NAME_CONTRACT_STATUS_Unused offer_MEAN</th>\n",
       "      <th>PREV_NAME_PAYMENT_TYPE_XNA_MEAN</th>\n",
       "      <th>PREV_CODE_REJECT_REASON_CLIENT_MEAN</th>\n",
       "      <th>PREV_CODE_REJECT_REASON_HC_MEAN</th>\n",
       "      <th>PREV_CODE_REJECT_REASON_LIMIT_MEAN</th>\n",
       "      <th>PREV_CODE_REJECT_REASON_SCO_MEAN</th>\n",
       "      <th>PREV_CODE_REJECT_REASON_SCOFR_MEAN</th>\n",
       "      <th>PREV_CODE_REJECT_REASON_VERIF_MEAN</th>\n",
       "      <th>PREV_CODE_REJECT_REASON_XNA_MEAN</th>\n",
       "      <th>PREV_NAME_TYPE_SUITE_Group of people_MEAN</th>\n",
       "      <th>PREV_NAME_TYPE_SUITE_Other_A_MEAN</th>\n",
       "      <th>PREV_NAME_TYPE_SUITE_Other_B_MEAN</th>\n",
       "      <th>PREV_NAME_TYPE_SUITE_nan_MEAN</th>\n",
       "      <th>PREV_NAME_CLIENT_TYPE_New_MEAN</th>\n",
       "      <th>PREV_NAME_CLIENT_TYPE_XNA_MEAN</th>\n",
       "      <th>PREV_NAME_GOODS_CATEGORY_Auto Accessories_MEAN</th>\n",
       "      <th>PREV_NAME_GOODS_CATEGORY_Direct Sales_MEAN</th>\n",
       "      <th>PREV_NAME_GOODS_CATEGORY_Insurance_MEAN</th>\n",
       "      <th>PREV_NAME_GOODS_CATEGORY_Jewelry_MEAN</th>\n",
       "      <th>PREV_NAME_GOODS_CATEGORY_Mobile_MEAN</th>\n",
       "      <th>PREV_NAME_GOODS_CATEGORY_Vehicles_MEAN</th>\n",
       "      <th>PREV_NAME_GOODS_CATEGORY_XNA_MEAN</th>\n",
       "      <th>PREV_NAME_PORTFOLIO_Cards_MEAN</th>\n",
       "      <th>PREV_NAME_PORTFOLIO_Cash_MEAN</th>\n",
       "      <th>PREV_NAME_PORTFOLIO_XNA_MEAN</th>\n",
       "      <th>PREV_NAME_PRODUCT_TYPE_walk-in_MEAN</th>\n",
       "      <th>PREV_CHANNEL_TYPE_AP+ (Cash loan)_MEAN</th>\n",
       "      <th>PREV_CHANNEL_TYPE_Contact center_MEAN</th>\n",
       "      <th>PREV_CHANNEL_TYPE_Credit and cash offices_MEAN</th>\n",
       "      <th>PREV_NAME_SELLER_INDUSTRY_Auto technology_MEAN</th>\n",
       "      <th>PREV_NAME_SELLER_INDUSTRY_Connectivity_MEAN</th>\n",
       "      <th>PREV_NAME_SELLER_INDUSTRY_Jewelry_MEAN</th>\n",
       "      <th>PREV_NAME_SELLER_INDUSTRY_XNA_MEAN</th>\n",
       "      <th>PREV_NAME_YIELD_GROUP_XNA_MEAN</th>\n",
       "      <th>PREV_NAME_YIELD_GROUP_high_MEAN</th>\n",
       "      <th>PREV_PRODUCT_COMBINATION_Card Street_MEAN</th>\n",
       "      <th>PREV_PRODUCT_COMBINATION_Card X-Sell_MEAN</th>\n",
       "      <th>PREV_PRODUCT_COMBINATION_Cash_MEAN</th>\n",
       "      <th>PREV_PRODUCT_COMBINATION_Cash Street: high_MEAN</th>\n",
       "      <th>PREV_PRODUCT_COMBINATION_Cash Street: low_MEAN</th>\n",
       "      <th>PREV_PRODUCT_COMBINATION_Cash Street: middle_MEAN</th>\n",
       "      <th>PREV_PRODUCT_COMBINATION_Cash X-Sell: high_MEAN</th>\n",
       "      <th>PREV_PRODUCT_COMBINATION_POS mobile with interest_MEAN</th>\n",
       "      <th>PREV_PRODUCT_COMBINATION_nan_MEAN</th>\n",
       "      <th>APPROVED_DAYS_DECISION_MIN</th>\n",
       "      <th>APPROVED_DAYS_DECISION_MAX</th>\n",
       "      <th>APPROVED_DAYS_DECISION_MEAN</th>\n",
       "      <th>APPROVED_CNT_PAYMENT_MEAN</th>\n",
       "      <th>POS_MONTHS_BALANCE_MEAN</th>\n",
       "      <th>POS_SK_DPD_MAX</th>\n",
       "      <th>POS_SK_DPD_MEAN</th>\n",
       "      <th>POS_SK_DPD_DEF_MAX</th>\n",
       "      <th>POS_SK_DPD_DEF_MEAN</th>\n",
       "      <th>POS_NAME_CONTRACT_STATUS_Amortized debt_MEAN</th>\n",
       "      <th>POS_NAME_CONTRACT_STATUS_Approved_MEAN</th>\n",
       "      <th>POS_NAME_CONTRACT_STATUS_Demand_MEAN</th>\n",
       "      <th>POS_NAME_CONTRACT_STATUS_Returned to the store_MEAN</th>\n",
       "      <th>POS_NAME_CONTRACT_STATUS_Signed_MEAN</th>\n",
       "      <th>INSTAL_DPD_MAX</th>\n",
       "      <th>INSTAL_DPD_MEAN</th>\n",
       "      <th>INSTAL_DPD_SUM</th>\n",
       "      <th>INSTAL_PAYMENT_PERC_MAX</th>\n",
       "      <th>INSTAL_PAYMENT_PERC_MEAN</th>\n",
       "      <th>INSTAL_PAYMENT_DIFF_MAX</th>\n",
       "      <th>INSTAL_PAYMENT_DIFF_MEAN</th>\n",
       "      <th>INSTAL_PAYMENT_DIFF_SUM</th>\n",
       "      <th>INSTAL_AMT_INSTALMENT_MAX</th>\n",
       "      <th>INSTAL_AMT_PAYMENT_MAX</th>\n",
       "      <th>INSTAL_DAYS_ENTRY_PAYMENT_MEAN</th>\n",
       "      <th>INSTAL_DAYS_ENTRY_PAYMENT_SUM</th>\n",
       "      <th>TARGET</th>\n",
       "    </tr>\n",
       "  </thead>\n",
       "  <tbody>\n",
       "    <tr>\n",
       "      <th>129637</th>\n",
       "      <td>1.0</td>\n",
       "      <td>0.0</td>\n",
       "      <td>-21559.0</td>\n",
       "      <td>-3762.879875</td>\n",
       "      <td>-2490.0</td>\n",
       "      <td>-2813.0</td>\n",
       "      <td>1.0</td>\n",
       "      <td>0.0</td>\n",
       "      <td>0.0</td>\n",
       "      <td>2.0</td>\n",
       "      <td>2.0</td>\n",
       "      <td>2.0</td>\n",
       "      <td>0.0</td>\n",
       "      <td>0.0</td>\n",
       "      <td>0.0</td>\n",
       "      <td>0.0</td>\n",
       "      <td>0.0</td>\n",
       "      <td>0.0</td>\n",
       "      <td>1.0</td>\n",
       "      <td>0.0</td>\n",
       "      <td>1.0</td>\n",
       "      <td>0.0</td>\n",
       "      <td>-919.0</td>\n",
       "      <td>0.0</td>\n",
       "      <td>1.0</td>\n",
       "      <td>0.0</td>\n",
       "      <td>0.0</td>\n",
       "      <td>0.0</td>\n",
       "      <td>0.0</td>\n",
       "      <td>0.0</td>\n",
       "      <td>0.0</td>\n",
       "      <td>0.0</td>\n",
       "      <td>1.0</td>\n",
       "      <td>0.0</td>\n",
       "      <td>0.0</td>\n",
       "      <td>0.0</td>\n",
       "      <td>0.0</td>\n",
       "      <td>0.0</td>\n",
       "      <td>1.0</td>\n",
       "      <td>0.0</td>\n",
       "      <td>0.0</td>\n",
       "      <td>0.0</td>\n",
       "      <td>0.0</td>\n",
       "      <td>0.0</td>\n",
       "      <td>0.0</td>\n",
       "      <td>0.0</td>\n",
       "      <td>0.0</td>\n",
       "      <td>0.0</td>\n",
       "      <td>0.0</td>\n",
       "      <td>0.0</td>\n",
       "      <td>0.0</td>\n",
       "      <td>0.0</td>\n",
       "      <td>0.0</td>\n",
       "      <td>1.0</td>\n",
       "      <td>0.0</td>\n",
       "      <td>0.0</td>\n",
       "      <td>0.0</td>\n",
       "      <td>0.0</td>\n",
       "      <td>0.0</td>\n",
       "      <td>0.0</td>\n",
       "      <td>0.0</td>\n",
       "      <td>0.0</td>\n",
       "      <td>0.0</td>\n",
       "      <td>0.0</td>\n",
       "      <td>0.0</td>\n",
       "      <td>0.0</td>\n",
       "      <td>0.0</td>\n",
       "      <td>0.0</td>\n",
       "      <td>0.0</td>\n",
       "      <td>0.0</td>\n",
       "      <td>0.0</td>\n",
       "      <td>0.0</td>\n",
       "      <td>0.0</td>\n",
       "      <td>0.0</td>\n",
       "      <td>0.0</td>\n",
       "      <td>0.0</td>\n",
       "      <td>0.0</td>\n",
       "      <td>0.0</td>\n",
       "      <td>0.0</td>\n",
       "      <td>0.0</td>\n",
       "      <td>0.0</td>\n",
       "      <td>0.0</td>\n",
       "      <td>0.0</td>\n",
       "      <td>0.243182</td>\n",
       "      <td>0.048636</td>\n",
       "      <td>-1221.0</td>\n",
       "      <td>-55.0</td>\n",
       "      <td>-702.727273</td>\n",
       "      <td>-855.0</td>\n",
       "      <td>1771.0</td>\n",
       "      <td>431.1</td>\n",
       "      <td>-542.727273</td>\n",
       "      <td>0.0</td>\n",
       "      <td>0.0</td>\n",
       "      <td>7.5</td>\n",
       "      <td>0.0</td>\n",
       "      <td>0.0</td>\n",
       "      <td>0.0</td>\n",
       "      <td>0.636364</td>\n",
       "      <td>0.0</td>\n",
       "      <td>0.0</td>\n",
       "      <td>1.0</td>\n",
       "      <td>0.0</td>\n",
       "      <td>0.454545</td>\n",
       "      <td>0.0</td>\n",
       "      <td>0.0</td>\n",
       "      <td>-990.0</td>\n",
       "      <td>-55.0</td>\n",
       "      <td>-499.428571</td>\n",
       "      <td>890.0</td>\n",
       "      <td>1771.0</td>\n",
       "      <td>1246.0</td>\n",
       "      <td>-422.142857</td>\n",
       "      <td>0.0</td>\n",
       "      <td>0.0</td>\n",
       "      <td>0.0</td>\n",
       "      <td>0.0</td>\n",
       "      <td>0.0</td>\n",
       "      <td>0.0</td>\n",
       "      <td>-1221.0</td>\n",
       "      <td>-803.0</td>\n",
       "      <td>-1058.5</td>\n",
       "      <td>-855.0</td>\n",
       "      <td>-791.25</td>\n",
       "      <td>-753.75</td>\n",
       "      <td>0.0</td>\n",
       "      <td>0.0</td>\n",
       "      <td>45.0</td>\n",
       "      <td>0.0</td>\n",
       "      <td>0.0</td>\n",
       "      <td>0.0</td>\n",
       "      <td>0.0</td>\n",
       "      <td>0.0</td>\n",
       "      <td>-919.0</td>\n",
       "      <td>-684.0</td>\n",
       "      <td>-803.0</td>\n",
       "      <td>15.6</td>\n",
       "      <td>78.0</td>\n",
       "      <td>0.2</td>\n",
       "      <td>0.0</td>\n",
       "      <td>0.0</td>\n",
       "      <td>0.0</td>\n",
       "      <td>0.0</td>\n",
       "      <td>0.0</td>\n",
       "      <td>0.2</td>\n",
       "      <td>0.0</td>\n",
       "      <td>0.0</td>\n",
       "      <td>0.0</td>\n",
       "      <td>0.0</td>\n",
       "      <td>0.0</td>\n",
       "      <td>0.0</td>\n",
       "      <td>0.0</td>\n",
       "      <td>0.0</td>\n",
       "      <td>0.0</td>\n",
       "      <td>0.0</td>\n",
       "      <td>0.0</td>\n",
       "      <td>0.0</td>\n",
       "      <td>0.0</td>\n",
       "      <td>0.0</td>\n",
       "      <td>0.0</td>\n",
       "      <td>0.0</td>\n",
       "      <td>0.0</td>\n",
       "      <td>0.0</td>\n",
       "      <td>0.0</td>\n",
       "      <td>0.0</td>\n",
       "      <td>0.0</td>\n",
       "      <td>0.0</td>\n",
       "      <td>0.0</td>\n",
       "      <td>0.6</td>\n",
       "      <td>0.0</td>\n",
       "      <td>0.0</td>\n",
       "      <td>0.0</td>\n",
       "      <td>0.0</td>\n",
       "      <td>0.6</td>\n",
       "      <td>0.0</td>\n",
       "      <td>0.0</td>\n",
       "      <td>0.0</td>\n",
       "      <td>0.0</td>\n",
       "      <td>0.0</td>\n",
       "      <td>0.0</td>\n",
       "      <td>0.0</td>\n",
       "      <td>0.0</td>\n",
       "      <td>0.2</td>\n",
       "      <td>0.0</td>\n",
       "      <td>0.0</td>\n",
       "      <td>0.0</td>\n",
       "      <td>0.0</td>\n",
       "      <td>0.0</td>\n",
       "      <td>0.0</td>\n",
       "      <td>0.0</td>\n",
       "      <td>0.2</td>\n",
       "      <td>0.0</td>\n",
       "      <td>0.2</td>\n",
       "      <td>0.0</td>\n",
       "      <td>0.0</td>\n",
       "      <td>0.0</td>\n",
       "      <td>0.0</td>\n",
       "      <td>0.2</td>\n",
       "      <td>0.0</td>\n",
       "      <td>0.0</td>\n",
       "      <td>0.0</td>\n",
       "      <td>0.2</td>\n",
       "      <td>0.0</td>\n",
       "      <td>0.6</td>\n",
       "      <td>0.0</td>\n",
       "      <td>0.0</td>\n",
       "      <td>0.0</td>\n",
       "      <td>0.0</td>\n",
       "      <td>0.0</td>\n",
       "      <td>0.0</td>\n",
       "      <td>0.2</td>\n",
       "      <td>0.0</td>\n",
       "      <td>0.0</td>\n",
       "      <td>-919.0</td>\n",
       "      <td>-684.0</td>\n",
       "      <td>-801.5</td>\n",
       "      <td>30.0</td>\n",
       "      <td>-24.307692</td>\n",
       "      <td>0.0</td>\n",
       "      <td>0.0</td>\n",
       "      <td>0.0</td>\n",
       "      <td>0.0</td>\n",
       "      <td>0.0</td>\n",
       "      <td>0.0</td>\n",
       "      <td>0.0</td>\n",
       "      <td>0.0</td>\n",
       "      <td>0.0</td>\n",
       "      <td>0.0</td>\n",
       "      <td>0.0</td>\n",
       "      <td>0.0</td>\n",
       "      <td>1.0</td>\n",
       "      <td>1.0</td>\n",
       "      <td>0.0</td>\n",
       "      <td>0.0</td>\n",
       "      <td>0.0</td>\n",
       "      <td>440479.62</td>\n",
       "      <td>440479.62</td>\n",
       "      <td>-749.727273</td>\n",
       "      <td>-8247.0</td>\n",
       "      <td>0</td>\n",
       "    </tr>\n",
       "  </tbody>\n",
       "</table>\n",
       "</div>"
      ],
      "text/plain": [
       "        CODE_GENDER  CNT_CHILDREN  DAYS_BIRTH  DAYS_EMPLOYED  \\\n",
       "129637          1.0           0.0    -21559.0   -3762.879875   \n",
       "\n",
       "        DAYS_REGISTRATION  DAYS_ID_PUBLISH  FLAG_MOBIL  FLAG_EMP_PHONE  \\\n",
       "129637            -2490.0          -2813.0         1.0             0.0   \n",
       "\n",
       "        FLAG_WORK_PHONE  CNT_FAM_MEMBERS  REGION_RATING_CLIENT  \\\n",
       "129637              0.0              2.0                   2.0   \n",
       "\n",
       "        REGION_RATING_CLIENT_W_CITY  REG_REGION_NOT_LIVE_REGION  \\\n",
       "129637                          2.0                         0.0   \n",
       "\n",
       "        REG_REGION_NOT_WORK_REGION  LIVE_REGION_NOT_WORK_REGION  \\\n",
       "129637                         0.0                          0.0   \n",
       "\n",
       "        REG_CITY_NOT_LIVE_CITY  REG_CITY_NOT_WORK_CITY  \\\n",
       "129637                     0.0                     0.0   \n",
       "\n",
       "        LIVE_CITY_NOT_WORK_CITY  OBS_30_CNT_SOCIAL_CIRCLE  \\\n",
       "129637                      0.0                       1.0   \n",
       "\n",
       "        DEF_30_CNT_SOCIAL_CIRCLE  OBS_60_CNT_SOCIAL_CIRCLE  \\\n",
       "129637                       0.0                       1.0   \n",
       "\n",
       "        DEF_60_CNT_SOCIAL_CIRCLE  DAYS_LAST_PHONE_CHANGE  FLAG_DOCUMENT_2  \\\n",
       "129637                       0.0                  -919.0              0.0   \n",
       "\n",
       "        FLAG_DOCUMENT_3  FLAG_DOCUMENT_21  AMT_REQ_CREDIT_BUREAU_HOUR  \\\n",
       "129637              1.0               0.0                         0.0   \n",
       "\n",
       "        AMT_REQ_CREDIT_BUREAU_DAY  AMT_REQ_CREDIT_BUREAU_WEEK  \\\n",
       "129637                        0.0                         0.0   \n",
       "\n",
       "        AMT_REQ_CREDIT_BUREAU_YEAR  NAME_TYPE_SUITE_Other_A  \\\n",
       "129637                         0.0                      0.0   \n",
       "\n",
       "        NAME_TYPE_SUITE_Other_B  NAME_TYPE_SUITE_Unaccompanied  \\\n",
       "129637                      0.0                            1.0   \n",
       "\n",
       "        NAME_INCOME_TYPE_Maternityleave  NAME_INCOME_TYPE_Unemployed  \\\n",
       "129637                              0.0                          0.0   \n",
       "\n",
       "        NAME_INCOME_TYPE_Working  NAME_EDUCATION_TYPE_Incompletehigher  \\\n",
       "129637                       0.0                                   0.0   \n",
       "\n",
       "        NAME_EDUCATION_TYPE_Lowersecondary  \\\n",
       "129637                                 0.0   \n",
       "\n",
       "        NAME_EDUCATION_TYPE_Secondarysecondaryspecial  \\\n",
       "129637                                            1.0   \n",
       "\n",
       "        NAME_FAMILY_STATUS_Civilmarriage  NAME_FAMILY_STATUS_Separated  \\\n",
       "129637                               0.0                           0.0   \n",
       "\n",
       "        NAME_FAMILY_STATUS_Singlenotmarried  \\\n",
       "129637                                  0.0   \n",
       "\n",
       "        NAME_HOUSING_TYPE_Municipalapartment  \\\n",
       "129637                                   0.0   \n",
       "\n",
       "        NAME_HOUSING_TYPE_Rentedapartment  NAME_HOUSING_TYPE_Withparents  \\\n",
       "129637                                0.0                            0.0   \n",
       "\n",
       "        OCCUPATION_TYPE_Cleaningstaff  OCCUPATION_TYPE_Cookingstaff  \\\n",
       "129637                            0.0                           0.0   \n",
       "\n",
       "        OCCUPATION_TYPE_Drivers  OCCUPATION_TYPE_Laborers  \\\n",
       "129637                      0.0                       0.0   \n",
       "\n",
       "        OCCUPATION_TYPE_LowskillLaborers  OCCUPATION_TYPE_Salesstaff  \\\n",
       "129637                               0.0                         0.0   \n",
       "\n",
       "        OCCUPATION_TYPE_Securitystaff  OCCUPATION_TYPE_Waitersbarmenstaff  \\\n",
       "129637                            0.0                                 0.0   \n",
       "\n",
       "        WEEKDAY_APPR_PROCESS_START_FRIDAY  WEEKDAY_APPR_PROCESS_START_TUESDAY  \\\n",
       "129637                                1.0                                 0.0   \n",
       "\n",
       "        WEEKDAY_APPR_PROCESS_START_WEDNESDAY  ORGANIZATION_TYPE_Agriculture  \\\n",
       "129637                                   0.0                            0.0   \n",
       "\n",
       "        ORGANIZATION_TYPE_BusinessEntityType2  \\\n",
       "129637                                    0.0   \n",
       "\n",
       "        ORGANIZATION_TYPE_BusinessEntityType3  ORGANIZATION_TYPE_Cleaning  \\\n",
       "129637                                    0.0                         0.0   \n",
       "\n",
       "        ORGANIZATION_TYPE_Construction  ORGANIZATION_TYPE_Industrytype1  \\\n",
       "129637                             0.0                              0.0   \n",
       "\n",
       "        ORGANIZATION_TYPE_Industrytype11  ORGANIZATION_TYPE_Industrytype13  \\\n",
       "129637                               0.0                               0.0   \n",
       "\n",
       "        ORGANIZATION_TYPE_Industrytype3  ORGANIZATION_TYPE_Industrytype4  \\\n",
       "129637                              0.0                              0.0   \n",
       "\n",
       "        ORGANIZATION_TYPE_Industrytype8  ORGANIZATION_TYPE_Mobile  \\\n",
       "129637                              0.0                       0.0   \n",
       "\n",
       "        ORGANIZATION_TYPE_Postal  ORGANIZATION_TYPE_Realtor  \\\n",
       "129637                       0.0                        0.0   \n",
       "\n",
       "        ORGANIZATION_TYPE_Restaurant  ORGANIZATION_TYPE_Security  \\\n",
       "129637                           0.0                         0.0   \n",
       "\n",
       "        ORGANIZATION_TYPE_Selfemployed  ORGANIZATION_TYPE_Tradetype1  \\\n",
       "129637                             0.0                           0.0   \n",
       "\n",
       "        ORGANIZATION_TYPE_Tradetype3  ORGANIZATION_TYPE_Tradetype7  \\\n",
       "129637                           0.0                           0.0   \n",
       "\n",
       "        ORGANIZATION_TYPE_Transporttype3  ORGANIZATION_TYPE_Transporttype4  \\\n",
       "129637                               0.0                               0.0   \n",
       "\n",
       "        HOUSETYPE_MODE_specifichousing  HOUSETYPE_MODE_terracedhouse  \\\n",
       "129637                             0.0                           0.0   \n",
       "\n",
       "        WALLSMATERIAL_MODE_Others  WALLSMATERIAL_MODE_Wooden  \\\n",
       "129637                        0.0                        0.0   \n",
       "\n",
       "        EMERGENCYSTATE_MODE_Yes  ANNUITY_INCOME_PERC  PAYMENT_RATE  \\\n",
       "129637                      0.0             0.243182      0.048636   \n",
       "\n",
       "        BURO_DAYS_CREDIT_MIN  BURO_DAYS_CREDIT_MAX  BURO_DAYS_CREDIT_MEAN  \\\n",
       "129637               -1221.0                 -55.0            -702.727273   \n",
       "\n",
       "        BURO_DAYS_CREDIT_ENDDATE_MIN  BURO_DAYS_CREDIT_ENDDATE_MAX  \\\n",
       "129637                        -855.0                        1771.0   \n",
       "\n",
       "        BURO_DAYS_CREDIT_ENDDATE_MEAN  BURO_DAYS_CREDIT_UPDATE_MEAN  \\\n",
       "129637                          431.1                   -542.727273   \n",
       "\n",
       "        BURO_CREDIT_DAY_OVERDUE_MAX  BURO_CREDIT_DAY_OVERDUE_MEAN  \\\n",
       "129637                          0.0                           0.0   \n",
       "\n",
       "        BURO_AMT_CREDIT_MAX_OVERDUE_MEAN  BURO_AMT_CREDIT_SUM_DEBT_SUM  \\\n",
       "129637                               7.5                           0.0   \n",
       "\n",
       "        BURO_AMT_CREDIT_SUM_OVERDUE_MEAN  BURO_CNT_CREDIT_PROLONG_SUM  \\\n",
       "129637                               0.0                          0.0   \n",
       "\n",
       "        BURO_CREDIT_ACTIVE_Active_MEAN  BURO_CREDIT_ACTIVE_Bad debt_MEAN  \\\n",
       "129637                        0.636364                               0.0   \n",
       "\n",
       "        BURO_CREDIT_ACTIVE_Sold_MEAN  BURO_CREDIT_CURRENCY_currency 1_MEAN  \\\n",
       "129637                           0.0                                   1.0   \n",
       "\n",
       "        BURO_CREDIT_CURRENCY_currency 3_MEAN  \\\n",
       "129637                                   0.0   \n",
       "\n",
       "        BURO_CREDIT_TYPE_Credit card_MEAN  \\\n",
       "129637                           0.454545   \n",
       "\n",
       "        BURO_CREDIT_TYPE_Loan for working capital replenishment_MEAN  \\\n",
       "129637                                                           0.0   \n",
       "\n",
       "        BURO_CREDIT_TYPE_Microloan_MEAN  ACTIVE_DAYS_CREDIT_MIN  \\\n",
       "129637                              0.0                  -990.0   \n",
       "\n",
       "        ACTIVE_DAYS_CREDIT_MAX  ACTIVE_DAYS_CREDIT_MEAN  \\\n",
       "129637                   -55.0              -499.428571   \n",
       "\n",
       "        ACTIVE_DAYS_CREDIT_ENDDATE_MIN  ACTIVE_DAYS_CREDIT_ENDDATE_MAX  \\\n",
       "129637                           890.0                          1771.0   \n",
       "\n",
       "        ACTIVE_DAYS_CREDIT_ENDDATE_MEAN  ACTIVE_DAYS_CREDIT_UPDATE_MEAN  \\\n",
       "129637                           1246.0                     -422.142857   \n",
       "\n",
       "        ACTIVE_CREDIT_DAY_OVERDUE_MAX  ACTIVE_CREDIT_DAY_OVERDUE_MEAN  \\\n",
       "129637                            0.0                             0.0   \n",
       "\n",
       "        ACTIVE_AMT_CREDIT_SUM_DEBT_SUM  ACTIVE_AMT_CREDIT_SUM_OVERDUE_MEAN  \\\n",
       "129637                             0.0                                 0.0   \n",
       "\n",
       "        ACTIVE_CNT_CREDIT_PROLONG_SUM  ACTIVE_MONTHS_BALANCE_SIZE_SUM  \\\n",
       "129637                            0.0                             0.0   \n",
       "\n",
       "        CLOSED_DAYS_CREDIT_MIN  CLOSED_DAYS_CREDIT_MAX  \\\n",
       "129637                 -1221.0                  -803.0   \n",
       "\n",
       "        CLOSED_DAYS_CREDIT_MEAN  CLOSED_DAYS_CREDIT_ENDDATE_MIN  \\\n",
       "129637                  -1058.5                          -855.0   \n",
       "\n",
       "        CLOSED_DAYS_CREDIT_ENDDATE_MEAN  CLOSED_DAYS_CREDIT_UPDATE_MEAN  \\\n",
       "129637                          -791.25                         -753.75   \n",
       "\n",
       "        CLOSED_CREDIT_DAY_OVERDUE_MAX  CLOSED_CREDIT_DAY_OVERDUE_MEAN  \\\n",
       "129637                            0.0                             0.0   \n",
       "\n",
       "        CLOSED_AMT_CREDIT_MAX_OVERDUE_MEAN  CLOSED_AMT_CREDIT_SUM_DEBT_MAX  \\\n",
       "129637                                45.0                             0.0   \n",
       "\n",
       "        CLOSED_AMT_CREDIT_SUM_DEBT_MEAN  CLOSED_AMT_CREDIT_SUM_DEBT_SUM  \\\n",
       "129637                              0.0                             0.0   \n",
       "\n",
       "        CLOSED_AMT_CREDIT_SUM_LIMIT_MEAN  CLOSED_AMT_CREDIT_SUM_LIMIT_SUM  \\\n",
       "129637                               0.0                              0.0   \n",
       "\n",
       "        PREV_DAYS_DECISION_MIN  PREV_DAYS_DECISION_MAX  \\\n",
       "129637                  -919.0                  -684.0   \n",
       "\n",
       "        PREV_DAYS_DECISION_MEAN  PREV_CNT_PAYMENT_MEAN  PREV_CNT_PAYMENT_SUM  \\\n",
       "129637                   -803.0                   15.6                  78.0   \n",
       "\n",
       "        PREV_NAME_CONTRACT_TYPE_Cash loans_MEAN  \\\n",
       "129637                                      0.2   \n",
       "\n",
       "        PREV_NAME_CONTRACT_TYPE_Revolving loans_MEAN  \\\n",
       "129637                                           0.0   \n",
       "\n",
       "        PREV_NAME_CONTRACT_TYPE_XNA_MEAN  \\\n",
       "129637                               0.0   \n",
       "\n",
       "        PREV_WEEKDAY_APPR_PROCESS_START_FRIDAY_MEAN  \\\n",
       "129637                                          0.0   \n",
       "\n",
       "        PREV_WEEKDAY_APPR_PROCESS_START_MONDAY_MEAN  \\\n",
       "129637                                          0.0   \n",
       "\n",
       "        PREV_WEEKDAY_APPR_PROCESS_START_THURSDAY_MEAN  \\\n",
       "129637                                            0.0   \n",
       "\n",
       "        PREV_WEEKDAY_APPR_PROCESS_START_WEDNESDAY_MEAN  \\\n",
       "129637                                             0.2   \n",
       "\n",
       "        PREV_NAME_CASH_LOAN_PURPOSE_Building a house or an annex_MEAN  \\\n",
       "129637                                                            0.0   \n",
       "\n",
       "        PREV_NAME_CASH_LOAN_PURPOSE_Business development_MEAN  \\\n",
       "129637                                                    0.0   \n",
       "\n",
       "        PREV_NAME_CASH_LOAN_PURPOSE_Buying a garage_MEAN  \\\n",
       "129637                                               0.0   \n",
       "\n",
       "        PREV_NAME_CASH_LOAN_PURPOSE_Buying a holiday home / land_MEAN  \\\n",
       "129637                                                            0.0   \n",
       "\n",
       "        PREV_NAME_CASH_LOAN_PURPOSE_Buying a home_MEAN  \\\n",
       "129637                                             0.0   \n",
       "\n",
       "        PREV_NAME_CASH_LOAN_PURPOSE_Buying a new car_MEAN  \\\n",
       "129637                                                0.0   \n",
       "\n",
       "        PREV_NAME_CASH_LOAN_PURPOSE_Buying a used car_MEAN  \\\n",
       "129637                                                 0.0   \n",
       "\n",
       "        PREV_NAME_CASH_LOAN_PURPOSE_Car repairs_MEAN  \\\n",
       "129637                                           0.0   \n",
       "\n",
       "        PREV_NAME_CASH_LOAN_PURPOSE_Education_MEAN  \\\n",
       "129637                                         0.0   \n",
       "\n",
       "        PREV_NAME_CASH_LOAN_PURPOSE_Everyday expenses_MEAN  \\\n",
       "129637                                                 0.0   \n",
       "\n",
       "        PREV_NAME_CASH_LOAN_PURPOSE_Furniture_MEAN  \\\n",
       "129637                                         0.0   \n",
       "\n",
       "        PREV_NAME_CASH_LOAN_PURPOSE_Gasification / water supply_MEAN  \\\n",
       "129637                                                           0.0   \n",
       "\n",
       "        PREV_NAME_CASH_LOAN_PURPOSE_Hobby_MEAN  \\\n",
       "129637                                     0.0   \n",
       "\n",
       "        PREV_NAME_CASH_LOAN_PURPOSE_Journey_MEAN  \\\n",
       "129637                                       0.0   \n",
       "\n",
       "        PREV_NAME_CASH_LOAN_PURPOSE_Medicine_MEAN  \\\n",
       "129637                                        0.0   \n",
       "\n",
       "        PREV_NAME_CASH_LOAN_PURPOSE_Other_MEAN  \\\n",
       "129637                                     0.0   \n",
       "\n",
       "        PREV_NAME_CASH_LOAN_PURPOSE_Payments on other loans_MEAN  \\\n",
       "129637                                                       0.0   \n",
       "\n",
       "        PREV_NAME_CASH_LOAN_PURPOSE_Purchase of electronic equipment_MEAN  \\\n",
       "129637                                                                0.0   \n",
       "\n",
       "        PREV_NAME_CASH_LOAN_PURPOSE_Refusal to name the goal_MEAN  \\\n",
       "129637                                                        0.0   \n",
       "\n",
       "        PREV_NAME_CASH_LOAN_PURPOSE_Repairs_MEAN  \\\n",
       "129637                                       0.0   \n",
       "\n",
       "        PREV_NAME_CASH_LOAN_PURPOSE_Urgent needs_MEAN  \\\n",
       "129637                                            0.0   \n",
       "\n",
       "        PREV_NAME_CASH_LOAN_PURPOSE_Wedding / gift / holiday_MEAN  \\\n",
       "129637                                                        0.0   \n",
       "\n",
       "        PREV_NAME_CONTRACT_STATUS_Canceled_MEAN  \\\n",
       "129637                                      0.0   \n",
       "\n",
       "        PREV_NAME_CONTRACT_STATUS_Refused_MEAN  \\\n",
       "129637                                     0.6   \n",
       "\n",
       "        PREV_NAME_CONTRACT_STATUS_Unused offer_MEAN  \\\n",
       "129637                                          0.0   \n",
       "\n",
       "        PREV_NAME_PAYMENT_TYPE_XNA_MEAN  PREV_CODE_REJECT_REASON_CLIENT_MEAN  \\\n",
       "129637                              0.0                                  0.0   \n",
       "\n",
       "        PREV_CODE_REJECT_REASON_HC_MEAN  PREV_CODE_REJECT_REASON_LIMIT_MEAN  \\\n",
       "129637                              0.0                                 0.6   \n",
       "\n",
       "        PREV_CODE_REJECT_REASON_SCO_MEAN  PREV_CODE_REJECT_REASON_SCOFR_MEAN  \\\n",
       "129637                               0.0                                 0.0   \n",
       "\n",
       "        PREV_CODE_REJECT_REASON_VERIF_MEAN  PREV_CODE_REJECT_REASON_XNA_MEAN  \\\n",
       "129637                                 0.0                               0.0   \n",
       "\n",
       "        PREV_NAME_TYPE_SUITE_Group of people_MEAN  \\\n",
       "129637                                        0.0   \n",
       "\n",
       "        PREV_NAME_TYPE_SUITE_Other_A_MEAN  PREV_NAME_TYPE_SUITE_Other_B_MEAN  \\\n",
       "129637                                0.0                                0.0   \n",
       "\n",
       "        PREV_NAME_TYPE_SUITE_nan_MEAN  PREV_NAME_CLIENT_TYPE_New_MEAN  \\\n",
       "129637                            0.0                             0.2   \n",
       "\n",
       "        PREV_NAME_CLIENT_TYPE_XNA_MEAN  \\\n",
       "129637                             0.0   \n",
       "\n",
       "        PREV_NAME_GOODS_CATEGORY_Auto Accessories_MEAN  \\\n",
       "129637                                             0.0   \n",
       "\n",
       "        PREV_NAME_GOODS_CATEGORY_Direct Sales_MEAN  \\\n",
       "129637                                         0.0   \n",
       "\n",
       "        PREV_NAME_GOODS_CATEGORY_Insurance_MEAN  \\\n",
       "129637                                      0.0   \n",
       "\n",
       "        PREV_NAME_GOODS_CATEGORY_Jewelry_MEAN  \\\n",
       "129637                                    0.0   \n",
       "\n",
       "        PREV_NAME_GOODS_CATEGORY_Mobile_MEAN  \\\n",
       "129637                                   0.0   \n",
       "\n",
       "        PREV_NAME_GOODS_CATEGORY_Vehicles_MEAN  \\\n",
       "129637                                     0.0   \n",
       "\n",
       "        PREV_NAME_GOODS_CATEGORY_XNA_MEAN  PREV_NAME_PORTFOLIO_Cards_MEAN  \\\n",
       "129637                                0.2                             0.0   \n",
       "\n",
       "        PREV_NAME_PORTFOLIO_Cash_MEAN  PREV_NAME_PORTFOLIO_XNA_MEAN  \\\n",
       "129637                            0.2                           0.0   \n",
       "\n",
       "        PREV_NAME_PRODUCT_TYPE_walk-in_MEAN  \\\n",
       "129637                                  0.0   \n",
       "\n",
       "        PREV_CHANNEL_TYPE_AP+ (Cash loan)_MEAN  \\\n",
       "129637                                     0.0   \n",
       "\n",
       "        PREV_CHANNEL_TYPE_Contact center_MEAN  \\\n",
       "129637                                    0.0   \n",
       "\n",
       "        PREV_CHANNEL_TYPE_Credit and cash offices_MEAN  \\\n",
       "129637                                             0.2   \n",
       "\n",
       "        PREV_NAME_SELLER_INDUSTRY_Auto technology_MEAN  \\\n",
       "129637                                             0.0   \n",
       "\n",
       "        PREV_NAME_SELLER_INDUSTRY_Connectivity_MEAN  \\\n",
       "129637                                          0.0   \n",
       "\n",
       "        PREV_NAME_SELLER_INDUSTRY_Jewelry_MEAN  \\\n",
       "129637                                     0.0   \n",
       "\n",
       "        PREV_NAME_SELLER_INDUSTRY_XNA_MEAN  PREV_NAME_YIELD_GROUP_XNA_MEAN  \\\n",
       "129637                                 0.2                             0.0   \n",
       "\n",
       "        PREV_NAME_YIELD_GROUP_high_MEAN  \\\n",
       "129637                              0.6   \n",
       "\n",
       "        PREV_PRODUCT_COMBINATION_Card Street_MEAN  \\\n",
       "129637                                        0.0   \n",
       "\n",
       "        PREV_PRODUCT_COMBINATION_Card X-Sell_MEAN  \\\n",
       "129637                                        0.0   \n",
       "\n",
       "        PREV_PRODUCT_COMBINATION_Cash_MEAN  \\\n",
       "129637                                 0.0   \n",
       "\n",
       "        PREV_PRODUCT_COMBINATION_Cash Street: high_MEAN  \\\n",
       "129637                                              0.0   \n",
       "\n",
       "        PREV_PRODUCT_COMBINATION_Cash Street: low_MEAN  \\\n",
       "129637                                             0.0   \n",
       "\n",
       "        PREV_PRODUCT_COMBINATION_Cash Street: middle_MEAN  \\\n",
       "129637                                                0.0   \n",
       "\n",
       "        PREV_PRODUCT_COMBINATION_Cash X-Sell: high_MEAN  \\\n",
       "129637                                              0.2   \n",
       "\n",
       "        PREV_PRODUCT_COMBINATION_POS mobile with interest_MEAN  \\\n",
       "129637                                                     0.0   \n",
       "\n",
       "        PREV_PRODUCT_COMBINATION_nan_MEAN  APPROVED_DAYS_DECISION_MIN  \\\n",
       "129637                                0.0                      -919.0   \n",
       "\n",
       "        APPROVED_DAYS_DECISION_MAX  APPROVED_DAYS_DECISION_MEAN  \\\n",
       "129637                      -684.0                       -801.5   \n",
       "\n",
       "        APPROVED_CNT_PAYMENT_MEAN  POS_MONTHS_BALANCE_MEAN  POS_SK_DPD_MAX  \\\n",
       "129637                       30.0               -24.307692             0.0   \n",
       "\n",
       "        POS_SK_DPD_MEAN  POS_SK_DPD_DEF_MAX  POS_SK_DPD_DEF_MEAN  \\\n",
       "129637              0.0                 0.0                  0.0   \n",
       "\n",
       "        POS_NAME_CONTRACT_STATUS_Amortized debt_MEAN  \\\n",
       "129637                                           0.0   \n",
       "\n",
       "        POS_NAME_CONTRACT_STATUS_Approved_MEAN  \\\n",
       "129637                                     0.0   \n",
       "\n",
       "        POS_NAME_CONTRACT_STATUS_Demand_MEAN  \\\n",
       "129637                                   0.0   \n",
       "\n",
       "        POS_NAME_CONTRACT_STATUS_Returned to the store_MEAN  \\\n",
       "129637                                                  0.0   \n",
       "\n",
       "        POS_NAME_CONTRACT_STATUS_Signed_MEAN  INSTAL_DPD_MAX  INSTAL_DPD_MEAN  \\\n",
       "129637                                   0.0             0.0              0.0   \n",
       "\n",
       "        INSTAL_DPD_SUM  INSTAL_PAYMENT_PERC_MAX  INSTAL_PAYMENT_PERC_MEAN  \\\n",
       "129637             0.0                      1.0                       1.0   \n",
       "\n",
       "        INSTAL_PAYMENT_DIFF_MAX  INSTAL_PAYMENT_DIFF_MEAN  \\\n",
       "129637                      0.0                       0.0   \n",
       "\n",
       "        INSTAL_PAYMENT_DIFF_SUM  INSTAL_AMT_INSTALMENT_MAX  \\\n",
       "129637                      0.0                  440479.62   \n",
       "\n",
       "        INSTAL_AMT_PAYMENT_MAX  INSTAL_DAYS_ENTRY_PAYMENT_MEAN  \\\n",
       "129637               440479.62                     -749.727273   \n",
       "\n",
       "        INSTAL_DAYS_ENTRY_PAYMENT_SUM  TARGET  \n",
       "129637                        -8247.0       0  "
      ]
     },
     "execution_count": 65,
     "metadata": {},
     "output_type": "execute_result"
    },
    {
     "data": {
      "application/javascript": [
       "\n",
       "            setTimeout(function() {\n",
       "                var nbb_cell_id = 65;\n",
       "                var nbb_unformatted_code = \"X_train.head(1)\";\n",
       "                var nbb_formatted_code = \"X_train.head(1)\";\n",
       "                var nbb_cells = Jupyter.notebook.get_cells();\n",
       "                for (var i = 0; i < nbb_cells.length; ++i) {\n",
       "                    if (nbb_cells[i].input_prompt_number == nbb_cell_id) {\n",
       "                        if (nbb_cells[i].get_text() == nbb_unformatted_code) {\n",
       "                             nbb_cells[i].set_text(nbb_formatted_code);\n",
       "                        }\n",
       "                        break;\n",
       "                    }\n",
       "                }\n",
       "            }, 500);\n",
       "            "
      ],
      "text/plain": [
       "<IPython.core.display.Javascript object>"
      ]
     },
     "metadata": {},
     "output_type": "display_data"
    }
   ],
   "source": [
    "X_train.head(1)"
   ]
  },
  {
   "cell_type": "code",
   "execution_count": 66,
   "id": "f384651d",
   "metadata": {},
   "outputs": [
    {
     "data": {
      "application/javascript": [
       "\n",
       "            setTimeout(function() {\n",
       "                var nbb_cell_id = 66;\n",
       "                var nbb_unformatted_code = \"y_train = X_train[\\\"TARGET\\\"].values\\nX_train = X_train.drop(\\\"TARGET\\\", axis=1)\";\n",
       "                var nbb_formatted_code = \"y_train = X_train[\\\"TARGET\\\"].values\\nX_train = X_train.drop(\\\"TARGET\\\", axis=1)\";\n",
       "                var nbb_cells = Jupyter.notebook.get_cells();\n",
       "                for (var i = 0; i < nbb_cells.length; ++i) {\n",
       "                    if (nbb_cells[i].input_prompt_number == nbb_cell_id) {\n",
       "                        if (nbb_cells[i].get_text() == nbb_unformatted_code) {\n",
       "                             nbb_cells[i].set_text(nbb_formatted_code);\n",
       "                        }\n",
       "                        break;\n",
       "                    }\n",
       "                }\n",
       "            }, 500);\n",
       "            "
      ],
      "text/plain": [
       "<IPython.core.display.Javascript object>"
      ]
     },
     "metadata": {},
     "output_type": "display_data"
    }
   ],
   "source": [
    "y_train = X_train[\"TARGET\"].values\n",
    "X_train = X_train.drop(\"TARGET\", axis=1)"
   ]
  },
  {
   "cell_type": "markdown",
   "id": "1937c3ac",
   "metadata": {},
   "source": [
    "# Part - 2 Modelling"
   ]
  },
  {
   "cell_type": "code",
   "execution_count": 67,
   "id": "c9c38f7d",
   "metadata": {},
   "outputs": [
    {
     "name": "stdout",
     "output_type": "stream",
     "text": [
      "[[    0 11347]\n",
      " [    1   953]]\n"
     ]
    },
    {
     "data": {
      "application/javascript": [
       "\n",
       "            setTimeout(function() {\n",
       "                var nbb_cell_id = 67;\n",
       "                var nbb_unformatted_code = \"unique, counts = np.unique(y_train, return_counts=True)\\n\\nprint(np.asarray((unique, counts)).T)\";\n",
       "                var nbb_formatted_code = \"unique, counts = np.unique(y_train, return_counts=True)\\n\\nprint(np.asarray((unique, counts)).T)\";\n",
       "                var nbb_cells = Jupyter.notebook.get_cells();\n",
       "                for (var i = 0; i < nbb_cells.length; ++i) {\n",
       "                    if (nbb_cells[i].input_prompt_number == nbb_cell_id) {\n",
       "                        if (nbb_cells[i].get_text() == nbb_unformatted_code) {\n",
       "                             nbb_cells[i].set_text(nbb_formatted_code);\n",
       "                        }\n",
       "                        break;\n",
       "                    }\n",
       "                }\n",
       "            }, 500);\n",
       "            "
      ],
      "text/plain": [
       "<IPython.core.display.Javascript object>"
      ]
     },
     "metadata": {},
     "output_type": "display_data"
    }
   ],
   "source": [
    "unique, counts = np.unique(y_train, return_counts=True)\n",
    "\n",
    "print(np.asarray((unique, counts)).T)"
   ]
  },
  {
   "cell_type": "markdown",
   "id": "74673eb1",
   "metadata": {},
   "source": [
    "<a id='eval' />\n",
    "\n",
    "### Evaluation of the model and metrics"
   ]
  },
  {
   "cell_type": "code",
   "execution_count": 68,
   "id": "67486272",
   "metadata": {},
   "outputs": [
    {
     "data": {
      "application/javascript": [
       "\n",
       "            setTimeout(function() {\n",
       "                var nbb_cell_id = 68;\n",
       "                var nbb_unformatted_code = \"# evaluate a model\\ndef evaluate_model(X, y, model):\\n    # define evaluation procedure\\n    cv = RepeatedStratifiedKFold(n_splits=10, n_repeats=3, random_state=1)\\n    # evaluate model\\n    scores = cross_val_score(model, X, y, scoring=\\\"roc_auc\\\", cv=cv, n_jobs=-1)\\n    return scores\";\n",
       "                var nbb_formatted_code = \"# evaluate a model\\ndef evaluate_model(X, y, model):\\n    # define evaluation procedure\\n    cv = RepeatedStratifiedKFold(n_splits=10, n_repeats=3, random_state=1)\\n    # evaluate model\\n    scores = cross_val_score(model, X, y, scoring=\\\"roc_auc\\\", cv=cv, n_jobs=-1)\\n    return scores\";\n",
       "                var nbb_cells = Jupyter.notebook.get_cells();\n",
       "                for (var i = 0; i < nbb_cells.length; ++i) {\n",
       "                    if (nbb_cells[i].input_prompt_number == nbb_cell_id) {\n",
       "                        if (nbb_cells[i].get_text() == nbb_unformatted_code) {\n",
       "                             nbb_cells[i].set_text(nbb_formatted_code);\n",
       "                        }\n",
       "                        break;\n",
       "                    }\n",
       "                }\n",
       "            }, 500);\n",
       "            "
      ],
      "text/plain": [
       "<IPython.core.display.Javascript object>"
      ]
     },
     "metadata": {},
     "output_type": "display_data"
    }
   ],
   "source": [
    "# evaluate a model\n",
    "def evaluate_model(X, y, model):\n",
    "    # define evaluation procedure\n",
    "    cv = RepeatedStratifiedKFold(n_splits=10, n_repeats=3, random_state=1)\n",
    "    # evaluate model\n",
    "    scores = cross_val_score(model, X, y, scoring=\"roc_auc\", cv=cv, n_jobs=-1)\n",
    "    return scores"
   ]
  },
  {
   "cell_type": "markdown",
   "id": "e255b5d4",
   "metadata": {},
   "source": [
    "<a id='base' />\n",
    "\n",
    "### Baseline"
   ]
  },
  {
   "cell_type": "markdown",
   "id": "7ba9f368",
   "metadata": {},
   "source": [
    "DummyClassifier makes predictions that ignore the input features. <br>\n",
    "It serves as a simple baseline to compare against other classifiers."
   ]
  },
  {
   "cell_type": "code",
   "execution_count": 69,
   "id": "2b2d7e78",
   "metadata": {},
   "outputs": [
    {
     "data": {
      "application/javascript": [
       "\n",
       "            setTimeout(function() {\n",
       "                var nbb_cell_id = 69;\n",
       "                var nbb_unformatted_code = \"# baseline\\nbaseline = DummyClassifier(strategy=\\\"stratified\\\")\";\n",
       "                var nbb_formatted_code = \"# baseline\\nbaseline = DummyClassifier(strategy=\\\"stratified\\\")\";\n",
       "                var nbb_cells = Jupyter.notebook.get_cells();\n",
       "                for (var i = 0; i < nbb_cells.length; ++i) {\n",
       "                    if (nbb_cells[i].input_prompt_number == nbb_cell_id) {\n",
       "                        if (nbb_cells[i].get_text() == nbb_unformatted_code) {\n",
       "                             nbb_cells[i].set_text(nbb_formatted_code);\n",
       "                        }\n",
       "                        break;\n",
       "                    }\n",
       "                }\n",
       "            }, 500);\n",
       "            "
      ],
      "text/plain": [
       "<IPython.core.display.Javascript object>"
      ]
     },
     "metadata": {},
     "output_type": "display_data"
    }
   ],
   "source": [
    "# baseline\n",
    "baseline = DummyClassifier(strategy=\"stratified\")"
   ]
  },
  {
   "cell_type": "code",
   "execution_count": 70,
   "id": "ad7c7450",
   "metadata": {
    "scrolled": false
   },
   "outputs": [
    {
     "name": "stdout",
     "output_type": "stream",
     "text": [
      "Mean ROC AUC: 0.504 (0.018)\n"
     ]
    },
    {
     "data": {
      "application/javascript": [
       "\n",
       "            setTimeout(function() {\n",
       "                var nbb_cell_id = 70;\n",
       "                var nbb_unformatted_code = \"scores = evaluate_model(X_train, y_train, baseline)\\n# summarize performance\\nprint(\\\"Mean ROC AUC: %.3f (%.3f)\\\" % (mean(scores), std(scores)))\";\n",
       "                var nbb_formatted_code = \"scores = evaluate_model(X_train, y_train, baseline)\\n# summarize performance\\nprint(\\\"Mean ROC AUC: %.3f (%.3f)\\\" % (mean(scores), std(scores)))\";\n",
       "                var nbb_cells = Jupyter.notebook.get_cells();\n",
       "                for (var i = 0; i < nbb_cells.length; ++i) {\n",
       "                    if (nbb_cells[i].input_prompt_number == nbb_cell_id) {\n",
       "                        if (nbb_cells[i].get_text() == nbb_unformatted_code) {\n",
       "                             nbb_cells[i].set_text(nbb_formatted_code);\n",
       "                        }\n",
       "                        break;\n",
       "                    }\n",
       "                }\n",
       "            }, 500);\n",
       "            "
      ],
      "text/plain": [
       "<IPython.core.display.Javascript object>"
      ]
     },
     "metadata": {},
     "output_type": "display_data"
    }
   ],
   "source": [
    "scores = evaluate_model(X_train, y_train, baseline)\n",
    "# summarize performance\n",
    "print(\"Mean ROC AUC: %.3f (%.3f)\" % (mean(scores), std(scores)))"
   ]
  },
  {
   "cell_type": "code",
   "execution_count": 71,
   "id": "a1e06fef",
   "metadata": {},
   "outputs": [
    {
     "data": {
      "application/javascript": [
       "\n",
       "            setTimeout(function() {\n",
       "                var nbb_cell_id = 71;\n",
       "                var nbb_unformatted_code = \"baseline.fit(X_train, y_train)\\ny_pred = baseline.predict(X_test)\";\n",
       "                var nbb_formatted_code = \"baseline.fit(X_train, y_train)\\ny_pred = baseline.predict(X_test)\";\n",
       "                var nbb_cells = Jupyter.notebook.get_cells();\n",
       "                for (var i = 0; i < nbb_cells.length; ++i) {\n",
       "                    if (nbb_cells[i].input_prompt_number == nbb_cell_id) {\n",
       "                        if (nbb_cells[i].get_text() == nbb_unformatted_code) {\n",
       "                             nbb_cells[i].set_text(nbb_formatted_code);\n",
       "                        }\n",
       "                        break;\n",
       "                    }\n",
       "                }\n",
       "            }, 500);\n",
       "            "
      ],
      "text/plain": [
       "<IPython.core.display.Javascript object>"
      ]
     },
     "metadata": {},
     "output_type": "display_data"
    }
   ],
   "source": [
    "baseline.fit(X_train, y_train)\n",
    "y_pred = baseline.predict(X_test)"
   ]
  },
  {
   "cell_type": "code",
   "execution_count": 72,
   "id": "864d7556",
   "metadata": {},
   "outputs": [
    {
     "name": "stdout",
     "output_type": "stream",
     "text": [
      "Confusion Matrix\n",
      "----------\n",
      "[[14882  1322]\n",
      " [ 1301   120]]\n"
     ]
    },
    {
     "data": {
      "image/png": "[encoded data removed]",
      "text/plain": [
       "<Figure size 432x288 with 2 Axes>"
      ]
     },
     "metadata": {
      "needs_background": "light"
     },
     "output_type": "display_data"
    },
    {
     "data": {
      "application/javascript": [
       "\n",
       "            setTimeout(function() {\n",
       "                var nbb_cell_id = 72;\n",
       "                var nbb_unformatted_code = \"cm_b = confusion_matrix(y_test, y_pred, labels=[0, 1])\\n\\ngroup_names = [\\\"TN\\\", \\\"FP\\\", \\\"FN\\\", \\\"TP\\\"]\\n\\ngroup_counts = [\\\"{0:0.0f}\\\".format(value) for value in cm_b.flatten()]\\n\\ngroup_percentages = [\\\"{0:.2%}\\\".format(value) for value in cm_b.flatten() / np.sum(cm_b)]\\n\\nlabels = [\\n    f\\\"{v1}\\\\n{v2}\\\\n{v3}\\\"\\n    for v1, v2, v3 in zip(group_names, group_counts, group_percentages)\\n]\\n\\nlabels = np.asarray(labels).reshape(2, 2)\\n\\n\\nprint(\\\"Confusion Matrix\\\")\\nprint(\\\"--\\\" * 5)\\nprint(cm_b)\\n\\nsns.heatmap(\\n    cm_b,\\n    cmap=\\\"Greens\\\",\\n    fmt=\\\"\\\",\\n    annot=labels,\\n    cbar_kws={\\\"orientation\\\": \\\"vertical\\\", \\\"label\\\": \\\"color bar\\\"},\\n    xticklabels=[0, 1],\\n    yticklabels=[0, 1],\\n)\\nplt.xlabel(\\\"Predicted\\\")\\nplt.ylabel(\\\"True label\\\")\\nplt.title(\\\"Normalized confusion matrix\\\")\\nplt.show()\";\n",
       "                var nbb_formatted_code = \"cm_b = confusion_matrix(y_test, y_pred, labels=[0, 1])\\n\\ngroup_names = [\\\"TN\\\", \\\"FP\\\", \\\"FN\\\", \\\"TP\\\"]\\n\\ngroup_counts = [\\\"{0:0.0f}\\\".format(value) for value in cm_b.flatten()]\\n\\ngroup_percentages = [\\\"{0:.2%}\\\".format(value) for value in cm_b.flatten() / np.sum(cm_b)]\\n\\nlabels = [\\n    f\\\"{v1}\\\\n{v2}\\\\n{v3}\\\"\\n    for v1, v2, v3 in zip(group_names, group_counts, group_percentages)\\n]\\n\\nlabels = np.asarray(labels).reshape(2, 2)\\n\\n\\nprint(\\\"Confusion Matrix\\\")\\nprint(\\\"--\\\" * 5)\\nprint(cm_b)\\n\\nsns.heatmap(\\n    cm_b,\\n    cmap=\\\"Greens\\\",\\n    fmt=\\\"\\\",\\n    annot=labels,\\n    cbar_kws={\\\"orientation\\\": \\\"vertical\\\", \\\"label\\\": \\\"color bar\\\"},\\n    xticklabels=[0, 1],\\n    yticklabels=[0, 1],\\n)\\nplt.xlabel(\\\"Predicted\\\")\\nplt.ylabel(\\\"True label\\\")\\nplt.title(\\\"Normalized confusion matrix\\\")\\nplt.show()\";\n",
       "                var nbb_cells = Jupyter.notebook.get_cells();\n",
       "                for (var i = 0; i < nbb_cells.length; ++i) {\n",
       "                    if (nbb_cells[i].input_prompt_number == nbb_cell_id) {\n",
       "                        if (nbb_cells[i].get_text() == nbb_unformatted_code) {\n",
       "                             nbb_cells[i].set_text(nbb_formatted_code);\n",
       "                        }\n",
       "                        break;\n",
       "                    }\n",
       "                }\n",
       "            }, 500);\n",
       "            "
      ],
      "text/plain": [
       "<IPython.core.display.Javascript object>"
      ]
     },
     "metadata": {},
     "output_type": "display_data"
    }
   ],
   "source": [
    "cm_b = confusion_matrix(y_test, y_pred, labels=[0, 1])\n",
    "\n",
    "group_names = [\"TN\", \"FP\", \"FN\", \"TP\"]\n",
    "\n",
    "group_counts = [\"{0:0.0f}\".format(value) for value in cm_b.flatten()]\n",
    "\n",
    "group_percentages = [\"{0:.2%}\".format(value) for value in cm_b.flatten() / np.sum(cm_b)]\n",
    "\n",
    "labels = [\n",
    "    f\"{v1}\\n{v2}\\n{v3}\"\n",
    "    for v1, v2, v3 in zip(group_names, group_counts, group_percentages)\n",
    "]\n",
    "\n",
    "labels = np.asarray(labels).reshape(2, 2)\n",
    "\n",
    "\n",
    "print(\"Confusion Matrix\")\n",
    "print(\"--\" * 5)\n",
    "print(cm_b)\n",
    "\n",
    "sns.heatmap(\n",
    "    cm_b,\n",
    "    cmap=\"Greens\",\n",
    "    fmt=\"\",\n",
    "    annot=labels,\n",
    "    cbar_kws={\"orientation\": \"vertical\", \"label\": \"color bar\"},\n",
    "    xticklabels=[0, 1],\n",
    "    yticklabels=[0, 1],\n",
    ")\n",
    "plt.xlabel(\"Predicted\")\n",
    "plt.ylabel(\"True label\")\n",
    "plt.title(\"Normalized confusion matrix\")\n",
    "plt.show()"
   ]
  },
  {
   "cell_type": "code",
   "execution_count": 73,
   "id": "7f4ab6f9",
   "metadata": {
    "scrolled": false
   },
   "outputs": [
    {
     "data": {
      "image/png": "[encoded data removed]",
      "text/plain": [
       "<Figure size 432x288 with 1 Axes>"
      ]
     },
     "metadata": {
      "needs_background": "light"
     },
     "output_type": "display_data"
    },
    {
     "data": {
      "application/javascript": [
       "\n",
       "            setTimeout(function() {\n",
       "                var nbb_cell_id = 73;\n",
       "                var nbb_unformatted_code = \"fpr_b, tpr_b, thresholds_b = metrics.roc_curve(y_test, y_pred, pos_label=1)\\nmetrics.auc(fpr_b, tpr_b)\\nroc_display = RocCurveDisplay(fpr=fpr_b, tpr=tpr_b).plot()\";\n",
       "                var nbb_formatted_code = \"fpr_b, tpr_b, thresholds_b = metrics.roc_curve(y_test, y_pred, pos_label=1)\\nmetrics.auc(fpr_b, tpr_b)\\nroc_display = RocCurveDisplay(fpr=fpr_b, tpr=tpr_b).plot()\";\n",
       "                var nbb_cells = Jupyter.notebook.get_cells();\n",
       "                for (var i = 0; i < nbb_cells.length; ++i) {\n",
       "                    if (nbb_cells[i].input_prompt_number == nbb_cell_id) {\n",
       "                        if (nbb_cells[i].get_text() == nbb_unformatted_code) {\n",
       "                             nbb_cells[i].set_text(nbb_formatted_code);\n",
       "                        }\n",
       "                        break;\n",
       "                    }\n",
       "                }\n",
       "            }, 500);\n",
       "            "
      ],
      "text/plain": [
       "<IPython.core.display.Javascript object>"
      ]
     },
     "metadata": {},
     "output_type": "display_data"
    }
   ],
   "source": [
    "fpr_b, tpr_b, thresholds_b = metrics.roc_curve(y_test, y_pred, pos_label=1)\n",
    "metrics.auc(fpr_b, tpr_b)\n",
    "roc_display = RocCurveDisplay(fpr=fpr_b, tpr=tpr_b).plot()"
   ]
  },
  {
   "cell_type": "markdown",
   "id": "16f585af",
   "metadata": {},
   "source": [
    "<a id='metric' />\n",
    "\n",
    "## Metric tests on a simple model"
   ]
  },
  {
   "cell_type": "markdown",
   "id": "1a151905",
   "metadata": {},
   "source": [
    "The basic idea for this section is to evaluate the best metrics for our project. This metrics should show us a better score for algorithmes that are dealing with the class imbalanced."
   ]
  },
  {
   "cell_type": "code",
   "execution_count": 74,
   "id": "977ecbb8",
   "metadata": {},
   "outputs": [
    {
     "data": {
      "application/javascript": [
       "\n",
       "            setTimeout(function() {\n",
       "                var nbb_cell_id = 74;\n",
       "                var nbb_unformatted_code = \"# Fonction recap\\ndef predic_matrix(name, model, params, score_metric):\\n    start_grid = time.time()\\n\\n    Search = GridSearchCV(\\n        model, params, scoring=score_metric, n_jobs=1, cv=5, refit=True\\n    )\\n\\n    # execute search\\n    Search.fit(X_train, y_train)\\n\\n    end_grid = time.time()\\n    print(\\\"total time for the Grid Search: \\\", (end_grid - start_grid), \\\"sec\\\")\\n    print(\\\"--\\\" * 5)\\n\\n    best_model = Search.best_estimator_\\n    print(\\\"best model params:\\\", best_model)\\n    print(\\\"--\\\" * 5)\\n\\n    start_fit = time.time()\\n    best_model.fit(X_train, y_train)\\n    end_fit = time.time()\\n    Predict_time = (round((end_fit - start_fit), 3), \\\"sec\\\")\\n\\n    y_pred_l = best_model.predict(X_test)\\n    y_pred_p = best_model.predict_proba(X_test)\\n\\n    Test_score = best_model.score(X_test, y_test)\\n    print(\\\"SCORES :\\\")\\n    print(\\\"Best Score: %s\\\" % Search.best_score_)\\n    print(\\\"test score :\\\", Test_score)\\n    print(\\\"--\\\" * 5)\\n\\n    cm = confusion_matrix(y_test, y_pred_l, labels=[0, 1])\\n    group_names = [\\\"TN\\\", \\\"FP\\\", \\\"FN\\\", \\\"TP\\\"]\\n    group_counts = [\\\"{0:0.0f}\\\".format(value) for value in cm.flatten()]\\n    group_percentages = [\\\"{0:.2%}\\\".format(value) for value in cm.flatten() / np.sum(cm)]\\n\\n    labels = [\\n        f\\\"{v1}\\\\n{v2}\\\\n{v3}\\\"\\n        for v1, v2, v3 in zip(group_names, group_counts, group_percentages)\\n    ]\\n\\n    labels = np.asarray(labels).reshape(2, 2)\\n\\n    print(\\\"Confusion Matrix\\\")\\n    print(cm)\\n    print(\\\"--\\\" * 5)\\n\\n    fpr, tpr, thresholds = metrics.roc_curve(y_test, y_pred_p[:, 1], pos_label=1)\\n    # metrics.auc(fpr, tpr)\\n    # roc_display = RocCurveDisplay(fpr=fpr, tpr=tpr).plot()\\n\\n    precision, recall, _ = precision_recall_curve(y_test, y_pred_p[:, 1])\\n\\n    tn, fp, fn, tp = confusion_matrix(y_test, y_pred_l).ravel()\\n\\n    TPR = tp / (tp + fn)\\n    FNR = fn / (fn + tn)\\n\\n    Report = [\\n        name,\\n        score_metric,\\n        mean(Search.cv_results_[\\\"mean_test_score\\\"]),\\n        mean(Search.cv_results_[\\\"std_test_score\\\"]),\\n        mean(Search.cv_results_[\\\"mean_fit_time\\\"]),\\n        mean(Search.cv_results_[\\\"std_fit_time\\\"]),\\n        Predict_time,\\n        Test_score,\\n        TPR,\\n        FNR,\\n    ]\\n\\n    end_tot = time.time()\\n    print(\\\"temps total: \\\", (end_tot - start_grid), \\\"sec\\\")\\n\\n    print(\\\"A partir d'ici\\\")\\n    # figure\\n    fig = plt.figure(figsize=(20, 6))\\n\\n    # Create each subplot individually\\n    plt.subplot(1, 3, 1)\\n    sns.heatmap(\\n        cm,\\n        cmap=\\\"Greens\\\",\\n        fmt=\\\"\\\",\\n        annot=labels,\\n        # cbar_kws={\\\"orientation\\\": \\\"vertical\\\", \\\"label\\\": \\\"color bar\\\"},\\n        xticklabels=[0, 1],\\n        yticklabels=[0, 1],\\n    )\\n    plt.xlabel(\\\"Predicted\\\")\\n    plt.ylabel(\\\"True label\\\")\\n    plt.title(\\\"Confusion matrix\\\")\\n\\n    plt.subplot(1, 3, 2)\\n    plt.plot(fpr, tpr)\\n    plt.xlabel(\\\"False positive rate\\\")\\n    plt.ylabel(\\\"True positive rate\\\")\\n    plt.title(\\\"Roc auc curve\\\")\\n\\n    # plt.plot([0, 1], [0, 1], color=\\\"black\\\", linestyle=\\\"--\\\")\\n    plt.subplot(1, 3, 3)\\n    plt.plot(recall, precision, marker=\\\".\\\")\\n    plt.xlabel(\\\"Recall\\\")\\n    plt.ylabel(\\\"Precision\\\")\\n    plt.title(\\\"Recall precision curve\\\")\\n\\n    # One Title\\n    plt.suptitle(\\\"Summary Plots\\\")\\n\\n    # Auto adjust\\n    plt.tight_layout()\\n\\n    # Display\\n    plt.show()\\n\\n    return Report, y_pred_l, y_pred_p, best_model\";\n",
       "                var nbb_formatted_code = \"# Fonction recap\\ndef predic_matrix(name, model, params, score_metric):\\n    start_grid = time.time()\\n\\n    Search = GridSearchCV(\\n        model, params, scoring=score_metric, n_jobs=1, cv=5, refit=True\\n    )\\n\\n    # execute search\\n    Search.fit(X_train, y_train)\\n\\n    end_grid = time.time()\\n    print(\\\"total time for the Grid Search: \\\", (end_grid - start_grid), \\\"sec\\\")\\n    print(\\\"--\\\" * 5)\\n\\n    best_model = Search.best_estimator_\\n    print(\\\"best model params:\\\", best_model)\\n    print(\\\"--\\\" * 5)\\n\\n    start_fit = time.time()\\n    best_model.fit(X_train, y_train)\\n    end_fit = time.time()\\n    Predict_time = (round((end_fit - start_fit), 3), \\\"sec\\\")\\n\\n    y_pred_l = best_model.predict(X_test)\\n    y_pred_p = best_model.predict_proba(X_test)\\n\\n    Test_score = best_model.score(X_test, y_test)\\n    print(\\\"SCORES :\\\")\\n    print(\\\"Best Score: %s\\\" % Search.best_score_)\\n    print(\\\"test score :\\\", Test_score)\\n    print(\\\"--\\\" * 5)\\n\\n    cm = confusion_matrix(y_test, y_pred_l, labels=[0, 1])\\n    group_names = [\\\"TN\\\", \\\"FP\\\", \\\"FN\\\", \\\"TP\\\"]\\n    group_counts = [\\\"{0:0.0f}\\\".format(value) for value in cm.flatten()]\\n    group_percentages = [\\\"{0:.2%}\\\".format(value) for value in cm.flatten() / np.sum(cm)]\\n\\n    labels = [\\n        f\\\"{v1}\\\\n{v2}\\\\n{v3}\\\"\\n        for v1, v2, v3 in zip(group_names, group_counts, group_percentages)\\n    ]\\n\\n    labels = np.asarray(labels).reshape(2, 2)\\n\\n    print(\\\"Confusion Matrix\\\")\\n    print(cm)\\n    print(\\\"--\\\" * 5)\\n\\n    fpr, tpr, thresholds = metrics.roc_curve(y_test, y_pred_p[:, 1], pos_label=1)\\n    # metrics.auc(fpr, tpr)\\n    # roc_display = RocCurveDisplay(fpr=fpr, tpr=tpr).plot()\\n\\n    precision, recall, _ = precision_recall_curve(y_test, y_pred_p[:, 1])\\n\\n    tn, fp, fn, tp = confusion_matrix(y_test, y_pred_l).ravel()\\n\\n    TPR = tp / (tp + fn)\\n    FNR = fn / (fn + tn)\\n\\n    Report = [\\n        name,\\n        score_metric,\\n        mean(Search.cv_results_[\\\"mean_test_score\\\"]),\\n        mean(Search.cv_results_[\\\"std_test_score\\\"]),\\n        mean(Search.cv_results_[\\\"mean_fit_time\\\"]),\\n        mean(Search.cv_results_[\\\"std_fit_time\\\"]),\\n        Predict_time,\\n        Test_score,\\n        TPR,\\n        FNR,\\n    ]\\n\\n    end_tot = time.time()\\n    print(\\\"temps total: \\\", (end_tot - start_grid), \\\"sec\\\")\\n\\n    print(\\\"A partir d'ici\\\")\\n    # figure\\n    fig = plt.figure(figsize=(20, 6))\\n\\n    # Create each subplot individually\\n    plt.subplot(1, 3, 1)\\n    sns.heatmap(\\n        cm,\\n        cmap=\\\"Greens\\\",\\n        fmt=\\\"\\\",\\n        annot=labels,\\n        # cbar_kws={\\\"orientation\\\": \\\"vertical\\\", \\\"label\\\": \\\"color bar\\\"},\\n        xticklabels=[0, 1],\\n        yticklabels=[0, 1],\\n    )\\n    plt.xlabel(\\\"Predicted\\\")\\n    plt.ylabel(\\\"True label\\\")\\n    plt.title(\\\"Confusion matrix\\\")\\n\\n    plt.subplot(1, 3, 2)\\n    plt.plot(fpr, tpr)\\n    plt.xlabel(\\\"False positive rate\\\")\\n    plt.ylabel(\\\"True positive rate\\\")\\n    plt.title(\\\"Roc auc curve\\\")\\n\\n    # plt.plot([0, 1], [0, 1], color=\\\"black\\\", linestyle=\\\"--\\\")\\n    plt.subplot(1, 3, 3)\\n    plt.plot(recall, precision, marker=\\\".\\\")\\n    plt.xlabel(\\\"Recall\\\")\\n    plt.ylabel(\\\"Precision\\\")\\n    plt.title(\\\"Recall precision curve\\\")\\n\\n    # One Title\\n    plt.suptitle(\\\"Summary Plots\\\")\\n\\n    # Auto adjust\\n    plt.tight_layout()\\n\\n    # Display\\n    plt.show()\\n\\n    return Report, y_pred_l, y_pred_p, best_model\";\n",
       "                var nbb_cells = Jupyter.notebook.get_cells();\n",
       "                for (var i = 0; i < nbb_cells.length; ++i) {\n",
       "                    if (nbb_cells[i].input_prompt_number == nbb_cell_id) {\n",
       "                        if (nbb_cells[i].get_text() == nbb_unformatted_code) {\n",
       "                             nbb_cells[i].set_text(nbb_formatted_code);\n",
       "                        }\n",
       "                        break;\n",
       "                    }\n",
       "                }\n",
       "            }, 500);\n",
       "            "
      ],
      "text/plain": [
       "<IPython.core.display.Javascript object>"
      ]
     },
     "metadata": {},
     "output_type": "display_data"
    }
   ],
   "source": [
    "# Fonction recap\n",
    "def predic_matrix(name, model, params, score_metric):\n",
    "    start_grid = time.time()\n",
    "\n",
    "    Search = GridSearchCV(\n",
    "        model, params, scoring=score_metric, n_jobs=1, cv=5, refit=True\n",
    "    )\n",
    "\n",
    "    # execute search\n",
    "    Search.fit(X_train, y_train)\n",
    "\n",
    "    end_grid = time.time()\n",
    "    print(\"total time for the Grid Search: \", (end_grid - start_grid), \"sec\")\n",
    "    print(\"--\" * 5)\n",
    "\n",
    "    best_model = Search.best_estimator_\n",
    "    print(\"best model params:\", best_model)\n",
    "    print(\"--\" * 5)\n",
    "\n",
    "    start_fit = time.time()\n",
    "    best_model.fit(X_train, y_train)\n",
    "    end_fit = time.time()\n",
    "    Predict_time = (round((end_fit - start_fit), 3), \"sec\")\n",
    "\n",
    "    y_pred_l = best_model.predict(X_test)\n",
    "    y_pred_p = best_model.predict_proba(X_test)\n",
    "\n",
    "    Test_score = best_model.score(X_test, y_test)\n",
    "    print(\"SCORES :\")\n",
    "    print(\"Best Score: %s\" % Search.best_score_)\n",
    "    print(\"test score :\", Test_score)\n",
    "    print(\"--\" * 5)\n",
    "\n",
    "    cm = confusion_matrix(y_test, y_pred_l, labels=[0, 1])\n",
    "    group_names = [\"TN\", \"FP\", \"FN\", \"TP\"]\n",
    "    group_counts = [\"{0:0.0f}\".format(value) for value in cm.flatten()]\n",
    "    group_percentages = [\"{0:.2%}\".format(value) for value in cm.flatten() / np.sum(cm)]\n",
    "\n",
    "    labels = [\n",
    "        f\"{v1}\\n{v2}\\n{v3}\"\n",
    "        for v1, v2, v3 in zip(group_names, group_counts, group_percentages)\n",
    "    ]\n",
    "\n",
    "    labels = np.asarray(labels).reshape(2, 2)\n",
    "\n",
    "    print(\"Confusion Matrix\")\n",
    "    print(cm)\n",
    "    print(\"--\" * 5)\n",
    "\n",
    "    fpr, tpr, thresholds = metrics.roc_curve(y_test, y_pred_p[:, 1], pos_label=1)\n",
    "    # metrics.auc(fpr, tpr)\n",
    "    # roc_display = RocCurveDisplay(fpr=fpr, tpr=tpr).plot()\n",
    "\n",
    "    precision, recall, _ = precision_recall_curve(y_test, y_pred_p[:, 1])\n",
    "\n",
    "    tn, fp, fn, tp = confusion_matrix(y_test, y_pred_l).ravel()\n",
    "\n",
    "    TNR = tn / (tn + fp)\n",
    "    FNR = fn / (fn + tn)\n",
    "\n",
    "    Report = [\n",
    "        name,\n",
    "        score_metric,\n",
    "        mean(Search.cv_results_[\"mean_test_score\"]),\n",
    "        mean(Search.cv_results_[\"std_test_score\"]),\n",
    "        mean(Search.cv_results_[\"mean_fit_time\"]),\n",
    "        mean(Search.cv_results_[\"std_fit_time\"]),\n",
    "        Predict_time,\n",
    "        Test_score,\n",
    "        TNR,\n",
    "        FNR,\n",
    "    ]\n",
    "\n",
    "    end_tot = time.time()\n",
    "    print(\"temps total: \", (end_tot - start_grid), \"sec\")\n",
    "\n",
    "    print(\"A partir d'ici\")\n",
    "    # figure\n",
    "    fig = plt.figure(figsize=(20, 6))\n",
    "\n",
    "    # Create each subplot individually\n",
    "    plt.subplot(1, 3, 1)\n",
    "    sns.heatmap(\n",
    "        cm,\n",
    "        cmap=\"Greens\",\n",
    "        fmt=\"\",\n",
    "        annot=labels,\n",
    "        # cbar_kws={\"orientation\": \"vertical\", \"label\": \"color bar\"},\n",
    "        xticklabels=[0, 1],\n",
    "        yticklabels=[0, 1],\n",
    "    )\n",
    "    plt.xlabel(\"Predicted\")\n",
    "    plt.ylabel(\"True label\")\n",
    "    plt.title(\"Confusion matrix\")\n",
    "\n",
    "    plt.subplot(1, 3, 2)\n",
    "    plt.plot(fpr, tpr)\n",
    "    plt.xlabel(\"False positive rate\")\n",
    "    plt.ylabel(\"True positive rate\")\n",
    "    plt.title(\"Roc auc curve\")\n",
    "\n",
    "    # plt.plot([0, 1], [0, 1], color=\"black\", linestyle=\"--\")\n",
    "    plt.subplot(1, 3, 3)\n",
    "    plt.plot(recall, precision, marker=\".\")\n",
    "    plt.xlabel(\"Recall\")\n",
    "    plt.ylabel(\"Precision\")\n",
    "    plt.title(\"Recall precision curve\")\n",
    "\n",
    "    # One Title\n",
    "    plt.suptitle(\"Summary Plots\")\n",
    "\n",
    "    # Auto adjust\n",
    "    plt.tight_layout()\n",
    "\n",
    "    # Display\n",
    "    plt.show()\n",
    "\n",
    "    return Report, y_pred_l, y_pred_p, best_model"
   ]
  },
  {
   "cell_type": "markdown",
   "id": "51dbf73b",
   "metadata": {},
   "source": [
    "### Base parameters for the GridSearches !"
   ]
  },
  {
   "cell_type": "code",
   "execution_count": 75,
   "id": "1ad24b5a",
   "metadata": {},
   "outputs": [
    {
     "data": {
      "application/javascript": [
       "\n",
       "            setTimeout(function() {\n",
       "                var nbb_cell_id = 75;\n",
       "                var nbb_unformatted_code = \"# define the searching space for no classes unbalanced treatment\\nLR_param = dict()\\nLR_param[\\\"logisticregression__C\\\"] = [1.0]\\nLR_param[\\\"logisticregression__solver\\\"] = [\\\"lbfgs\\\"]\\nLR_param[\\\"logisticregression__max_iter\\\"] = [1000]\\nLR_param[\\\"logisticregression__random_state\\\"] = [18]\\nLR_param[\\\"logisticregression__max_iter\\\"] = [500]\";\n",
       "                var nbb_formatted_code = \"# define the searching space for no classes unbalanced treatment\\nLR_param = dict()\\nLR_param[\\\"logisticregression__C\\\"] = [1.0]\\nLR_param[\\\"logisticregression__solver\\\"] = [\\\"lbfgs\\\"]\\nLR_param[\\\"logisticregression__max_iter\\\"] = [1000]\\nLR_param[\\\"logisticregression__random_state\\\"] = [18]\\nLR_param[\\\"logisticregression__max_iter\\\"] = [500]\";\n",
       "                var nbb_cells = Jupyter.notebook.get_cells();\n",
       "                for (var i = 0; i < nbb_cells.length; ++i) {\n",
       "                    if (nbb_cells[i].input_prompt_number == nbb_cell_id) {\n",
       "                        if (nbb_cells[i].get_text() == nbb_unformatted_code) {\n",
       "                             nbb_cells[i].set_text(nbb_formatted_code);\n",
       "                        }\n",
       "                        break;\n",
       "                    }\n",
       "                }\n",
       "            }, 500);\n",
       "            "
      ],
      "text/plain": [
       "<IPython.core.display.Javascript object>"
      ]
     },
     "metadata": {},
     "output_type": "display_data"
    }
   ],
   "source": [
    "# define the searching space for no classes unbalanced treatment\n",
    "LR_param = dict()\n",
    "LR_param[\"logisticregression__C\"] = [1.0]\n",
    "LR_param[\"logisticregression__solver\"] = [\"lbfgs\"]\n",
    "LR_param[\"logisticregression__max_iter\"] = [1000]\n",
    "LR_param[\"logisticregression__random_state\"] = [18]\n",
    "LR_param[\"logisticregression__max_iter\"] = [500]"
   ]
  },
  {
   "cell_type": "code",
   "execution_count": 76,
   "id": "699d257d",
   "metadata": {},
   "outputs": [
    {
     "data": {
      "application/javascript": [
       "\n",
       "            setTimeout(function() {\n",
       "                var nbb_cell_id = 76;\n",
       "                var nbb_unformatted_code = \"# define the searching space for the class balanced lR\\nLR_cb_param = dict()\\nLR_cb_param[\\\"logisticregression__C\\\"] = [1.0]\\nLR_cb_param[\\\"logisticregression__solver\\\"] = [\\\"lbfgs\\\"]\\nLR_cb_param[\\\"logisticregression__max_iter\\\"] = [1000]\\nLR_cb_param[\\\"logisticregression__random_state\\\"] = [18]\\nLR_cb_param[\\\"logisticregression__max_iter\\\"] = [500]\\nLR_cb_param[\\\"logisticregression__class_weight\\\"] = [\\\"balanced\\\"]\";\n",
       "                var nbb_formatted_code = \"# define the searching space for the class balanced lR\\nLR_cb_param = dict()\\nLR_cb_param[\\\"logisticregression__C\\\"] = [1.0]\\nLR_cb_param[\\\"logisticregression__solver\\\"] = [\\\"lbfgs\\\"]\\nLR_cb_param[\\\"logisticregression__max_iter\\\"] = [1000]\\nLR_cb_param[\\\"logisticregression__random_state\\\"] = [18]\\nLR_cb_param[\\\"logisticregression__max_iter\\\"] = [500]\\nLR_cb_param[\\\"logisticregression__class_weight\\\"] = [\\\"balanced\\\"]\";\n",
       "                var nbb_cells = Jupyter.notebook.get_cells();\n",
       "                for (var i = 0; i < nbb_cells.length; ++i) {\n",
       "                    if (nbb_cells[i].input_prompt_number == nbb_cell_id) {\n",
       "                        if (nbb_cells[i].get_text() == nbb_unformatted_code) {\n",
       "                             nbb_cells[i].set_text(nbb_formatted_code);\n",
       "                        }\n",
       "                        break;\n",
       "                    }\n",
       "                }\n",
       "            }, 500);\n",
       "            "
      ],
      "text/plain": [
       "<IPython.core.display.Javascript object>"
      ]
     },
     "metadata": {},
     "output_type": "display_data"
    }
   ],
   "source": [
    "# define the searching space for the class balanced lR\n",
    "LR_cb_param = dict()\n",
    "LR_cb_param[\"logisticregression__C\"] = [1.0]\n",
    "LR_cb_param[\"logisticregression__solver\"] = [\"lbfgs\"]\n",
    "LR_cb_param[\"logisticregression__max_iter\"] = [1000]\n",
    "LR_cb_param[\"logisticregression__random_state\"] = [18]\n",
    "LR_cb_param[\"logisticregression__max_iter\"] = [500]\n",
    "LR_cb_param[\"logisticregression__class_weight\"] = [\"balanced\"]"
   ]
  },
  {
   "cell_type": "code",
   "execution_count": 77,
   "id": "781b9d4f",
   "metadata": {},
   "outputs": [
    {
     "data": {
      "application/javascript": [
       "\n",
       "            setTimeout(function() {\n",
       "                var nbb_cell_id = 77;\n",
       "                var nbb_unformatted_code = \"# define the searching space for SMOTE LR\\nLR_S_param = dict()\\nLR_S_param[\\\"Classifier__C\\\"] = [1.0]\\nLR_S_param[\\\"Classifier__solver\\\"] = [\\\"lbfgs\\\"]\\nLR_S_param[\\\"Classifier__max_iter\\\"] = [1000]\\nLR_S_param[\\\"Classifier__random_state\\\"] = [18]\\nLR_S_param[\\\"Classifier__max_iter\\\"] = [500]\";\n",
       "                var nbb_formatted_code = \"# define the searching space for SMOTE LR\\nLR_S_param = dict()\\nLR_S_param[\\\"Classifier__C\\\"] = [1.0]\\nLR_S_param[\\\"Classifier__solver\\\"] = [\\\"lbfgs\\\"]\\nLR_S_param[\\\"Classifier__max_iter\\\"] = [1000]\\nLR_S_param[\\\"Classifier__random_state\\\"] = [18]\\nLR_S_param[\\\"Classifier__max_iter\\\"] = [500]\";\n",
       "                var nbb_cells = Jupyter.notebook.get_cells();\n",
       "                for (var i = 0; i < nbb_cells.length; ++i) {\n",
       "                    if (nbb_cells[i].input_prompt_number == nbb_cell_id) {\n",
       "                        if (nbb_cells[i].get_text() == nbb_unformatted_code) {\n",
       "                             nbb_cells[i].set_text(nbb_formatted_code);\n",
       "                        }\n",
       "                        break;\n",
       "                    }\n",
       "                }\n",
       "            }, 500);\n",
       "            "
      ],
      "text/plain": [
       "<IPython.core.display.Javascript object>"
      ]
     },
     "metadata": {},
     "output_type": "display_data"
    }
   ],
   "source": [
    "# define the searching space for SMOTE LR\n",
    "LR_S_param = dict()\n",
    "LR_S_param[\"Classifier__C\"] = [1.0]\n",
    "LR_S_param[\"Classifier__solver\"] = [\"lbfgs\"]\n",
    "LR_S_param[\"Classifier__max_iter\"] = [1000]\n",
    "LR_S_param[\"Classifier__random_state\"] = [18]\n",
    "LR_S_param[\"Classifier__max_iter\"] = [500]"
   ]
  },
  {
   "cell_type": "code",
   "execution_count": 78,
   "id": "012e2d7a",
   "metadata": {},
   "outputs": [
    {
     "data": {
      "application/javascript": [
       "\n",
       "            setTimeout(function() {\n",
       "                var nbb_cell_id = 78;\n",
       "                var nbb_unformatted_code = \"# Usual logisticRegression with no classes unbalance taking into account : nothing\\nLR = make_pipeline(\\n    RobustScaler(),\\n    LogisticRegression(),\\n)\";\n",
       "                var nbb_formatted_code = \"# Usual logisticRegression with no classes unbalance taking into account : nothing\\nLR = make_pipeline(\\n    RobustScaler(),\\n    LogisticRegression(),\\n)\";\n",
       "                var nbb_cells = Jupyter.notebook.get_cells();\n",
       "                for (var i = 0; i < nbb_cells.length; ++i) {\n",
       "                    if (nbb_cells[i].input_prompt_number == nbb_cell_id) {\n",
       "                        if (nbb_cells[i].get_text() == nbb_unformatted_code) {\n",
       "                             nbb_cells[i].set_text(nbb_formatted_code);\n",
       "                        }\n",
       "                        break;\n",
       "                    }\n",
       "                }\n",
       "            }, 500);\n",
       "            "
      ],
      "text/plain": [
       "<IPython.core.display.Javascript object>"
      ]
     },
     "metadata": {},
     "output_type": "display_data"
    }
   ],
   "source": [
    "# Usual logisticRegression with no classes unbalance taking into account : nothing\n",
    "LR = make_pipeline(\n",
    "    RobustScaler(),\n",
    "    LogisticRegression(),\n",
    ")"
   ]
  },
  {
   "cell_type": "code",
   "execution_count": 79,
   "id": "8bbb897c",
   "metadata": {},
   "outputs": [
    {
     "data": {
      "application/javascript": [
       "\n",
       "            setTimeout(function() {\n",
       "                var nbb_cell_id = 79;\n",
       "                var nbb_unformatted_code = \"# LogisticRegression with classes unbalance taking into account : cb\\nLR_cb = make_pipeline(\\n    RobustScaler(),\\n    LogisticRegression(),\\n)\";\n",
       "                var nbb_formatted_code = \"# LogisticRegression with classes unbalance taking into account : cb\\nLR_cb = make_pipeline(\\n    RobustScaler(),\\n    LogisticRegression(),\\n)\";\n",
       "                var nbb_cells = Jupyter.notebook.get_cells();\n",
       "                for (var i = 0; i < nbb_cells.length; ++i) {\n",
       "                    if (nbb_cells[i].input_prompt_number == nbb_cell_id) {\n",
       "                        if (nbb_cells[i].get_text() == nbb_unformatted_code) {\n",
       "                             nbb_cells[i].set_text(nbb_formatted_code);\n",
       "                        }\n",
       "                        break;\n",
       "                    }\n",
       "                }\n",
       "            }, 500);\n",
       "            "
      ],
      "text/plain": [
       "<IPython.core.display.Javascript object>"
      ]
     },
     "metadata": {},
     "output_type": "display_data"
    }
   ],
   "source": [
    "# LogisticRegression with classes unbalance taking into account : cb\n",
    "LR_cb = make_pipeline(\n",
    "    RobustScaler(),\n",
    "    LogisticRegression(),\n",
    ")"
   ]
  },
  {
   "cell_type": "code",
   "execution_count": 80,
   "id": "4b23054d",
   "metadata": {},
   "outputs": [
    {
     "data": {
      "application/javascript": [
       "\n",
       "            setTimeout(function() {\n",
       "                var nbb_cell_id = 80;\n",
       "                var nbb_unformatted_code = \"# LogisticRegression with SMOTE : S\\nLR_S = Pipeline(\\n    [\\n        (\\\"sadasyn\\\", ADASYN(sampling_strategy=0.30)),\\n        (\\\"oversample\\\", SVMSMOTE(sampling_strategy=0.60)),\\n        (\\\"Norm\\\", RobustScaler()),\\n        (\\\"undersampling\\\", RandomUnderSampler()),\\n        (\\\"Classifier\\\", LogisticRegression()),\\n    ]\\n)\";\n",
       "                var nbb_formatted_code = \"# LogisticRegression with SMOTE : S\\nLR_S = Pipeline(\\n    [\\n        (\\\"sadasyn\\\", ADASYN(sampling_strategy=0.30)),\\n        (\\\"oversample\\\", SVMSMOTE(sampling_strategy=0.60)),\\n        (\\\"Norm\\\", RobustScaler()),\\n        (\\\"undersampling\\\", RandomUnderSampler()),\\n        (\\\"Classifier\\\", LogisticRegression()),\\n    ]\\n)\";\n",
       "                var nbb_cells = Jupyter.notebook.get_cells();\n",
       "                for (var i = 0; i < nbb_cells.length; ++i) {\n",
       "                    if (nbb_cells[i].input_prompt_number == nbb_cell_id) {\n",
       "                        if (nbb_cells[i].get_text() == nbb_unformatted_code) {\n",
       "                             nbb_cells[i].set_text(nbb_formatted_code);\n",
       "                        }\n",
       "                        break;\n",
       "                    }\n",
       "                }\n",
       "            }, 500);\n",
       "            "
      ],
      "text/plain": [
       "<IPython.core.display.Javascript object>"
      ]
     },
     "metadata": {},
     "output_type": "display_data"
    }
   ],
   "source": [
    "# LogisticRegression with SMOTE : S\n",
    "LR_S = Pipeline(\n",
    "    [\n",
    "        (\"sadasyn\", ADASYN(sampling_strategy=0.30)),\n",
    "        (\"oversample\", SVMSMOTE(sampling_strategy=0.60)),\n",
    "        (\"Norm\", RobustScaler()),\n",
    "        (\"undersampling\", RandomUnderSampler()),\n",
    "        (\"Classifier\", LogisticRegression()),\n",
    "    ]\n",
    ")"
   ]
  },
  {
   "cell_type": "markdown",
   "id": "598eedfb",
   "metadata": {},
   "source": [
    "### ROC_AUC score"
   ]
  },
  {
   "cell_type": "code",
   "execution_count": 81,
   "id": "45e9b017",
   "metadata": {
    "scrolled": true
   },
   "outputs": [
    {
     "name": "stderr",
     "output_type": "stream",
     "text": [
      "C:\\ProgramData\\Anaconda3\\lib\\site-packages\\sklearn\\linear_model\\_logistic.py:814: ConvergenceWarning: lbfgs failed to converge (status=1):\n",
      "STOP: TOTAL NO. of ITERATIONS REACHED LIMIT.\n",
      "\n",
      "Increase the number of iterations (max_iter) or scale the data as shown in:\n",
      "    https://scikit-learn.org/stable/modules/preprocessing.html\n",
      "Please also refer to the documentation for alternative solver options:\n",
      "    https://scikit-learn.org/stable/modules/linear_model.html#logistic-regression\n",
      "  n_iter_i = _check_optimize_result(\n",
      "C:\\ProgramData\\Anaconda3\\lib\\site-packages\\sklearn\\linear_model\\_logistic.py:814: ConvergenceWarning: lbfgs failed to converge (status=1):\n",
      "STOP: TOTAL NO. of ITERATIONS REACHED LIMIT.\n",
      "\n",
      "Increase the number of iterations (max_iter) or scale the data as shown in:\n",
      "    https://scikit-learn.org/stable/modules/preprocessing.html\n",
      "Please also refer to the documentation for alternative solver options:\n",
      "    https://scikit-learn.org/stable/modules/linear_model.html#logistic-regression\n",
      "  n_iter_i = _check_optimize_result(\n",
      "C:\\ProgramData\\Anaconda3\\lib\\site-packages\\sklearn\\linear_model\\_logistic.py:814: ConvergenceWarning: lbfgs failed to converge (status=1):\n",
      "STOP: TOTAL NO. of ITERATIONS REACHED LIMIT.\n",
      "\n",
      "Increase the number of iterations (max_iter) or scale the data as shown in:\n",
      "    https://scikit-learn.org/stable/modules/preprocessing.html\n",
      "Please also refer to the documentation for alternative solver options:\n",
      "    https://scikit-learn.org/stable/modules/linear_model.html#logistic-regression\n",
      "  n_iter_i = _check_optimize_result(\n",
      "C:\\ProgramData\\Anaconda3\\lib\\site-packages\\sklearn\\linear_model\\_logistic.py:814: ConvergenceWarning: lbfgs failed to converge (status=1):\n",
      "STOP: TOTAL NO. of ITERATIONS REACHED LIMIT.\n",
      "\n",
      "Increase the number of iterations (max_iter) or scale the data as shown in:\n",
      "    https://scikit-learn.org/stable/modules/preprocessing.html\n",
      "Please also refer to the documentation for alternative solver options:\n",
      "    https://scikit-learn.org/stable/modules/linear_model.html#logistic-regression\n",
      "  n_iter_i = _check_optimize_result(\n",
      "C:\\ProgramData\\Anaconda3\\lib\\site-packages\\sklearn\\linear_model\\_logistic.py:814: ConvergenceWarning: lbfgs failed to converge (status=1):\n",
      "STOP: TOTAL NO. of ITERATIONS REACHED LIMIT.\n",
      "\n",
      "Increase the number of iterations (max_iter) or scale the data as shown in:\n",
      "    https://scikit-learn.org/stable/modules/preprocessing.html\n",
      "Please also refer to the documentation for alternative solver options:\n",
      "    https://scikit-learn.org/stable/modules/linear_model.html#logistic-regression\n",
      "  n_iter_i = _check_optimize_result(\n",
      "C:\\ProgramData\\Anaconda3\\lib\\site-packages\\sklearn\\linear_model\\_logistic.py:814: ConvergenceWarning: lbfgs failed to converge (status=1):\n",
      "STOP: TOTAL NO. of ITERATIONS REACHED LIMIT.\n",
      "\n",
      "Increase the number of iterations (max_iter) or scale the data as shown in:\n",
      "    https://scikit-learn.org/stable/modules/preprocessing.html\n",
      "Please also refer to the documentation for alternative solver options:\n",
      "    https://scikit-learn.org/stable/modules/linear_model.html#logistic-regression\n",
      "  n_iter_i = _check_optimize_result(\n"
     ]
    },
    {
     "name": "stdout",
     "output_type": "stream",
     "text": [
      "total time for the Grid Search:  9.442507028579712 sec\n",
      "----------\n",
      "best model params: Pipeline(steps=[('robustscaler', RobustScaler()),\n",
      "                ('logisticregression',\n",
      "                 LogisticRegression(max_iter=500, random_state=18))])\n",
      "----------\n"
     ]
    },
    {
     "name": "stderr",
     "output_type": "stream",
     "text": [
      "C:\\ProgramData\\Anaconda3\\lib\\site-packages\\sklearn\\linear_model\\_logistic.py:814: ConvergenceWarning: lbfgs failed to converge (status=1):\n",
      "STOP: TOTAL NO. of ITERATIONS REACHED LIMIT.\n",
      "\n",
      "Increase the number of iterations (max_iter) or scale the data as shown in:\n",
      "    https://scikit-learn.org/stable/modules/preprocessing.html\n",
      "Please also refer to the documentation for alternative solver options:\n",
      "    https://scikit-learn.org/stable/modules/linear_model.html#logistic-regression\n",
      "  n_iter_i = _check_optimize_result(\n"
     ]
    },
    {
     "name": "stdout",
     "output_type": "stream",
     "text": [
      "SCORES :\n",
      "Best Score: 0.6594275535001088\n",
      "test score : 0.9182978723404255\n",
      "----------\n",
      "Confusion Matrix\n",
      "[[16175    29]\n",
      " [ 1411    10]]\n",
      "----------\n",
      "temps total:  11.448099136352539 sec\n",
      "A partir d'ici\n"
     ]
    },
    {
     "data": {
      "image/png": "[encoded data removed]",
      "text/plain": [
       "<Figure size 1440x432 with 4 Axes>"
      ]
     },
     "metadata": {
      "needs_background": "light"
     },
     "output_type": "display_data"
    },
    {
     "data": {
      "application/javascript": [
       "\n",
       "            setTimeout(function() {\n",
       "                var nbb_cell_id = 81;\n",
       "                var nbb_unformatted_code = \"# Nothing\\nLR_report, y_pred_l_LR, y_pred_p_LR, LR_best_model = predic_matrix(\\n    \\\"LR\\\", LR, LR_param, \\\"roc_auc\\\"\\n)\";\n",
       "                var nbb_formatted_code = \"# Nothing\\nLR_report, y_pred_l_LR, y_pred_p_LR, LR_best_model = predic_matrix(\\n    \\\"LR\\\", LR, LR_param, \\\"roc_auc\\\"\\n)\";\n",
       "                var nbb_cells = Jupyter.notebook.get_cells();\n",
       "                for (var i = 0; i < nbb_cells.length; ++i) {\n",
       "                    if (nbb_cells[i].input_prompt_number == nbb_cell_id) {\n",
       "                        if (nbb_cells[i].get_text() == nbb_unformatted_code) {\n",
       "                             nbb_cells[i].set_text(nbb_formatted_code);\n",
       "                        }\n",
       "                        break;\n",
       "                    }\n",
       "                }\n",
       "            }, 500);\n",
       "            "
      ],
      "text/plain": [
       "<IPython.core.display.Javascript object>"
      ]
     },
     "metadata": {},
     "output_type": "display_data"
    }
   ],
   "source": [
    "# Nothing\n",
    "LR_report, y_pred_l_LR, y_pred_p_LR, LR_best_model = predic_matrix(\n",
    "    \"LR\", LR, LR_param, \"roc_auc\"\n",
    ")"
   ]
  },
  {
   "cell_type": "code",
   "execution_count": 82,
   "id": "c04a287f",
   "metadata": {
    "scrolled": true
   },
   "outputs": [
    {
     "name": "stderr",
     "output_type": "stream",
     "text": [
      "C:\\ProgramData\\Anaconda3\\lib\\site-packages\\sklearn\\linear_model\\_logistic.py:814: ConvergenceWarning: lbfgs failed to converge (status=1):\n",
      "STOP: TOTAL NO. of ITERATIONS REACHED LIMIT.\n",
      "\n",
      "Increase the number of iterations (max_iter) or scale the data as shown in:\n",
      "    https://scikit-learn.org/stable/modules/preprocessing.html\n",
      "Please also refer to the documentation for alternative solver options:\n",
      "    https://scikit-learn.org/stable/modules/linear_model.html#logistic-regression\n",
      "  n_iter_i = _check_optimize_result(\n",
      "C:\\ProgramData\\Anaconda3\\lib\\site-packages\\sklearn\\linear_model\\_logistic.py:814: ConvergenceWarning: lbfgs failed to converge (status=1):\n",
      "STOP: TOTAL NO. of ITERATIONS REACHED LIMIT.\n",
      "\n",
      "Increase the number of iterations (max_iter) or scale the data as shown in:\n",
      "    https://scikit-learn.org/stable/modules/preprocessing.html\n",
      "Please also refer to the documentation for alternative solver options:\n",
      "    https://scikit-learn.org/stable/modules/linear_model.html#logistic-regression\n",
      "  n_iter_i = _check_optimize_result(\n",
      "C:\\ProgramData\\Anaconda3\\lib\\site-packages\\sklearn\\linear_model\\_logistic.py:814: ConvergenceWarning: lbfgs failed to converge (status=1):\n",
      "STOP: TOTAL NO. of ITERATIONS REACHED LIMIT.\n",
      "\n",
      "Increase the number of iterations (max_iter) or scale the data as shown in:\n",
      "    https://scikit-learn.org/stable/modules/preprocessing.html\n",
      "Please also refer to the documentation for alternative solver options:\n",
      "    https://scikit-learn.org/stable/modules/linear_model.html#logistic-regression\n",
      "  n_iter_i = _check_optimize_result(\n",
      "C:\\ProgramData\\Anaconda3\\lib\\site-packages\\sklearn\\linear_model\\_logistic.py:814: ConvergenceWarning: lbfgs failed to converge (status=1):\n",
      "STOP: TOTAL NO. of ITERATIONS REACHED LIMIT.\n",
      "\n",
      "Increase the number of iterations (max_iter) or scale the data as shown in:\n",
      "    https://scikit-learn.org/stable/modules/preprocessing.html\n",
      "Please also refer to the documentation for alternative solver options:\n",
      "    https://scikit-learn.org/stable/modules/linear_model.html#logistic-regression\n",
      "  n_iter_i = _check_optimize_result(\n",
      "C:\\ProgramData\\Anaconda3\\lib\\site-packages\\sklearn\\linear_model\\_logistic.py:814: ConvergenceWarning: lbfgs failed to converge (status=1):\n",
      "STOP: TOTAL NO. of ITERATIONS REACHED LIMIT.\n",
      "\n",
      "Increase the number of iterations (max_iter) or scale the data as shown in:\n",
      "    https://scikit-learn.org/stable/modules/preprocessing.html\n",
      "Please also refer to the documentation for alternative solver options:\n",
      "    https://scikit-learn.org/stable/modules/linear_model.html#logistic-regression\n",
      "  n_iter_i = _check_optimize_result(\n",
      "C:\\ProgramData\\Anaconda3\\lib\\site-packages\\sklearn\\linear_model\\_logistic.py:814: ConvergenceWarning: lbfgs failed to converge (status=1):\n",
      "STOP: TOTAL NO. of ITERATIONS REACHED LIMIT.\n",
      "\n",
      "Increase the number of iterations (max_iter) or scale the data as shown in:\n",
      "    https://scikit-learn.org/stable/modules/preprocessing.html\n",
      "Please also refer to the documentation for alternative solver options:\n",
      "    https://scikit-learn.org/stable/modules/linear_model.html#logistic-regression\n",
      "  n_iter_i = _check_optimize_result(\n"
     ]
    },
    {
     "name": "stdout",
     "output_type": "stream",
     "text": [
      "total time for the Grid Search:  9.419593334197998 sec\n",
      "----------\n",
      "best model params: Pipeline(steps=[('robustscaler', RobustScaler()),\n",
      "                ('logisticregression',\n",
      "                 LogisticRegression(class_weight='balanced', max_iter=500,\n",
      "                                    random_state=18))])\n",
      "----------\n"
     ]
    },
    {
     "name": "stderr",
     "output_type": "stream",
     "text": [
      "C:\\ProgramData\\Anaconda3\\lib\\site-packages\\sklearn\\linear_model\\_logistic.py:814: ConvergenceWarning: lbfgs failed to converge (status=1):\n",
      "STOP: TOTAL NO. of ITERATIONS REACHED LIMIT.\n",
      "\n",
      "Increase the number of iterations (max_iter) or scale the data as shown in:\n",
      "    https://scikit-learn.org/stable/modules/preprocessing.html\n",
      "Please also refer to the documentation for alternative solver options:\n",
      "    https://scikit-learn.org/stable/modules/linear_model.html#logistic-regression\n",
      "  n_iter_i = _check_optimize_result(\n"
     ]
    },
    {
     "name": "stdout",
     "output_type": "stream",
     "text": [
      "SCORES :\n",
      "Best Score: 0.6795885912656913\n",
      "test score : 0.6375035460992908\n",
      "----------\n",
      "Confusion Matrix\n",
      "[[10318  5886]\n",
      " [  503   918]]\n",
      "----------\n",
      "temps total:  11.485023736953735 sec\n",
      "A partir d'ici\n"
     ]
    },
    {
     "data": {
      "image/png": "[encoded data removed]",
      "text/plain": [
       "<Figure size 1440x432 with 4 Axes>"
      ]
     },
     "metadata": {
      "needs_background": "light"
     },
     "output_type": "display_data"
    },
    {
     "data": {
      "application/javascript": [
       "\n",
       "            setTimeout(function() {\n",
       "                var nbb_cell_id = 82;\n",
       "                var nbb_unformatted_code = \"# Class balanced\\nLR_cb_report, y_pred_l_LR_cb, y_pred_p_LR_cb, LR_cb_best_model = predic_matrix(\\n    \\\"LR_weight\\\", LR_cb, LR_cb_param, \\\"roc_auc\\\"\\n)\";\n",
       "                var nbb_formatted_code = \"# Class balanced\\nLR_cb_report, y_pred_l_LR_cb, y_pred_p_LR_cb, LR_cb_best_model = predic_matrix(\\n    \\\"LR_weight\\\", LR_cb, LR_cb_param, \\\"roc_auc\\\"\\n)\";\n",
       "                var nbb_cells = Jupyter.notebook.get_cells();\n",
       "                for (var i = 0; i < nbb_cells.length; ++i) {\n",
       "                    if (nbb_cells[i].input_prompt_number == nbb_cell_id) {\n",
       "                        if (nbb_cells[i].get_text() == nbb_unformatted_code) {\n",
       "                             nbb_cells[i].set_text(nbb_formatted_code);\n",
       "                        }\n",
       "                        break;\n",
       "                    }\n",
       "                }\n",
       "            }, 500);\n",
       "            "
      ],
      "text/plain": [
       "<IPython.core.display.Javascript object>"
      ]
     },
     "metadata": {},
     "output_type": "display_data"
    }
   ],
   "source": [
    "# Class balanced\n",
    "LR_cb_report, y_pred_l_LR_cb, y_pred_p_LR_cb, LR_cb_best_model = predic_matrix(\n",
    "    \"LR_weight\", LR_cb, LR_cb_param, \"roc_auc\"\n",
    ")"
   ]
  },
  {
   "cell_type": "code",
   "execution_count": 83,
   "id": "31db1c5a",
   "metadata": {},
   "outputs": [
    {
     "name": "stderr",
     "output_type": "stream",
     "text": [
      "C:\\ProgramData\\Anaconda3\\lib\\site-packages\\sklearn\\linear_model\\_logistic.py:814: ConvergenceWarning: lbfgs failed to converge (status=1):\n",
      "STOP: TOTAL NO. of ITERATIONS REACHED LIMIT.\n",
      "\n",
      "Increase the number of iterations (max_iter) or scale the data as shown in:\n",
      "    https://scikit-learn.org/stable/modules/preprocessing.html\n",
      "Please also refer to the documentation for alternative solver options:\n",
      "    https://scikit-learn.org/stable/modules/linear_model.html#logistic-regression\n",
      "  n_iter_i = _check_optimize_result(\n",
      "C:\\ProgramData\\Anaconda3\\lib\\site-packages\\sklearn\\linear_model\\_logistic.py:814: ConvergenceWarning: lbfgs failed to converge (status=1):\n",
      "STOP: TOTAL NO. of ITERATIONS REACHED LIMIT.\n",
      "\n",
      "Increase the number of iterations (max_iter) or scale the data as shown in:\n",
      "    https://scikit-learn.org/stable/modules/preprocessing.html\n",
      "Please also refer to the documentation for alternative solver options:\n",
      "    https://scikit-learn.org/stable/modules/linear_model.html#logistic-regression\n",
      "  n_iter_i = _check_optimize_result(\n",
      "C:\\ProgramData\\Anaconda3\\lib\\site-packages\\sklearn\\linear_model\\_logistic.py:814: ConvergenceWarning: lbfgs failed to converge (status=1):\n",
      "STOP: TOTAL NO. of ITERATIONS REACHED LIMIT.\n",
      "\n",
      "Increase the number of iterations (max_iter) or scale the data as shown in:\n",
      "    https://scikit-learn.org/stable/modules/preprocessing.html\n",
      "Please also refer to the documentation for alternative solver options:\n",
      "    https://scikit-learn.org/stable/modules/linear_model.html#logistic-regression\n",
      "  n_iter_i = _check_optimize_result(\n",
      "C:\\ProgramData\\Anaconda3\\lib\\site-packages\\sklearn\\linear_model\\_logistic.py:814: ConvergenceWarning: lbfgs failed to converge (status=1):\n",
      "STOP: TOTAL NO. of ITERATIONS REACHED LIMIT.\n",
      "\n",
      "Increase the number of iterations (max_iter) or scale the data as shown in:\n",
      "    https://scikit-learn.org/stable/modules/preprocessing.html\n",
      "Please also refer to the documentation for alternative solver options:\n",
      "    https://scikit-learn.org/stable/modules/linear_model.html#logistic-regression\n",
      "  n_iter_i = _check_optimize_result(\n",
      "C:\\ProgramData\\Anaconda3\\lib\\site-packages\\sklearn\\linear_model\\_logistic.py:814: ConvergenceWarning: lbfgs failed to converge (status=1):\n",
      "STOP: TOTAL NO. of ITERATIONS REACHED LIMIT.\n",
      "\n",
      "Increase the number of iterations (max_iter) or scale the data as shown in:\n",
      "    https://scikit-learn.org/stable/modules/preprocessing.html\n",
      "Please also refer to the documentation for alternative solver options:\n",
      "    https://scikit-learn.org/stable/modules/linear_model.html#logistic-regression\n",
      "  n_iter_i = _check_optimize_result(\n",
      "C:\\ProgramData\\Anaconda3\\lib\\site-packages\\sklearn\\linear_model\\_logistic.py:814: ConvergenceWarning: lbfgs failed to converge (status=1):\n",
      "STOP: TOTAL NO. of ITERATIONS REACHED LIMIT.\n",
      "\n",
      "Increase the number of iterations (max_iter) or scale the data as shown in:\n",
      "    https://scikit-learn.org/stable/modules/preprocessing.html\n",
      "Please also refer to the documentation for alternative solver options:\n",
      "    https://scikit-learn.org/stable/modules/linear_model.html#logistic-regression\n",
      "  n_iter_i = _check_optimize_result(\n"
     ]
    },
    {
     "name": "stdout",
     "output_type": "stream",
     "text": [
      "total time for the Grid Search:  119.34310698509216 sec\n",
      "----------\n",
      "best model params: Pipeline(steps=[('sadasyn', ADASYN(sampling_strategy=0.3)),\n",
      "                ('oversample', SVMSMOTE(sampling_strategy=0.6)),\n",
      "                ('Norm', RobustScaler()),\n",
      "                ('undersampling', RandomUnderSampler()),\n",
      "                ('Classifier',\n",
      "                 LogisticRegression(max_iter=500, random_state=18))])\n",
      "----------\n"
     ]
    },
    {
     "name": "stderr",
     "output_type": "stream",
     "text": [
      "C:\\ProgramData\\Anaconda3\\lib\\site-packages\\sklearn\\linear_model\\_logistic.py:814: ConvergenceWarning: lbfgs failed to converge (status=1):\n",
      "STOP: TOTAL NO. of ITERATIONS REACHED LIMIT.\n",
      "\n",
      "Increase the number of iterations (max_iter) or scale the data as shown in:\n",
      "    https://scikit-learn.org/stable/modules/preprocessing.html\n",
      "Please also refer to the documentation for alternative solver options:\n",
      "    https://scikit-learn.org/stable/modules/linear_model.html#logistic-regression\n",
      "  n_iter_i = _check_optimize_result(\n"
     ]
    },
    {
     "name": "stdout",
     "output_type": "stream",
     "text": [
      "SCORES :\n",
      "Best Score: 0.6693738180172708\n",
      "test score : 0.6394893617021277\n",
      "----------\n",
      "Confusion Matrix\n",
      "[[10377  5827]\n",
      " [  527   894]]\n",
      "----------\n",
      "temps total:  148.49149680137634 sec\n",
      "A partir d'ici\n"
     ]
    },
    {
     "data": {
      "image/png": "[encoded data removed]",
      "text/plain": [
       "<Figure size 1440x432 with 4 Axes>"
      ]
     },
     "metadata": {
      "needs_background": "light"
     },
     "output_type": "display_data"
    },
    {
     "data": {
      "application/javascript": [
       "\n",
       "            setTimeout(function() {\n",
       "                var nbb_cell_id = 83;\n",
       "                var nbb_unformatted_code = \"# SMOTE\\nLR_S_report, y_pred_l_LR_S, y_pred_p_LR_S, LR_S_best_model = predic_matrix(\\n    \\\"LR_SMOTE\\\", LR_S, LR_S_param, \\\"roc_auc\\\"\\n)\";\n",
       "                var nbb_formatted_code = \"# SMOTE\\nLR_S_report, y_pred_l_LR_S, y_pred_p_LR_S, LR_S_best_model = predic_matrix(\\n    \\\"LR_SMOTE\\\", LR_S, LR_S_param, \\\"roc_auc\\\"\\n)\";\n",
       "                var nbb_cells = Jupyter.notebook.get_cells();\n",
       "                for (var i = 0; i < nbb_cells.length; ++i) {\n",
       "                    if (nbb_cells[i].input_prompt_number == nbb_cell_id) {\n",
       "                        if (nbb_cells[i].get_text() == nbb_unformatted_code) {\n",
       "                             nbb_cells[i].set_text(nbb_formatted_code);\n",
       "                        }\n",
       "                        break;\n",
       "                    }\n",
       "                }\n",
       "            }, 500);\n",
       "            "
      ],
      "text/plain": [
       "<IPython.core.display.Javascript object>"
      ]
     },
     "metadata": {},
     "output_type": "display_data"
    }
   ],
   "source": [
    "# SMOTE\n",
    "LR_S_report, y_pred_l_LR_S, y_pred_p_LR_S, LR_S_best_model = predic_matrix(\n",
    "    \"LR_SMOTE\", LR_S, LR_S_param, \"roc_auc\"\n",
    ")"
   ]
  },
  {
   "cell_type": "code",
   "execution_count": 84,
   "id": "d93cd3bb",
   "metadata": {},
   "outputs": [
    {
     "data": {
      "text/plain": [
       "(12300, 239)"
      ]
     },
     "execution_count": 84,
     "metadata": {},
     "output_type": "execute_result"
    },
    {
     "data": {
      "application/javascript": [
       "\n",
       "            setTimeout(function() {\n",
       "                var nbb_cell_id = 84;\n",
       "                var nbb_unformatted_code = \"X_train.shape\";\n",
       "                var nbb_formatted_code = \"X_train.shape\";\n",
       "                var nbb_cells = Jupyter.notebook.get_cells();\n",
       "                for (var i = 0; i < nbb_cells.length; ++i) {\n",
       "                    if (nbb_cells[i].input_prompt_number == nbb_cell_id) {\n",
       "                        if (nbb_cells[i].get_text() == nbb_unformatted_code) {\n",
       "                             nbb_cells[i].set_text(nbb_formatted_code);\n",
       "                        }\n",
       "                        break;\n",
       "                    }\n",
       "                }\n",
       "            }, 500);\n",
       "            "
      ],
      "text/plain": [
       "<IPython.core.display.Javascript object>"
      ]
     },
     "metadata": {},
     "output_type": "display_data"
    }
   ],
   "source": [
    "X_train.shape"
   ]
  },
  {
   "cell_type": "code",
   "execution_count": 85,
   "id": "888238e4",
   "metadata": {},
   "outputs": [
    {
     "name": "stdout",
     "output_type": "stream",
     "text": [
      "0.5118282712221248\n"
     ]
    },
    {
     "data": {
      "application/javascript": [
       "\n",
       "            setTimeout(function() {\n",
       "                var nbb_cell_id = 85;\n",
       "                var nbb_unformatted_code = \"print(y_pred_p_LR_S[0, 1])\";\n",
       "                var nbb_formatted_code = \"print(y_pred_p_LR_S[0, 1])\";\n",
       "                var nbb_cells = Jupyter.notebook.get_cells();\n",
       "                for (var i = 0; i < nbb_cells.length; ++i) {\n",
       "                    if (nbb_cells[i].input_prompt_number == nbb_cell_id) {\n",
       "                        if (nbb_cells[i].get_text() == nbb_unformatted_code) {\n",
       "                             nbb_cells[i].set_text(nbb_formatted_code);\n",
       "                        }\n",
       "                        break;\n",
       "                    }\n",
       "                }\n",
       "            }, 500);\n",
       "            "
      ],
      "text/plain": [
       "<IPython.core.display.Javascript object>"
      ]
     },
     "metadata": {},
     "output_type": "display_data"
    }
   ],
   "source": [
    "print(y_pred_p_LR_S[0, 1])"
   ]
  },
  {
   "cell_type": "code",
   "execution_count": 86,
   "id": "0bea1b56",
   "metadata": {},
   "outputs": [
    {
     "data": {
      "application/javascript": [
       "\n",
       "            setTimeout(function() {\n",
       "                var nbb_cell_id = 86;\n",
       "                var nbb_unformatted_code = \"def npdescribe(array):\\n    print(\\\"value max :\\\", np.amax(array))\\n    print(\\\"value min :\\\", np.amin(array))\\n    print(\\\"value mean :\\\", np.mean(array))\\n    print(\\\"value std :\\\", np.std(array))\";\n",
       "                var nbb_formatted_code = \"def npdescribe(array):\\n    print(\\\"value max :\\\", np.amax(array))\\n    print(\\\"value min :\\\", np.amin(array))\\n    print(\\\"value mean :\\\", np.mean(array))\\n    print(\\\"value std :\\\", np.std(array))\";\n",
       "                var nbb_cells = Jupyter.notebook.get_cells();\n",
       "                for (var i = 0; i < nbb_cells.length; ++i) {\n",
       "                    if (nbb_cells[i].input_prompt_number == nbb_cell_id) {\n",
       "                        if (nbb_cells[i].get_text() == nbb_unformatted_code) {\n",
       "                             nbb_cells[i].set_text(nbb_formatted_code);\n",
       "                        }\n",
       "                        break;\n",
       "                    }\n",
       "                }\n",
       "            }, 500);\n",
       "            "
      ],
      "text/plain": [
       "<IPython.core.display.Javascript object>"
      ]
     },
     "metadata": {},
     "output_type": "display_data"
    }
   ],
   "source": [
    "def npdescribe(array):\n",
    "    print(\"value max :\", np.amax(array))\n",
    "    print(\"value min :\", np.amin(array))\n",
    "    print(\"value mean :\", np.mean(array))\n",
    "    print(\"value std :\", np.std(array))"
   ]
  },
  {
   "cell_type": "code",
   "execution_count": 87,
   "id": "dfa6e092",
   "metadata": {
    "scrolled": true
   },
   "outputs": [
    {
     "name": "stdout",
     "output_type": "stream",
     "text": [
      "value max : 1.0\n",
      "value min : 0.0\n",
      "value mean : 0.5\n",
      "value std : 0.21703674978218374\n"
     ]
    },
    {
     "data": {
      "application/javascript": [
       "\n",
       "            setTimeout(function() {\n",
       "                var nbb_cell_id = 87;\n",
       "                var nbb_unformatted_code = \"npdescribe(y_pred_p_LR_S)\";\n",
       "                var nbb_formatted_code = \"npdescribe(y_pred_p_LR_S)\";\n",
       "                var nbb_cells = Jupyter.notebook.get_cells();\n",
       "                for (var i = 0; i < nbb_cells.length; ++i) {\n",
       "                    if (nbb_cells[i].input_prompt_number == nbb_cell_id) {\n",
       "                        if (nbb_cells[i].get_text() == nbb_unformatted_code) {\n",
       "                             nbb_cells[i].set_text(nbb_formatted_code);\n",
       "                        }\n",
       "                        break;\n",
       "                    }\n",
       "                }\n",
       "            }, 500);\n",
       "            "
      ],
      "text/plain": [
       "<IPython.core.display.Javascript object>"
      ]
     },
     "metadata": {},
     "output_type": "display_data"
    }
   ],
   "source": [
    "npdescribe(y_pred_p_LR_S)"
   ]
  },
  {
   "cell_type": "code",
   "execution_count": 88,
   "id": "796066c6",
   "metadata": {
    "scrolled": true
   },
   "outputs": [
    {
     "name": "stdout",
     "output_type": "stream",
     "text": [
      "value max : 1.0\n",
      "value min : 2.85709017507723e-39\n",
      "value mean : 0.5\n",
      "value std : 0.19774801364347075\n"
     ]
    },
    {
     "data": {
      "application/javascript": [
       "\n",
       "            setTimeout(function() {\n",
       "                var nbb_cell_id = 88;\n",
       "                var nbb_unformatted_code = \"npdescribe(y_pred_p_LR_cb)\";\n",
       "                var nbb_formatted_code = \"npdescribe(y_pred_p_LR_cb)\";\n",
       "                var nbb_cells = Jupyter.notebook.get_cells();\n",
       "                for (var i = 0; i < nbb_cells.length; ++i) {\n",
       "                    if (nbb_cells[i].input_prompt_number == nbb_cell_id) {\n",
       "                        if (nbb_cells[i].get_text() == nbb_unformatted_code) {\n",
       "                             nbb_cells[i].set_text(nbb_formatted_code);\n",
       "                        }\n",
       "                        break;\n",
       "                    }\n",
       "                }\n",
       "            }, 500);\n",
       "            "
      ],
      "text/plain": [
       "<IPython.core.display.Javascript object>"
      ]
     },
     "metadata": {},
     "output_type": "display_data"
    }
   ],
   "source": [
    "npdescribe(y_pred_p_LR_cb)"
   ]
  },
  {
   "cell_type": "code",
   "execution_count": 89,
   "id": "3e2e1a1c",
   "metadata": {
    "scrolled": true
   },
   "outputs": [
    {
     "name": "stdout",
     "output_type": "stream",
     "text": [
      "value max : 1.0\n",
      "value min : 0.0\n",
      "value mean : 0.5\n",
      "value std : 0.4208614857535279\n"
     ]
    },
    {
     "data": {
      "application/javascript": [
       "\n",
       "            setTimeout(function() {\n",
       "                var nbb_cell_id = 89;\n",
       "                var nbb_unformatted_code = \"npdescribe(y_pred_p_LR)\";\n",
       "                var nbb_formatted_code = \"npdescribe(y_pred_p_LR)\";\n",
       "                var nbb_cells = Jupyter.notebook.get_cells();\n",
       "                for (var i = 0; i < nbb_cells.length; ++i) {\n",
       "                    if (nbb_cells[i].input_prompt_number == nbb_cell_id) {\n",
       "                        if (nbb_cells[i].get_text() == nbb_unformatted_code) {\n",
       "                             nbb_cells[i].set_text(nbb_formatted_code);\n",
       "                        }\n",
       "                        break;\n",
       "                    }\n",
       "                }\n",
       "            }, 500);\n",
       "            "
      ],
      "text/plain": [
       "<IPython.core.display.Javascript object>"
      ]
     },
     "metadata": {},
     "output_type": "display_data"
    }
   ],
   "source": [
    "npdescribe(y_pred_p_LR)"
   ]
  },
  {
   "cell_type": "markdown",
   "id": "773c1780",
   "metadata": {},
   "source": [
    "### FBeta_score"
   ]
  },
  {
   "cell_type": "code",
   "execution_count": 90,
   "id": "4ebe8163",
   "metadata": {},
   "outputs": [
    {
     "data": {
      "application/javascript": [
       "\n",
       "            setTimeout(function() {\n",
       "                var nbb_cell_id = 90;\n",
       "                var nbb_unformatted_code = \"ftwo_scorer = make_scorer(fbeta_score, beta=2)\";\n",
       "                var nbb_formatted_code = \"ftwo_scorer = make_scorer(fbeta_score, beta=2)\";\n",
       "                var nbb_cells = Jupyter.notebook.get_cells();\n",
       "                for (var i = 0; i < nbb_cells.length; ++i) {\n",
       "                    if (nbb_cells[i].input_prompt_number == nbb_cell_id) {\n",
       "                        if (nbb_cells[i].get_text() == nbb_unformatted_code) {\n",
       "                             nbb_cells[i].set_text(nbb_formatted_code);\n",
       "                        }\n",
       "                        break;\n",
       "                    }\n",
       "                }\n",
       "            }, 500);\n",
       "            "
      ],
      "text/plain": [
       "<IPython.core.display.Javascript object>"
      ]
     },
     "metadata": {},
     "output_type": "display_data"
    }
   ],
   "source": [
    "ftwo_scorer = make_scorer(fbeta_score, beta=2)"
   ]
  },
  {
   "cell_type": "code",
   "execution_count": 91,
   "id": "3b6c682c",
   "metadata": {},
   "outputs": [
    {
     "name": "stderr",
     "output_type": "stream",
     "text": [
      "C:\\ProgramData\\Anaconda3\\lib\\site-packages\\sklearn\\linear_model\\_logistic.py:814: ConvergenceWarning: lbfgs failed to converge (status=1):\n",
      "STOP: TOTAL NO. of ITERATIONS REACHED LIMIT.\n",
      "\n",
      "Increase the number of iterations (max_iter) or scale the data as shown in:\n",
      "    https://scikit-learn.org/stable/modules/preprocessing.html\n",
      "Please also refer to the documentation for alternative solver options:\n",
      "    https://scikit-learn.org/stable/modules/linear_model.html#logistic-regression\n",
      "  n_iter_i = _check_optimize_result(\n",
      "C:\\ProgramData\\Anaconda3\\lib\\site-packages\\sklearn\\linear_model\\_logistic.py:814: ConvergenceWarning: lbfgs failed to converge (status=1):\n",
      "STOP: TOTAL NO. of ITERATIONS REACHED LIMIT.\n",
      "\n",
      "Increase the number of iterations (max_iter) or scale the data as shown in:\n",
      "    https://scikit-learn.org/stable/modules/preprocessing.html\n",
      "Please also refer to the documentation for alternative solver options:\n",
      "    https://scikit-learn.org/stable/modules/linear_model.html#logistic-regression\n",
      "  n_iter_i = _check_optimize_result(\n",
      "C:\\ProgramData\\Anaconda3\\lib\\site-packages\\sklearn\\linear_model\\_logistic.py:814: ConvergenceWarning: lbfgs failed to converge (status=1):\n",
      "STOP: TOTAL NO. of ITERATIONS REACHED LIMIT.\n",
      "\n",
      "Increase the number of iterations (max_iter) or scale the data as shown in:\n",
      "    https://scikit-learn.org/stable/modules/preprocessing.html\n",
      "Please also refer to the documentation for alternative solver options:\n",
      "    https://scikit-learn.org/stable/modules/linear_model.html#logistic-regression\n",
      "  n_iter_i = _check_optimize_result(\n",
      "C:\\ProgramData\\Anaconda3\\lib\\site-packages\\sklearn\\linear_model\\_logistic.py:814: ConvergenceWarning: lbfgs failed to converge (status=1):\n",
      "STOP: TOTAL NO. of ITERATIONS REACHED LIMIT.\n",
      "\n",
      "Increase the number of iterations (max_iter) or scale the data as shown in:\n",
      "    https://scikit-learn.org/stable/modules/preprocessing.html\n",
      "Please also refer to the documentation for alternative solver options:\n",
      "    https://scikit-learn.org/stable/modules/linear_model.html#logistic-regression\n",
      "  n_iter_i = _check_optimize_result(\n",
      "C:\\ProgramData\\Anaconda3\\lib\\site-packages\\sklearn\\linear_model\\_logistic.py:814: ConvergenceWarning: lbfgs failed to converge (status=1):\n",
      "STOP: TOTAL NO. of ITERATIONS REACHED LIMIT.\n",
      "\n",
      "Increase the number of iterations (max_iter) or scale the data as shown in:\n",
      "    https://scikit-learn.org/stable/modules/preprocessing.html\n",
      "Please also refer to the documentation for alternative solver options:\n",
      "    https://scikit-learn.org/stable/modules/linear_model.html#logistic-regression\n",
      "  n_iter_i = _check_optimize_result(\n",
      "C:\\ProgramData\\Anaconda3\\lib\\site-packages\\sklearn\\linear_model\\_logistic.py:814: ConvergenceWarning: lbfgs failed to converge (status=1):\n",
      "STOP: TOTAL NO. of ITERATIONS REACHED LIMIT.\n",
      "\n",
      "Increase the number of iterations (max_iter) or scale the data as shown in:\n",
      "    https://scikit-learn.org/stable/modules/preprocessing.html\n",
      "Please also refer to the documentation for alternative solver options:\n",
      "    https://scikit-learn.org/stable/modules/linear_model.html#logistic-regression\n",
      "  n_iter_i = _check_optimize_result(\n"
     ]
    },
    {
     "name": "stdout",
     "output_type": "stream",
     "text": [
      "total time for the Grid Search:  9.630067110061646 sec\n",
      "----------\n",
      "best model params: Pipeline(steps=[('robustscaler', RobustScaler()),\n",
      "                ('logisticregression',\n",
      "                 LogisticRegression(max_iter=500, random_state=18))])\n",
      "----------\n"
     ]
    },
    {
     "name": "stderr",
     "output_type": "stream",
     "text": [
      "C:\\ProgramData\\Anaconda3\\lib\\site-packages\\sklearn\\linear_model\\_logistic.py:814: ConvergenceWarning: lbfgs failed to converge (status=1):\n",
      "STOP: TOTAL NO. of ITERATIONS REACHED LIMIT.\n",
      "\n",
      "Increase the number of iterations (max_iter) or scale the data as shown in:\n",
      "    https://scikit-learn.org/stable/modules/preprocessing.html\n",
      "Please also refer to the documentation for alternative solver options:\n",
      "    https://scikit-learn.org/stable/modules/linear_model.html#logistic-regression\n",
      "  n_iter_i = _check_optimize_result(\n"
     ]
    },
    {
     "name": "stdout",
     "output_type": "stream",
     "text": [
      "SCORES :\n",
      "Best Score: 0.007800775495380536\n",
      "test score : 0.9182978723404255\n",
      "----------\n",
      "Confusion Matrix\n",
      "[[16175    29]\n",
      " [ 1411    10]]\n",
      "----------\n",
      "temps total:  11.636653184890747 sec\n",
      "A partir d'ici\n"
     ]
    },
    {
     "data": {
      "image/png": "[encoded data removed]",
      "text/plain": [
       "<Figure size 1440x432 with 4 Axes>"
      ]
     },
     "metadata": {
      "needs_background": "light"
     },
     "output_type": "display_data"
    },
    {
     "data": {
      "application/javascript": [
       "\n",
       "            setTimeout(function() {\n",
       "                var nbb_cell_id = 91;\n",
       "                var nbb_unformatted_code = \"# Nothing\\nLR_report_fb, y_pred_l_LR_fb, y_pred_p_LR_fb, LR_best_model_fb = predic_matrix(\\n    \\\"LR\\\", LR, LR_param, ftwo_scorer\\n)\";\n",
       "                var nbb_formatted_code = \"# Nothing\\nLR_report_fb, y_pred_l_LR_fb, y_pred_p_LR_fb, LR_best_model_fb = predic_matrix(\\n    \\\"LR\\\", LR, LR_param, ftwo_scorer\\n)\";\n",
       "                var nbb_cells = Jupyter.notebook.get_cells();\n",
       "                for (var i = 0; i < nbb_cells.length; ++i) {\n",
       "                    if (nbb_cells[i].input_prompt_number == nbb_cell_id) {\n",
       "                        if (nbb_cells[i].get_text() == nbb_unformatted_code) {\n",
       "                             nbb_cells[i].set_text(nbb_formatted_code);\n",
       "                        }\n",
       "                        break;\n",
       "                    }\n",
       "                }\n",
       "            }, 500);\n",
       "            "
      ],
      "text/plain": [
       "<IPython.core.display.Javascript object>"
      ]
     },
     "metadata": {},
     "output_type": "display_data"
    }
   ],
   "source": [
    "# Nothing\n",
    "LR_report_fb, y_pred_l_LR_fb, y_pred_p_LR_fb, LR_best_model_fb = predic_matrix(\n",
    "    \"LR\", LR, LR_param, ftwo_scorer\n",
    ")"
   ]
  },
  {
   "cell_type": "code",
   "execution_count": 92,
   "id": "e546102d",
   "metadata": {},
   "outputs": [
    {
     "name": "stderr",
     "output_type": "stream",
     "text": [
      "C:\\ProgramData\\Anaconda3\\lib\\site-packages\\sklearn\\linear_model\\_logistic.py:814: ConvergenceWarning: lbfgs failed to converge (status=1):\n",
      "STOP: TOTAL NO. of ITERATIONS REACHED LIMIT.\n",
      "\n",
      "Increase the number of iterations (max_iter) or scale the data as shown in:\n",
      "    https://scikit-learn.org/stable/modules/preprocessing.html\n",
      "Please also refer to the documentation for alternative solver options:\n",
      "    https://scikit-learn.org/stable/modules/linear_model.html#logistic-regression\n",
      "  n_iter_i = _check_optimize_result(\n",
      "C:\\ProgramData\\Anaconda3\\lib\\site-packages\\sklearn\\linear_model\\_logistic.py:814: ConvergenceWarning: lbfgs failed to converge (status=1):\n",
      "STOP: TOTAL NO. of ITERATIONS REACHED LIMIT.\n",
      "\n",
      "Increase the number of iterations (max_iter) or scale the data as shown in:\n",
      "    https://scikit-learn.org/stable/modules/preprocessing.html\n",
      "Please also refer to the documentation for alternative solver options:\n",
      "    https://scikit-learn.org/stable/modules/linear_model.html#logistic-regression\n",
      "  n_iter_i = _check_optimize_result(\n",
      "C:\\ProgramData\\Anaconda3\\lib\\site-packages\\sklearn\\linear_model\\_logistic.py:814: ConvergenceWarning: lbfgs failed to converge (status=1):\n",
      "STOP: TOTAL NO. of ITERATIONS REACHED LIMIT.\n",
      "\n",
      "Increase the number of iterations (max_iter) or scale the data as shown in:\n",
      "    https://scikit-learn.org/stable/modules/preprocessing.html\n",
      "Please also refer to the documentation for alternative solver options:\n",
      "    https://scikit-learn.org/stable/modules/linear_model.html#logistic-regression\n",
      "  n_iter_i = _check_optimize_result(\n",
      "C:\\ProgramData\\Anaconda3\\lib\\site-packages\\sklearn\\linear_model\\_logistic.py:814: ConvergenceWarning: lbfgs failed to converge (status=1):\n",
      "STOP: TOTAL NO. of ITERATIONS REACHED LIMIT.\n",
      "\n",
      "Increase the number of iterations (max_iter) or scale the data as shown in:\n",
      "    https://scikit-learn.org/stable/modules/preprocessing.html\n",
      "Please also refer to the documentation for alternative solver options:\n",
      "    https://scikit-learn.org/stable/modules/linear_model.html#logistic-regression\n",
      "  n_iter_i = _check_optimize_result(\n",
      "C:\\ProgramData\\Anaconda3\\lib\\site-packages\\sklearn\\linear_model\\_logistic.py:814: ConvergenceWarning: lbfgs failed to converge (status=1):\n",
      "STOP: TOTAL NO. of ITERATIONS REACHED LIMIT.\n",
      "\n",
      "Increase the number of iterations (max_iter) or scale the data as shown in:\n",
      "    https://scikit-learn.org/stable/modules/preprocessing.html\n",
      "Please also refer to the documentation for alternative solver options:\n",
      "    https://scikit-learn.org/stable/modules/linear_model.html#logistic-regression\n",
      "  n_iter_i = _check_optimize_result(\n",
      "C:\\ProgramData\\Anaconda3\\lib\\site-packages\\sklearn\\linear_model\\_logistic.py:814: ConvergenceWarning: lbfgs failed to converge (status=1):\n",
      "STOP: TOTAL NO. of ITERATIONS REACHED LIMIT.\n",
      "\n",
      "Increase the number of iterations (max_iter) or scale the data as shown in:\n",
      "    https://scikit-learn.org/stable/modules/preprocessing.html\n",
      "Please also refer to the documentation for alternative solver options:\n",
      "    https://scikit-learn.org/stable/modules/linear_model.html#logistic-regression\n",
      "  n_iter_i = _check_optimize_result(\n"
     ]
    },
    {
     "name": "stdout",
     "output_type": "stream",
     "text": [
      "total time for the Grid Search:  8.929914951324463 sec\n",
      "----------\n",
      "best model params: Pipeline(steps=[('robustscaler', RobustScaler()),\n",
      "                ('logisticregression',\n",
      "                 LogisticRegression(class_weight='balanced', max_iter=500,\n",
      "                                    random_state=18))])\n",
      "----------\n"
     ]
    },
    {
     "name": "stderr",
     "output_type": "stream",
     "text": [
      "C:\\ProgramData\\Anaconda3\\lib\\site-packages\\sklearn\\linear_model\\_logistic.py:814: ConvergenceWarning: lbfgs failed to converge (status=1):\n",
      "STOP: TOTAL NO. of ITERATIONS REACHED LIMIT.\n",
      "\n",
      "Increase the number of iterations (max_iter) or scale the data as shown in:\n",
      "    https://scikit-learn.org/stable/modules/preprocessing.html\n",
      "Please also refer to the documentation for alternative solver options:\n",
      "    https://scikit-learn.org/stable/modules/linear_model.html#logistic-regression\n",
      "  n_iter_i = _check_optimize_result(\n"
     ]
    },
    {
     "name": "stdout",
     "output_type": "stream",
     "text": [
      "SCORES :\n",
      "Best Score: 0.3454692117795269\n",
      "test score : 0.6375035460992908\n",
      "----------\n",
      "Confusion Matrix\n",
      "[[10318  5886]\n",
      " [  503   918]]\n",
      "----------\n",
      "temps total:  10.865695238113403 sec\n",
      "A partir d'ici\n"
     ]
    },
    {
     "data": {
      "image/png": "[encoded data removed]",
      "text/plain": [
       "<Figure size 1440x432 with 4 Axes>"
      ]
     },
     "metadata": {
      "needs_background": "light"
     },
     "output_type": "display_data"
    },
    {
     "data": {
      "application/javascript": [
       "\n",
       "            setTimeout(function() {\n",
       "                var nbb_cell_id = 92;\n",
       "                var nbb_unformatted_code = \"# Class balanced\\n(\\n    LR_cb_report_fb,\\n    y_pred_l_LR_cb_fb,\\n    y_pred_p_LR_cb_fb,\\n    LR_cb_best_model_fb,\\n) = predic_matrix(\\\"LR_weight\\\", LR_cb, LR_cb_param, ftwo_scorer)\";\n",
       "                var nbb_formatted_code = \"# Class balanced\\n(\\n    LR_cb_report_fb,\\n    y_pred_l_LR_cb_fb,\\n    y_pred_p_LR_cb_fb,\\n    LR_cb_best_model_fb,\\n) = predic_matrix(\\\"LR_weight\\\", LR_cb, LR_cb_param, ftwo_scorer)\";\n",
       "                var nbb_cells = Jupyter.notebook.get_cells();\n",
       "                for (var i = 0; i < nbb_cells.length; ++i) {\n",
       "                    if (nbb_cells[i].input_prompt_number == nbb_cell_id) {\n",
       "                        if (nbb_cells[i].get_text() == nbb_unformatted_code) {\n",
       "                             nbb_cells[i].set_text(nbb_formatted_code);\n",
       "                        }\n",
       "                        break;\n",
       "                    }\n",
       "                }\n",
       "            }, 500);\n",
       "            "
      ],
      "text/plain": [
       "<IPython.core.display.Javascript object>"
      ]
     },
     "metadata": {},
     "output_type": "display_data"
    }
   ],
   "source": [
    "# Class balanced\n",
    "(\n",
    "    LR_cb_report_fb,\n",
    "    y_pred_l_LR_cb_fb,\n",
    "    y_pred_p_LR_cb_fb,\n",
    "    LR_cb_best_model_fb,\n",
    ") = predic_matrix(\"LR_weight\", LR_cb, LR_cb_param, ftwo_scorer)"
   ]
  },
  {
   "cell_type": "code",
   "execution_count": 93,
   "id": "a3aaad03",
   "metadata": {},
   "outputs": [
    {
     "name": "stderr",
     "output_type": "stream",
     "text": [
      "C:\\ProgramData\\Anaconda3\\lib\\site-packages\\sklearn\\linear_model\\_logistic.py:814: ConvergenceWarning: lbfgs failed to converge (status=1):\n",
      "STOP: TOTAL NO. of ITERATIONS REACHED LIMIT.\n",
      "\n",
      "Increase the number of iterations (max_iter) or scale the data as shown in:\n",
      "    https://scikit-learn.org/stable/modules/preprocessing.html\n",
      "Please also refer to the documentation for alternative solver options:\n",
      "    https://scikit-learn.org/stable/modules/linear_model.html#logistic-regression\n",
      "  n_iter_i = _check_optimize_result(\n",
      "C:\\ProgramData\\Anaconda3\\lib\\site-packages\\sklearn\\linear_model\\_logistic.py:814: ConvergenceWarning: lbfgs failed to converge (status=1):\n",
      "STOP: TOTAL NO. of ITERATIONS REACHED LIMIT.\n",
      "\n",
      "Increase the number of iterations (max_iter) or scale the data as shown in:\n",
      "    https://scikit-learn.org/stable/modules/preprocessing.html\n",
      "Please also refer to the documentation for alternative solver options:\n",
      "    https://scikit-learn.org/stable/modules/linear_model.html#logistic-regression\n",
      "  n_iter_i = _check_optimize_result(\n",
      "C:\\ProgramData\\Anaconda3\\lib\\site-packages\\sklearn\\linear_model\\_logistic.py:814: ConvergenceWarning: lbfgs failed to converge (status=1):\n",
      "STOP: TOTAL NO. of ITERATIONS REACHED LIMIT.\n",
      "\n",
      "Increase the number of iterations (max_iter) or scale the data as shown in:\n",
      "    https://scikit-learn.org/stable/modules/preprocessing.html\n",
      "Please also refer to the documentation for alternative solver options:\n",
      "    https://scikit-learn.org/stable/modules/linear_model.html#logistic-regression\n",
      "  n_iter_i = _check_optimize_result(\n",
      "C:\\ProgramData\\Anaconda3\\lib\\site-packages\\sklearn\\linear_model\\_logistic.py:814: ConvergenceWarning: lbfgs failed to converge (status=1):\n",
      "STOP: TOTAL NO. of ITERATIONS REACHED LIMIT.\n",
      "\n",
      "Increase the number of iterations (max_iter) or scale the data as shown in:\n",
      "    https://scikit-learn.org/stable/modules/preprocessing.html\n",
      "Please also refer to the documentation for alternative solver options:\n",
      "    https://scikit-learn.org/stable/modules/linear_model.html#logistic-regression\n",
      "  n_iter_i = _check_optimize_result(\n",
      "C:\\ProgramData\\Anaconda3\\lib\\site-packages\\sklearn\\linear_model\\_logistic.py:814: ConvergenceWarning: lbfgs failed to converge (status=1):\n",
      "STOP: TOTAL NO. of ITERATIONS REACHED LIMIT.\n",
      "\n",
      "Increase the number of iterations (max_iter) or scale the data as shown in:\n",
      "    https://scikit-learn.org/stable/modules/preprocessing.html\n",
      "Please also refer to the documentation for alternative solver options:\n",
      "    https://scikit-learn.org/stable/modules/linear_model.html#logistic-regression\n",
      "  n_iter_i = _check_optimize_result(\n",
      "C:\\ProgramData\\Anaconda3\\lib\\site-packages\\sklearn\\linear_model\\_logistic.py:814: ConvergenceWarning: lbfgs failed to converge (status=1):\n",
      "STOP: TOTAL NO. of ITERATIONS REACHED LIMIT.\n",
      "\n",
      "Increase the number of iterations (max_iter) or scale the data as shown in:\n",
      "    https://scikit-learn.org/stable/modules/preprocessing.html\n",
      "Please also refer to the documentation for alternative solver options:\n",
      "    https://scikit-learn.org/stable/modules/linear_model.html#logistic-regression\n",
      "  n_iter_i = _check_optimize_result(\n"
     ]
    },
    {
     "name": "stdout",
     "output_type": "stream",
     "text": [
      "total time for the Grid Search:  117.83620619773865 sec\n",
      "----------\n",
      "best model params: Pipeline(steps=[('sadasyn', ADASYN(sampling_strategy=0.3)),\n",
      "                ('oversample', SVMSMOTE(sampling_strategy=0.6)),\n",
      "                ('Norm', RobustScaler()),\n",
      "                ('undersampling', RandomUnderSampler()),\n",
      "                ('Classifier',\n",
      "                 LogisticRegression(max_iter=500, random_state=18))])\n",
      "----------\n"
     ]
    },
    {
     "name": "stderr",
     "output_type": "stream",
     "text": [
      "C:\\ProgramData\\Anaconda3\\lib\\site-packages\\sklearn\\linear_model\\_logistic.py:814: ConvergenceWarning: lbfgs failed to converge (status=1):\n",
      "STOP: TOTAL NO. of ITERATIONS REACHED LIMIT.\n",
      "\n",
      "Increase the number of iterations (max_iter) or scale the data as shown in:\n",
      "    https://scikit-learn.org/stable/modules/preprocessing.html\n",
      "Please also refer to the documentation for alternative solver options:\n",
      "    https://scikit-learn.org/stable/modules/linear_model.html#logistic-regression\n",
      "  n_iter_i = _check_optimize_result(\n"
     ]
    },
    {
     "name": "stdout",
     "output_type": "stream",
     "text": [
      "SCORES :\n",
      "Best Score: 0.34577931568624465\n",
      "test score : 0.5294184397163121\n",
      "----------\n",
      "Confusion Matrix\n",
      "[[8369 7835]\n",
      " [ 459  962]]\n",
      "----------\n",
      "temps total:  145.94440054893494 sec\n",
      "A partir d'ici\n"
     ]
    },
    {
     "data": {
      "image/png": "[encoded data removed]",
      "text/plain": [
       "<Figure size 1440x432 with 4 Axes>"
      ]
     },
     "metadata": {
      "needs_background": "light"
     },
     "output_type": "display_data"
    },
    {
     "data": {
      "application/javascript": [
       "\n",
       "            setTimeout(function() {\n",
       "                var nbb_cell_id = 93;\n",
       "                var nbb_unformatted_code = \"# Smote\\nLR_S_report_fb, y_pred_l_LR_S_fb, y_pred_p_LR_S_fb, LR_S_best_model_fb = predic_matrix(\\n    \\\"LR_SMOTE\\\", LR_S, LR_S_param, ftwo_scorer\\n)\";\n",
       "                var nbb_formatted_code = \"# Smote\\nLR_S_report_fb, y_pred_l_LR_S_fb, y_pred_p_LR_S_fb, LR_S_best_model_fb = predic_matrix(\\n    \\\"LR_SMOTE\\\", LR_S, LR_S_param, ftwo_scorer\\n)\";\n",
       "                var nbb_cells = Jupyter.notebook.get_cells();\n",
       "                for (var i = 0; i < nbb_cells.length; ++i) {\n",
       "                    if (nbb_cells[i].input_prompt_number == nbb_cell_id) {\n",
       "                        if (nbb_cells[i].get_text() == nbb_unformatted_code) {\n",
       "                             nbb_cells[i].set_text(nbb_formatted_code);\n",
       "                        }\n",
       "                        break;\n",
       "                    }\n",
       "                }\n",
       "            }, 500);\n",
       "            "
      ],
      "text/plain": [
       "<IPython.core.display.Javascript object>"
      ]
     },
     "metadata": {},
     "output_type": "display_data"
    }
   ],
   "source": [
    "# Smote\n",
    "LR_S_report_fb, y_pred_l_LR_S_fb, y_pred_p_LR_S_fb, LR_S_best_model_fb = predic_matrix(\n",
    "    \"LR_SMOTE\", LR_S, LR_S_param, ftwo_scorer\n",
    ")"
   ]
  },
  {
   "cell_type": "markdown",
   "id": "8dc561bf",
   "metadata": {},
   "source": [
    "### Custom_score"
   ]
  },
  {
   "cell_type": "code",
   "execution_count": 94,
   "id": "442e04d5",
   "metadata": {},
   "outputs": [
    {
     "data": {
      "application/javascript": [
       "\n",
       "            setTimeout(function() {\n",
       "                var nbb_cell_id = 94;\n",
       "                var nbb_unformatted_code = \"def fonction_metier(y_test, y_pred):\\n    tn, fp, fn, tp = confusion_matrix(y_test, y_pred).ravel()\\n    return tp - (33 * fn)\";\n",
       "                var nbb_formatted_code = \"def fonction_metier(y_test, y_pred):\\n    tn, fp, fn, tp = confusion_matrix(y_test, y_pred).ravel()\\n    return tp - (33 * fn)\";\n",
       "                var nbb_cells = Jupyter.notebook.get_cells();\n",
       "                for (var i = 0; i < nbb_cells.length; ++i) {\n",
       "                    if (nbb_cells[i].input_prompt_number == nbb_cell_id) {\n",
       "                        if (nbb_cells[i].get_text() == nbb_unformatted_code) {\n",
       "                             nbb_cells[i].set_text(nbb_formatted_code);\n",
       "                        }\n",
       "                        break;\n",
       "                    }\n",
       "                }\n",
       "            }, 500);\n",
       "            "
      ],
      "text/plain": [
       "<IPython.core.display.Javascript object>"
      ]
     },
     "metadata": {},
     "output_type": "display_data"
    }
   ],
   "source": [
    "def fonction_metier(y_test, y_pred):\n",
    "    tn, fp, fn, tp = confusion_matrix(y_test, y_pred).ravel()\n",
    "    return ((tn/(tn+fp)) - (33 * fn/(fn+tp)))/32"
   ]
  },
  {
   "cell_type": "code",
   "execution_count": 95,
   "id": "74c4dbf7",
   "metadata": {},
   "outputs": [
    {
     "data": {
      "application/javascript": [
       "\n",
       "            setTimeout(function() {\n",
       "                var nbb_cell_id = 95;\n",
       "                var nbb_unformatted_code = \"custom_score = make_scorer(fonction_metier, greater_is_better=True)\";\n",
       "                var nbb_formatted_code = \"custom_score = make_scorer(fonction_metier, greater_is_better=True)\";\n",
       "                var nbb_cells = Jupyter.notebook.get_cells();\n",
       "                for (var i = 0; i < nbb_cells.length; ++i) {\n",
       "                    if (nbb_cells[i].input_prompt_number == nbb_cell_id) {\n",
       "                        if (nbb_cells[i].get_text() == nbb_unformatted_code) {\n",
       "                             nbb_cells[i].set_text(nbb_formatted_code);\n",
       "                        }\n",
       "                        break;\n",
       "                    }\n",
       "                }\n",
       "            }, 500);\n",
       "            "
      ],
      "text/plain": [
       "<IPython.core.display.Javascript object>"
      ]
     },
     "metadata": {},
     "output_type": "display_data"
    }
   ],
   "source": [
    "custom_score = make_scorer(fonction_metier, greater_is_better=True)"
   ]
  },
  {
   "cell_type": "code",
   "execution_count": 96,
   "id": "e53c3135",
   "metadata": {},
   "outputs": [
    {
     "name": "stderr",
     "output_type": "stream",
     "text": [
      "C:\\ProgramData\\Anaconda3\\lib\\site-packages\\sklearn\\linear_model\\_logistic.py:814: ConvergenceWarning: lbfgs failed to converge (status=1):\n",
      "STOP: TOTAL NO. of ITERATIONS REACHED LIMIT.\n",
      "\n",
      "Increase the number of iterations (max_iter) or scale the data as shown in:\n",
      "    https://scikit-learn.org/stable/modules/preprocessing.html\n",
      "Please also refer to the documentation for alternative solver options:\n",
      "    https://scikit-learn.org/stable/modules/linear_model.html#logistic-regression\n",
      "  n_iter_i = _check_optimize_result(\n",
      "C:\\ProgramData\\Anaconda3\\lib\\site-packages\\sklearn\\linear_model\\_logistic.py:814: ConvergenceWarning: lbfgs failed to converge (status=1):\n",
      "STOP: TOTAL NO. of ITERATIONS REACHED LIMIT.\n",
      "\n",
      "Increase the number of iterations (max_iter) or scale the data as shown in:\n",
      "    https://scikit-learn.org/stable/modules/preprocessing.html\n",
      "Please also refer to the documentation for alternative solver options:\n",
      "    https://scikit-learn.org/stable/modules/linear_model.html#logistic-regression\n",
      "  n_iter_i = _check_optimize_result(\n",
      "C:\\ProgramData\\Anaconda3\\lib\\site-packages\\sklearn\\linear_model\\_logistic.py:814: ConvergenceWarning: lbfgs failed to converge (status=1):\n",
      "STOP: TOTAL NO. of ITERATIONS REACHED LIMIT.\n",
      "\n",
      "Increase the number of iterations (max_iter) or scale the data as shown in:\n",
      "    https://scikit-learn.org/stable/modules/preprocessing.html\n",
      "Please also refer to the documentation for alternative solver options:\n",
      "    https://scikit-learn.org/stable/modules/linear_model.html#logistic-regression\n",
      "  n_iter_i = _check_optimize_result(\n",
      "C:\\ProgramData\\Anaconda3\\lib\\site-packages\\sklearn\\linear_model\\_logistic.py:814: ConvergenceWarning: lbfgs failed to converge (status=1):\n",
      "STOP: TOTAL NO. of ITERATIONS REACHED LIMIT.\n",
      "\n",
      "Increase the number of iterations (max_iter) or scale the data as shown in:\n",
      "    https://scikit-learn.org/stable/modules/preprocessing.html\n",
      "Please also refer to the documentation for alternative solver options:\n",
      "    https://scikit-learn.org/stable/modules/linear_model.html#logistic-regression\n",
      "  n_iter_i = _check_optimize_result(\n",
      "C:\\ProgramData\\Anaconda3\\lib\\site-packages\\sklearn\\linear_model\\_logistic.py:814: ConvergenceWarning: lbfgs failed to converge (status=1):\n",
      "STOP: TOTAL NO. of ITERATIONS REACHED LIMIT.\n",
      "\n",
      "Increase the number of iterations (max_iter) or scale the data as shown in:\n",
      "    https://scikit-learn.org/stable/modules/preprocessing.html\n",
      "Please also refer to the documentation for alternative solver options:\n",
      "    https://scikit-learn.org/stable/modules/linear_model.html#logistic-regression\n",
      "  n_iter_i = _check_optimize_result(\n",
      "C:\\ProgramData\\Anaconda3\\lib\\site-packages\\sklearn\\linear_model\\_logistic.py:814: ConvergenceWarning: lbfgs failed to converge (status=1):\n",
      "STOP: TOTAL NO. of ITERATIONS REACHED LIMIT.\n",
      "\n",
      "Increase the number of iterations (max_iter) or scale the data as shown in:\n",
      "    https://scikit-learn.org/stable/modules/preprocessing.html\n",
      "Please also refer to the documentation for alternative solver options:\n",
      "    https://scikit-learn.org/stable/modules/linear_model.html#logistic-regression\n",
      "  n_iter_i = _check_optimize_result(\n"
     ]
    },
    {
     "name": "stdout",
     "output_type": "stream",
     "text": [
      "total time for the Grid Search:  9.375712871551514 sec\n",
      "----------\n",
      "best model params: Pipeline(steps=[('robustscaler', RobustScaler()),\n",
      "                ('logisticregression',\n",
      "                 LogisticRegression(max_iter=500, random_state=18))])\n",
      "----------\n"
     ]
    },
    {
     "name": "stderr",
     "output_type": "stream",
     "text": [
      "C:\\ProgramData\\Anaconda3\\lib\\site-packages\\sklearn\\linear_model\\_logistic.py:814: ConvergenceWarning: lbfgs failed to converge (status=1):\n",
      "STOP: TOTAL NO. of ITERATIONS REACHED LIMIT.\n",
      "\n",
      "Increase the number of iterations (max_iter) or scale the data as shown in:\n",
      "    https://scikit-learn.org/stable/modules/preprocessing.html\n",
      "Please also refer to the documentation for alternative solver options:\n",
      "    https://scikit-learn.org/stable/modules/linear_model.html#logistic-regression\n",
      "  n_iter_i = _check_optimize_result(\n"
     ]
    },
    {
     "name": "stdout",
     "output_type": "stream",
     "text": [
      "SCORES :\n",
      "Best Score: -6249.0\n",
      "test score : 0.9182978723404255\n",
      "----------\n",
      "Confusion Matrix\n",
      "[[16175    29]\n",
      " [ 1411    10]]\n",
      "----------\n",
      "temps total:  11.342408895492554 sec\n",
      "A partir d'ici\n"
     ]
    },
    {
     "data": {
      "image/png": "[encoded data removed]",
      "text/plain": [
       "<Figure size 1440x432 with 4 Axes>"
      ]
     },
     "metadata": {
      "needs_background": "light"
     },
     "output_type": "display_data"
    },
    {
     "data": {
      "application/javascript": [
       "\n",
       "            setTimeout(function() {\n",
       "                var nbb_cell_id = 96;\n",
       "                var nbb_unformatted_code = \"# Nothing\\nLR_report_csc, y_pred_l_LR_csc, y_pred_p_LR_csc, LR_best_model_csc = predic_matrix(\\n    \\\"LR\\\", LR, LR_param, custom_score\\n)\";\n",
       "                var nbb_formatted_code = \"# Nothing\\nLR_report_csc, y_pred_l_LR_csc, y_pred_p_LR_csc, LR_best_model_csc = predic_matrix(\\n    \\\"LR\\\", LR, LR_param, custom_score\\n)\";\n",
       "                var nbb_cells = Jupyter.notebook.get_cells();\n",
       "                for (var i = 0; i < nbb_cells.length; ++i) {\n",
       "                    if (nbb_cells[i].input_prompt_number == nbb_cell_id) {\n",
       "                        if (nbb_cells[i].get_text() == nbb_unformatted_code) {\n",
       "                             nbb_cells[i].set_text(nbb_formatted_code);\n",
       "                        }\n",
       "                        break;\n",
       "                    }\n",
       "                }\n",
       "            }, 500);\n",
       "            "
      ],
      "text/plain": [
       "<IPython.core.display.Javascript object>"
      ]
     },
     "metadata": {},
     "output_type": "display_data"
    }
   ],
   "source": [
    "# Nothing\n",
    "LR_report_csc, y_pred_l_LR_csc, y_pred_p_LR_csc, LR_best_model_csc = predic_matrix(\n",
    "    \"LR\", LR, LR_param, custom_score\n",
    ")"
   ]
  },
  {
   "cell_type": "code",
   "execution_count": 97,
   "id": "a1e38be4",
   "metadata": {
    "scrolled": true
   },
   "outputs": [
    {
     "name": "stderr",
     "output_type": "stream",
     "text": [
      "C:\\ProgramData\\Anaconda3\\lib\\site-packages\\sklearn\\linear_model\\_logistic.py:814: ConvergenceWarning: lbfgs failed to converge (status=1):\n",
      "STOP: TOTAL NO. of ITERATIONS REACHED LIMIT.\n",
      "\n",
      "Increase the number of iterations (max_iter) or scale the data as shown in:\n",
      "    https://scikit-learn.org/stable/modules/preprocessing.html\n",
      "Please also refer to the documentation for alternative solver options:\n",
      "    https://scikit-learn.org/stable/modules/linear_model.html#logistic-regression\n",
      "  n_iter_i = _check_optimize_result(\n",
      "C:\\ProgramData\\Anaconda3\\lib\\site-packages\\sklearn\\linear_model\\_logistic.py:814: ConvergenceWarning: lbfgs failed to converge (status=1):\n",
      "STOP: TOTAL NO. of ITERATIONS REACHED LIMIT.\n",
      "\n",
      "Increase the number of iterations (max_iter) or scale the data as shown in:\n",
      "    https://scikit-learn.org/stable/modules/preprocessing.html\n",
      "Please also refer to the documentation for alternative solver options:\n",
      "    https://scikit-learn.org/stable/modules/linear_model.html#logistic-regression\n",
      "  n_iter_i = _check_optimize_result(\n",
      "C:\\ProgramData\\Anaconda3\\lib\\site-packages\\sklearn\\linear_model\\_logistic.py:814: ConvergenceWarning: lbfgs failed to converge (status=1):\n",
      "STOP: TOTAL NO. of ITERATIONS REACHED LIMIT.\n",
      "\n",
      "Increase the number of iterations (max_iter) or scale the data as shown in:\n",
      "    https://scikit-learn.org/stable/modules/preprocessing.html\n",
      "Please also refer to the documentation for alternative solver options:\n",
      "    https://scikit-learn.org/stable/modules/linear_model.html#logistic-regression\n",
      "  n_iter_i = _check_optimize_result(\n",
      "C:\\ProgramData\\Anaconda3\\lib\\site-packages\\sklearn\\linear_model\\_logistic.py:814: ConvergenceWarning: lbfgs failed to converge (status=1):\n",
      "STOP: TOTAL NO. of ITERATIONS REACHED LIMIT.\n",
      "\n",
      "Increase the number of iterations (max_iter) or scale the data as shown in:\n",
      "    https://scikit-learn.org/stable/modules/preprocessing.html\n",
      "Please also refer to the documentation for alternative solver options:\n",
      "    https://scikit-learn.org/stable/modules/linear_model.html#logistic-regression\n",
      "  n_iter_i = _check_optimize_result(\n",
      "C:\\ProgramData\\Anaconda3\\lib\\site-packages\\sklearn\\linear_model\\_logistic.py:814: ConvergenceWarning: lbfgs failed to converge (status=1):\n",
      "STOP: TOTAL NO. of ITERATIONS REACHED LIMIT.\n",
      "\n",
      "Increase the number of iterations (max_iter) or scale the data as shown in:\n",
      "    https://scikit-learn.org/stable/modules/preprocessing.html\n",
      "Please also refer to the documentation for alternative solver options:\n",
      "    https://scikit-learn.org/stable/modules/linear_model.html#logistic-regression\n",
      "  n_iter_i = _check_optimize_result(\n",
      "C:\\ProgramData\\Anaconda3\\lib\\site-packages\\sklearn\\linear_model\\_logistic.py:814: ConvergenceWarning: lbfgs failed to converge (status=1):\n",
      "STOP: TOTAL NO. of ITERATIONS REACHED LIMIT.\n",
      "\n",
      "Increase the number of iterations (max_iter) or scale the data as shown in:\n",
      "    https://scikit-learn.org/stable/modules/preprocessing.html\n",
      "Please also refer to the documentation for alternative solver options:\n",
      "    https://scikit-learn.org/stable/modules/linear_model.html#logistic-regression\n",
      "  n_iter_i = _check_optimize_result(\n"
     ]
    },
    {
     "name": "stdout",
     "output_type": "stream",
     "text": [
      "total time for the Grid Search:  9.001722574234009 sec\n",
      "----------\n",
      "best model params: Pipeline(steps=[('robustscaler', RobustScaler()),\n",
      "                ('logisticregression',\n",
      "                 LogisticRegression(class_weight='balanced', max_iter=500,\n",
      "                                    random_state=18))])\n",
      "----------\n"
     ]
    },
    {
     "name": "stderr",
     "output_type": "stream",
     "text": [
      "C:\\ProgramData\\Anaconda3\\lib\\site-packages\\sklearn\\linear_model\\_logistic.py:814: ConvergenceWarning: lbfgs failed to converge (status=1):\n",
      "STOP: TOTAL NO. of ITERATIONS REACHED LIMIT.\n",
      "\n",
      "Increase the number of iterations (max_iter) or scale the data as shown in:\n",
      "    https://scikit-learn.org/stable/modules/preprocessing.html\n",
      "Please also refer to the documentation for alternative solver options:\n",
      "    https://scikit-learn.org/stable/modules/linear_model.html#logistic-regression\n",
      "  n_iter_i = _check_optimize_result(\n"
     ]
    },
    {
     "name": "stdout",
     "output_type": "stream",
     "text": [
      "SCORES :\n",
      "Best Score: -2420.6\n",
      "test score : 0.6375035460992908\n",
      "----------\n",
      "Confusion Matrix\n",
      "[[10318  5886]\n",
      " [  503   918]]\n",
      "----------\n",
      "temps total:  10.865694761276245 sec\n",
      "A partir d'ici\n"
     ]
    },
    {
     "data": {
      "image/png": "[encoded data removed]",
      "text/plain": [
       "<Figure size 1440x432 with 4 Axes>"
      ]
     },
     "metadata": {
      "needs_background": "light"
     },
     "output_type": "display_data"
    },
    {
     "data": {
      "application/javascript": [
       "\n",
       "            setTimeout(function() {\n",
       "                var nbb_cell_id = 97;\n",
       "                var nbb_unformatted_code = \"# Class balanced\\n(\\n    LR_cb_report_csc,\\n    y_pred_l_LR_cb_csc,\\n    y_pred_p_LR_cb_csc,\\n    LR_cb_best_model_csc,\\n) = predic_matrix(\\\"LR_weight\\\", LR_cb, LR_cb_param, custom_score)\";\n",
       "                var nbb_formatted_code = \"# Class balanced\\n(\\n    LR_cb_report_csc,\\n    y_pred_l_LR_cb_csc,\\n    y_pred_p_LR_cb_csc,\\n    LR_cb_best_model_csc,\\n) = predic_matrix(\\\"LR_weight\\\", LR_cb, LR_cb_param, custom_score)\";\n",
       "                var nbb_cells = Jupyter.notebook.get_cells();\n",
       "                for (var i = 0; i < nbb_cells.length; ++i) {\n",
       "                    if (nbb_cells[i].input_prompt_number == nbb_cell_id) {\n",
       "                        if (nbb_cells[i].get_text() == nbb_unformatted_code) {\n",
       "                             nbb_cells[i].set_text(nbb_formatted_code);\n",
       "                        }\n",
       "                        break;\n",
       "                    }\n",
       "                }\n",
       "            }, 500);\n",
       "            "
      ],
      "text/plain": [
       "<IPython.core.display.Javascript object>"
      ]
     },
     "metadata": {},
     "output_type": "display_data"
    }
   ],
   "source": [
    "# Class balanced\n",
    "(\n",
    "    LR_cb_report_csc,\n",
    "    y_pred_l_LR_cb_csc,\n",
    "    y_pred_p_LR_cb_csc,\n",
    "    LR_cb_best_model_csc,\n",
    ") = predic_matrix(\"LR_weight\", LR_cb, LR_cb_param, custom_score)"
   ]
  },
  {
   "cell_type": "code",
   "execution_count": 98,
   "id": "62a1b143",
   "metadata": {
    "scrolled": false
   },
   "outputs": [
    {
     "name": "stderr",
     "output_type": "stream",
     "text": [
      "C:\\ProgramData\\Anaconda3\\lib\\site-packages\\sklearn\\linear_model\\_logistic.py:814: ConvergenceWarning: lbfgs failed to converge (status=1):\n",
      "STOP: TOTAL NO. of ITERATIONS REACHED LIMIT.\n",
      "\n",
      "Increase the number of iterations (max_iter) or scale the data as shown in:\n",
      "    https://scikit-learn.org/stable/modules/preprocessing.html\n",
      "Please also refer to the documentation for alternative solver options:\n",
      "    https://scikit-learn.org/stable/modules/linear_model.html#logistic-regression\n",
      "  n_iter_i = _check_optimize_result(\n",
      "C:\\ProgramData\\Anaconda3\\lib\\site-packages\\sklearn\\linear_model\\_logistic.py:814: ConvergenceWarning: lbfgs failed to converge (status=1):\n",
      "STOP: TOTAL NO. of ITERATIONS REACHED LIMIT.\n",
      "\n",
      "Increase the number of iterations (max_iter) or scale the data as shown in:\n",
      "    https://scikit-learn.org/stable/modules/preprocessing.html\n",
      "Please also refer to the documentation for alternative solver options:\n",
      "    https://scikit-learn.org/stable/modules/linear_model.html#logistic-regression\n",
      "  n_iter_i = _check_optimize_result(\n",
      "C:\\ProgramData\\Anaconda3\\lib\\site-packages\\sklearn\\linear_model\\_logistic.py:814: ConvergenceWarning: lbfgs failed to converge (status=1):\n",
      "STOP: TOTAL NO. of ITERATIONS REACHED LIMIT.\n",
      "\n",
      "Increase the number of iterations (max_iter) or scale the data as shown in:\n",
      "    https://scikit-learn.org/stable/modules/preprocessing.html\n",
      "Please also refer to the documentation for alternative solver options:\n",
      "    https://scikit-learn.org/stable/modules/linear_model.html#logistic-regression\n",
      "  n_iter_i = _check_optimize_result(\n",
      "C:\\ProgramData\\Anaconda3\\lib\\site-packages\\sklearn\\linear_model\\_logistic.py:814: ConvergenceWarning: lbfgs failed to converge (status=1):\n",
      "STOP: TOTAL NO. of ITERATIONS REACHED LIMIT.\n",
      "\n",
      "Increase the number of iterations (max_iter) or scale the data as shown in:\n",
      "    https://scikit-learn.org/stable/modules/preprocessing.html\n",
      "Please also refer to the documentation for alternative solver options:\n",
      "    https://scikit-learn.org/stable/modules/linear_model.html#logistic-regression\n",
      "  n_iter_i = _check_optimize_result(\n",
      "C:\\ProgramData\\Anaconda3\\lib\\site-packages\\sklearn\\linear_model\\_logistic.py:814: ConvergenceWarning: lbfgs failed to converge (status=1):\n",
      "STOP: TOTAL NO. of ITERATIONS REACHED LIMIT.\n",
      "\n",
      "Increase the number of iterations (max_iter) or scale the data as shown in:\n",
      "    https://scikit-learn.org/stable/modules/preprocessing.html\n",
      "Please also refer to the documentation for alternative solver options:\n",
      "    https://scikit-learn.org/stable/modules/linear_model.html#logistic-regression\n",
      "  n_iter_i = _check_optimize_result(\n",
      "C:\\ProgramData\\Anaconda3\\lib\\site-packages\\sklearn\\linear_model\\_logistic.py:814: ConvergenceWarning: lbfgs failed to converge (status=1):\n",
      "STOP: TOTAL NO. of ITERATIONS REACHED LIMIT.\n",
      "\n",
      "Increase the number of iterations (max_iter) or scale the data as shown in:\n",
      "    https://scikit-learn.org/stable/modules/preprocessing.html\n",
      "Please also refer to the documentation for alternative solver options:\n",
      "    https://scikit-learn.org/stable/modules/linear_model.html#logistic-regression\n",
      "  n_iter_i = _check_optimize_result(\n"
     ]
    },
    {
     "name": "stdout",
     "output_type": "stream",
     "text": [
      "total time for the Grid Search:  122.9863178730011 sec\n",
      "----------\n",
      "best model params: Pipeline(steps=[('sadasyn', ADASYN(sampling_strategy=0.3)),\n",
      "                ('oversample', SVMSMOTE(sampling_strategy=0.6)),\n",
      "                ('Norm', RobustScaler()),\n",
      "                ('undersampling', RandomUnderSampler()),\n",
      "                ('Classifier',\n",
      "                 LogisticRegression(max_iter=500, random_state=18))])\n",
      "----------\n"
     ]
    },
    {
     "name": "stderr",
     "output_type": "stream",
     "text": [
      "C:\\ProgramData\\Anaconda3\\lib\\site-packages\\sklearn\\linear_model\\_logistic.py:814: ConvergenceWarning: lbfgs failed to converge (status=1):\n",
      "STOP: TOTAL NO. of ITERATIONS REACHED LIMIT.\n",
      "\n",
      "Increase the number of iterations (max_iter) or scale the data as shown in:\n",
      "    https://scikit-learn.org/stable/modules/preprocessing.html\n",
      "Please also refer to the documentation for alternative solver options:\n",
      "    https://scikit-learn.org/stable/modules/linear_model.html#logistic-regression\n",
      "  n_iter_i = _check_optimize_result(\n"
     ]
    },
    {
     "name": "stdout",
     "output_type": "stream",
     "text": [
      "SCORES :\n",
      "Best Score: -2352.6\n",
      "test score : 0.6495886524822695\n",
      "----------\n",
      "Confusion Matrix\n",
      "[[10552  5652]\n",
      " [  524   897]]\n",
      "----------\n",
      "temps total:  154.70876264572144 sec\n",
      "A partir d'ici\n"
     ]
    },
    {
     "data": {
      "image/png": "[encoded data removed]",
      "text/plain": [
       "<Figure size 1440x432 with 4 Axes>"
      ]
     },
     "metadata": {
      "needs_background": "light"
     },
     "output_type": "display_data"
    },
    {
     "data": {
      "application/javascript": [
       "\n",
       "            setTimeout(function() {\n",
       "                var nbb_cell_id = 98;\n",
       "                var nbb_unformatted_code = \"# Smote\\n(\\n    LR_S_report_csc,\\n    y_pred_l_LR_S_csc,\\n    y_pred_p_LR_S_csc,\\n    LR_S_best_model_csc,\\n) = predic_matrix(\\\"LR_SMOTE\\\", LR_S, LR_S_param, custom_score)\";\n",
       "                var nbb_formatted_code = \"# Smote\\n(\\n    LR_S_report_csc,\\n    y_pred_l_LR_S_csc,\\n    y_pred_p_LR_S_csc,\\n    LR_S_best_model_csc,\\n) = predic_matrix(\\\"LR_SMOTE\\\", LR_S, LR_S_param, custom_score)\";\n",
       "                var nbb_cells = Jupyter.notebook.get_cells();\n",
       "                for (var i = 0; i < nbb_cells.length; ++i) {\n",
       "                    if (nbb_cells[i].input_prompt_number == nbb_cell_id) {\n",
       "                        if (nbb_cells[i].get_text() == nbb_unformatted_code) {\n",
       "                             nbb_cells[i].set_text(nbb_formatted_code);\n",
       "                        }\n",
       "                        break;\n",
       "                    }\n",
       "                }\n",
       "            }, 500);\n",
       "            "
      ],
      "text/plain": [
       "<IPython.core.display.Javascript object>"
      ]
     },
     "metadata": {},
     "output_type": "display_data"
    }
   ],
   "source": [
    "# Smote\n",
    "(\n",
    "    LR_S_report_csc,\n",
    "    y_pred_l_LR_S_csc,\n",
    "    y_pred_p_LR_S_csc,\n",
    "    LR_S_best_model_csc,\n",
    ") = predic_matrix(\"LR_SMOTE\", LR_S, LR_S_param, custom_score)"
   ]
  },
  {
   "cell_type": "markdown",
   "id": "80a5d1e6",
   "metadata": {},
   "source": [
    "### Comparatif"
   ]
  },
  {
   "cell_type": "code",
   "execution_count": 99,
   "id": "7b34824e",
   "metadata": {},
   "outputs": [
    {
     "data": {
      "application/javascript": [
       "\n",
       "            setTimeout(function() {\n",
       "                var nbb_cell_id = 99;\n",
       "                var nbb_unformatted_code = \"columns_compar = [\\n    \\\"model\\\",\\n    \\\"scoring\\\",\\n    \\\"score_trains\\\",\\n    \\\"std_trains\\\",\\n    \\\"fitting_time\\\",\\n    \\\"std_fit\\\",\\n    \\\"predict_time\\\",\\n    \\\"score_test\\\",\\n    \\\"FPR\\\",\\n    \\\"FNR\\\",\\n]\\ncomparatif = [\\n    LR_report,\\n    LR_cb_report,\\n    LR_S_report,\\n    LR_report_fb,\\n    LR_cb_report_fb,\\n    LR_S_report_fb,\\n    LR_report_csc,\\n    LR_cb_report_csc,\\n    LR_S_report_csc,\\n]\\ndf_compar = pd.DataFrame(columns=columns_compar, data=comparatif)\";\n",
       "                var nbb_formatted_code = \"columns_compar = [\\n    \\\"model\\\",\\n    \\\"scoring\\\",\\n    \\\"score_trains\\\",\\n    \\\"std_trains\\\",\\n    \\\"fitting_time\\\",\\n    \\\"std_fit\\\",\\n    \\\"predict_time\\\",\\n    \\\"score_test\\\",\\n    \\\"FPR\\\",\\n    \\\"FNR\\\",\\n]\\ncomparatif = [\\n    LR_report,\\n    LR_cb_report,\\n    LR_S_report,\\n    LR_report_fb,\\n    LR_cb_report_fb,\\n    LR_S_report_fb,\\n    LR_report_csc,\\n    LR_cb_report_csc,\\n    LR_S_report_csc,\\n]\\ndf_compar = pd.DataFrame(columns=columns_compar, data=comparatif)\";\n",
       "                var nbb_cells = Jupyter.notebook.get_cells();\n",
       "                for (var i = 0; i < nbb_cells.length; ++i) {\n",
       "                    if (nbb_cells[i].input_prompt_number == nbb_cell_id) {\n",
       "                        if (nbb_cells[i].get_text() == nbb_unformatted_code) {\n",
       "                             nbb_cells[i].set_text(nbb_formatted_code);\n",
       "                        }\n",
       "                        break;\n",
       "                    }\n",
       "                }\n",
       "            }, 500);\n",
       "            "
      ],
      "text/plain": [
       "<IPython.core.display.Javascript object>"
      ]
     },
     "metadata": {},
     "output_type": "display_data"
    }
   ],
   "source": [
    "columns_compar = [\n",
    "    \"model\",\n",
    "    \"scoring\",\n",
    "    \"score_trains\",\n",
    "    \"std_trains\",\n",
    "    \"fitting_time\",\n",
    "    \"std_fit\",\n",
    "    \"predict_time\",\n",
    "    \"score_test\",\n",
    "    \"TNR\",\n",
    "    \"FNR\",\n",
    "]\n",
    "comparatif = [\n",
    "    LR_report,\n",
    "    LR_cb_report,\n",
    "    LR_S_report,\n",
    "    LR_report_fb,\n",
    "    LR_cb_report_fb,\n",
    "    LR_S_report_fb,\n",
    "    LR_report_csc,\n",
    "    LR_cb_report_csc,\n",
    "    LR_S_report_csc,\n",
    "]\n",
    "df_compar = pd.DataFrame(columns=columns_compar, data=comparatif)"
   ]
  },
  {
   "cell_type": "markdown",
   "id": "fb954313",
   "metadata": {},
   "source": [
    "<a id='sum' />\n",
    "\n",
    "### Summary of the different treatments and scores"
   ]
  },
  {
   "cell_type": "code",
   "execution_count": 100,
   "id": "3676426a",
   "metadata": {
    "scrolled": true
   },
   "outputs": [
    {
     "data": {
      "text/html": [
       "<div>\n",
       "<style scoped>\n",
       "    .dataframe tbody tr th:only-of-type {\n",
       "        vertical-align: middle;\n",
       "    }\n",
       "\n",
       "    .dataframe tbody tr th {\n",
       "        vertical-align: top;\n",
       "    }\n",
       "\n",
       "    .dataframe thead th {\n",
       "        text-align: right;\n",
       "    }\n",
       "</style>\n",
       "<table border=\"1\" class=\"dataframe\">\n",
       "  <thead>\n",
       "    <tr style=\"text-align: right;\">\n",
       "      <th></th>\n",
       "      <th>model</th>\n",
       "      <th>scoring</th>\n",
       "      <th>score_trains</th>\n",
       "      <th>std_trains</th>\n",
       "      <th>fitting_time</th>\n",
       "      <th>std_fit</th>\n",
       "      <th>predict_time</th>\n",
       "      <th>score_test</th>\n",
       "      <th>FPR</th>\n",
       "      <th>FNR</th>\n",
       "    </tr>\n",
       "  </thead>\n",
       "  <tbody>\n",
       "    <tr>\n",
       "      <th>0</th>\n",
       "      <td>LR</td>\n",
       "      <td>roc_auc</td>\n",
       "      <td>0.659428</td>\n",
       "      <td>0.008533</td>\n",
       "      <td>1.507135</td>\n",
       "      <td>0.029875</td>\n",
       "      <td>(1.853, sec)</td>\n",
       "      <td>0.918298</td>\n",
       "      <td>0.007037</td>\n",
       "      <td>0.080234</td>\n",
       "    </tr>\n",
       "    <tr>\n",
       "      <th>1</th>\n",
       "      <td>LR_weight</td>\n",
       "      <td>roc_auc</td>\n",
       "      <td>0.679589</td>\n",
       "      <td>0.008046</td>\n",
       "      <td>1.484588</td>\n",
       "      <td>0.076788</td>\n",
       "      <td>(1.908, sec)</td>\n",
       "      <td>0.637504</td>\n",
       "      <td>0.646024</td>\n",
       "      <td>0.046484</td>\n",
       "    </tr>\n",
       "    <tr>\n",
       "      <th>2</th>\n",
       "      <td>LR_SMOTE</td>\n",
       "      <td>roc_auc</td>\n",
       "      <td>0.669374</td>\n",
       "      <td>0.011999</td>\n",
       "      <td>18.100385</td>\n",
       "      <td>0.283883</td>\n",
       "      <td>(28.986, sec)</td>\n",
       "      <td>0.639489</td>\n",
       "      <td>0.629134</td>\n",
       "      <td>0.048331</td>\n",
       "    </tr>\n",
       "    <tr>\n",
       "      <th>3</th>\n",
       "      <td>LR</td>\n",
       "      <td>make_scorer(fbeta_score, beta=2)</td>\n",
       "      <td>0.007801</td>\n",
       "      <td>0.004848</td>\n",
       "      <td>1.526477</td>\n",
       "      <td>0.020296</td>\n",
       "      <td>(1.852, sec)</td>\n",
       "      <td>0.918298</td>\n",
       "      <td>0.007037</td>\n",
       "      <td>0.080234</td>\n",
       "    </tr>\n",
       "    <tr>\n",
       "      <th>4</th>\n",
       "      <td>LR_weight</td>\n",
       "      <td>make_scorer(fbeta_score, beta=2)</td>\n",
       "      <td>0.345469</td>\n",
       "      <td>0.008653</td>\n",
       "      <td>1.424160</td>\n",
       "      <td>0.026900</td>\n",
       "      <td>(1.771, sec)</td>\n",
       "      <td>0.637504</td>\n",
       "      <td>0.646024</td>\n",
       "      <td>0.046484</td>\n",
       "    </tr>\n",
       "    <tr>\n",
       "      <th>5</th>\n",
       "      <td>LR_SMOTE</td>\n",
       "      <td>make_scorer(fbeta_score, beta=2)</td>\n",
       "      <td>0.345779</td>\n",
       "      <td>0.011654</td>\n",
       "      <td>18.104960</td>\n",
       "      <td>0.305124</td>\n",
       "      <td>(27.957, sec)</td>\n",
       "      <td>0.529418</td>\n",
       "      <td>0.676988</td>\n",
       "      <td>0.051994</td>\n",
       "    </tr>\n",
       "    <tr>\n",
       "      <th>6</th>\n",
       "      <td>LR</td>\n",
       "      <td>make_scorer(fonction_metier)</td>\n",
       "      <td>-6249.000000</td>\n",
       "      <td>16.745149</td>\n",
       "      <td>1.498949</td>\n",
       "      <td>0.019638</td>\n",
       "      <td>(1.823, sec)</td>\n",
       "      <td>0.918298</td>\n",
       "      <td>0.007037</td>\n",
       "      <td>0.080234</td>\n",
       "    </tr>\n",
       "    <tr>\n",
       "      <th>7</th>\n",
       "      <td>LR_weight</td>\n",
       "      <td>make_scorer(fonction_metier)</td>\n",
       "      <td>-2420.600000</td>\n",
       "      <td>106.374057</td>\n",
       "      <td>1.445501</td>\n",
       "      <td>0.014665</td>\n",
       "      <td>(1.719, sec)</td>\n",
       "      <td>0.637504</td>\n",
       "      <td>0.646024</td>\n",
       "      <td>0.046484</td>\n",
       "    </tr>\n",
       "    <tr>\n",
       "      <th>8</th>\n",
       "      <td>LR_SMOTE</td>\n",
       "      <td>make_scorer(fonction_metier)</td>\n",
       "      <td>-2352.600000</td>\n",
       "      <td>124.406752</td>\n",
       "      <td>18.318990</td>\n",
       "      <td>0.076341</td>\n",
       "      <td>(31.564, sec)</td>\n",
       "      <td>0.649589</td>\n",
       "      <td>0.631246</td>\n",
       "      <td>0.047309</td>\n",
       "    </tr>\n",
       "  </tbody>\n",
       "</table>\n",
       "</div>"
      ],
      "text/plain": [
       "       model                           scoring  score_trains  std_trains  \\\n",
       "0         LR                           roc_auc      0.659428    0.008533   \n",
       "1  LR_weight                           roc_auc      0.679589    0.008046   \n",
       "2   LR_SMOTE                           roc_auc      0.669374    0.011999   \n",
       "3         LR  make_scorer(fbeta_score, beta=2)      0.007801    0.004848   \n",
       "4  LR_weight  make_scorer(fbeta_score, beta=2)      0.345469    0.008653   \n",
       "5   LR_SMOTE  make_scorer(fbeta_score, beta=2)      0.345779    0.011654   \n",
       "6         LR      make_scorer(fonction_metier)  -6249.000000   16.745149   \n",
       "7  LR_weight      make_scorer(fonction_metier)  -2420.600000  106.374057   \n",
       "8   LR_SMOTE      make_scorer(fonction_metier)  -2352.600000  124.406752   \n",
       "\n",
       "   fitting_time   std_fit   predict_time  score_test       FPR       FNR  \n",
       "0      1.507135  0.029875   (1.853, sec)    0.918298  0.007037  0.080234  \n",
       "1      1.484588  0.076788   (1.908, sec)    0.637504  0.646024  0.046484  \n",
       "2     18.100385  0.283883  (28.986, sec)    0.639489  0.629134  0.048331  \n",
       "3      1.526477  0.020296   (1.852, sec)    0.918298  0.007037  0.080234  \n",
       "4      1.424160  0.026900   (1.771, sec)    0.637504  0.646024  0.046484  \n",
       "5     18.104960  0.305124  (27.957, sec)    0.529418  0.676988  0.051994  \n",
       "6      1.498949  0.019638   (1.823, sec)    0.918298  0.007037  0.080234  \n",
       "7      1.445501  0.014665   (1.719, sec)    0.637504  0.646024  0.046484  \n",
       "8     18.318990  0.076341  (31.564, sec)    0.649589  0.631246  0.047309  "
      ]
     },
     "execution_count": 100,
     "metadata": {},
     "output_type": "execute_result"
    },
    {
     "data": {
      "application/javascript": [
       "\n",
       "            setTimeout(function() {\n",
       "                var nbb_cell_id = 100;\n",
       "                var nbb_unformatted_code = \"df_compar\";\n",
       "                var nbb_formatted_code = \"df_compar\";\n",
       "                var nbb_cells = Jupyter.notebook.get_cells();\n",
       "                for (var i = 0; i < nbb_cells.length; ++i) {\n",
       "                    if (nbb_cells[i].input_prompt_number == nbb_cell_id) {\n",
       "                        if (nbb_cells[i].get_text() == nbb_unformatted_code) {\n",
       "                             nbb_cells[i].set_text(nbb_formatted_code);\n",
       "                        }\n",
       "                        break;\n",
       "                    }\n",
       "                }\n",
       "            }, 500);\n",
       "            "
      ],
      "text/plain": [
       "<IPython.core.display.Javascript object>"
      ]
     },
     "metadata": {},
     "output_type": "display_data"
    }
   ],
   "source": [
    "df_compar"
   ]
  },
  {
   "cell_type": "markdown",
   "id": "402aa524",
   "metadata": {},
   "source": [
    "#### As we can see, models with non balanced dealing technics are not suitable for our predictions and simple class balanced models are faster than SMOTE technics for the same results with basics parameters"
   ]
  },
  {
   "cell_type": "markdown",
   "id": "87492964",
   "metadata": {},
   "source": [
    "<a id='models' />\n",
    "\n",
    "### Model selections for the first step comparaison\n",
    "\n",
    "The goal of this subpart is to select few different models (linear, non linear etc) and test them with the differents scores"
   ]
  },
  {
   "cell_type": "code",
   "execution_count": 101,
   "id": "32ebaf79",
   "metadata": {
    "scrolled": true
   },
   "outputs": [
    {
     "data": {
      "application/javascript": [
       "\n",
       "            setTimeout(function() {\n",
       "                var nbb_cell_id = 101;\n",
       "                var nbb_unformatted_code = \"# list of models to evaluate\\ndef get_models():\\n    models, names = list(), list()\\n    # Linear Algorithms\\n    # LR_baseline\\n    models.append(make_pipeline(RobustScaler(), LogisticRegression(solver=\\\"lbfgs\\\")))\\n    names.append(\\\"LR\\\")\\n    # LR SMOTE\\n    models.append(\\n        Pipeline(\\n            [\\n                (\\\"sadasyn\\\", ADASYN(sampling_strategy=0.30)),\\n                (\\\"oversample\\\", SVMSMOTE(sampling_strategy=0.60)),\\n                (\\\"Norm\\\", RobustScaler()),\\n                (\\\"undersampling\\\", RandomUnderSampler()),\\n                (\\\"Classifier\\\", LogisticRegression()),\\n            ]\\n        )\\n    )\\n    names.append(\\\"LR\\\")\\n    # Non linear Algorithms\\n    # SVM\\n    models.append(\\n        Pipeline(\\n            [\\n                (\\\"sadasyn\\\", ADASYN(sampling_strategy=0.30)),\\n                (\\\"oversample\\\", SVMSMOTE(sampling_strategy=0.60)),\\n                (\\\"Norm\\\", RobustScaler()),\\n                (\\\"undersampling\\\", RandomUnderSampler()),\\n                (\\\"Classifier\\\", SVC()),\\n            ]\\n        )\\n    )\\n    names.append(\\\"SVM\\\")\\n    # Ensemble Algorithms\\n    # Bagged Decision Trees (Bagging)\\n    models.append(\\n        Pipeline(\\n            [\\n                (\\\"sadasyn\\\", ADASYN(sampling_strategy=0.30)),\\n                (\\\"oversample\\\", SVMSMOTE(sampling_strategy=0.60)),\\n                (\\\"Norm\\\", RobustScaler()),\\n                (\\\"undersampling\\\", RandomUnderSampler()),\\n                (\\\"Classifier\\\", BaggingClassifier()),\\n            ]\\n        )\\n    )\\n    names.append(\\\"BAG\\\")\\n\\n    # Random Forest\\n    models.append(\\n        Pipeline(\\n            [\\n                (\\\"sadasyn\\\", ADASYN(sampling_strategy=0.30)),\\n                (\\\"oversample\\\", SVMSMOTE(sampling_strategy=0.60)),\\n                (\\\"Norm\\\", RobustScaler()),\\n                (\\\"undersampling\\\", RandomUnderSampler()),\\n                (\\\"Classifier\\\", RandomForestClassifier()),\\n            ]\\n        )\\n    )\\n    names.append(\\\"RF\\\")\\n\\n    # Stochastic Gradient Boosting\\n    models.append(\\n        Pipeline(\\n            [\\n                (\\\"sadasyn\\\", ADASYN(sampling_strategy=0.30)),\\n                (\\\"oversample\\\", SVMSMOTE(sampling_strategy=0.60)),\\n                (\\\"Norm\\\", RobustScaler()),\\n                (\\\"undersampling\\\", RandomUnderSampler()),\\n                (\\\"Classifier\\\", GradientBoostingClassifier()),\\n            ]\\n        )\\n    )\\n    names.append(\\\"GBM\\\")\\n\\n    # Light gradrient booting\\n    models.append(\\n        Pipeline(\\n            [\\n                (\\\"sadasyn\\\", ADASYN(sampling_strategy=0.30)),\\n                (\\\"oversample\\\", SVMSMOTE(sampling_strategy=0.60)),\\n                (\\\"Norm\\\", RobustScaler()),\\n                (\\\"undersampling\\\", RandomUnderSampler()),\\n                (\\\"Classifier\\\", LGBMClassifier()),\\n            ]\\n        )\\n    )\\n    names.append(\\\"LGB\\\")\\n    return models, names\";\n",
       "                var nbb_formatted_code = \"# list of models to evaluate\\ndef get_models():\\n    models, names = list(), list()\\n    # Linear Algorithms\\n    # LR_baseline\\n    models.append(make_pipeline(RobustScaler(), LogisticRegression(solver=\\\"lbfgs\\\")))\\n    names.append(\\\"LR\\\")\\n    # LR SMOTE\\n    models.append(\\n        Pipeline(\\n            [\\n                (\\\"sadasyn\\\", ADASYN(sampling_strategy=0.30)),\\n                (\\\"oversample\\\", SVMSMOTE(sampling_strategy=0.60)),\\n                (\\\"Norm\\\", RobustScaler()),\\n                (\\\"undersampling\\\", RandomUnderSampler()),\\n                (\\\"Classifier\\\", LogisticRegression()),\\n            ]\\n        )\\n    )\\n    names.append(\\\"LR\\\")\\n    # Non linear Algorithms\\n    # SVM\\n    models.append(\\n        Pipeline(\\n            [\\n                (\\\"sadasyn\\\", ADASYN(sampling_strategy=0.30)),\\n                (\\\"oversample\\\", SVMSMOTE(sampling_strategy=0.60)),\\n                (\\\"Norm\\\", RobustScaler()),\\n                (\\\"undersampling\\\", RandomUnderSampler()),\\n                (\\\"Classifier\\\", SVC()),\\n            ]\\n        )\\n    )\\n    names.append(\\\"SVM\\\")\\n    # Ensemble Algorithms\\n    # Bagged Decision Trees (Bagging)\\n    models.append(\\n        Pipeline(\\n            [\\n                (\\\"sadasyn\\\", ADASYN(sampling_strategy=0.30)),\\n                (\\\"oversample\\\", SVMSMOTE(sampling_strategy=0.60)),\\n                (\\\"Norm\\\", RobustScaler()),\\n                (\\\"undersampling\\\", RandomUnderSampler()),\\n                (\\\"Classifier\\\", BaggingClassifier()),\\n            ]\\n        )\\n    )\\n    names.append(\\\"BAG\\\")\\n\\n    # Random Forest\\n    models.append(\\n        Pipeline(\\n            [\\n                (\\\"sadasyn\\\", ADASYN(sampling_strategy=0.30)),\\n                (\\\"oversample\\\", SVMSMOTE(sampling_strategy=0.60)),\\n                (\\\"Norm\\\", RobustScaler()),\\n                (\\\"undersampling\\\", RandomUnderSampler()),\\n                (\\\"Classifier\\\", RandomForestClassifier()),\\n            ]\\n        )\\n    )\\n    names.append(\\\"RF\\\")\\n\\n    # Stochastic Gradient Boosting\\n    models.append(\\n        Pipeline(\\n            [\\n                (\\\"sadasyn\\\", ADASYN(sampling_strategy=0.30)),\\n                (\\\"oversample\\\", SVMSMOTE(sampling_strategy=0.60)),\\n                (\\\"Norm\\\", RobustScaler()),\\n                (\\\"undersampling\\\", RandomUnderSampler()),\\n                (\\\"Classifier\\\", GradientBoostingClassifier()),\\n            ]\\n        )\\n    )\\n    names.append(\\\"GBM\\\")\\n\\n    # Light gradrient booting\\n    models.append(\\n        Pipeline(\\n            [\\n                (\\\"sadasyn\\\", ADASYN(sampling_strategy=0.30)),\\n                (\\\"oversample\\\", SVMSMOTE(sampling_strategy=0.60)),\\n                (\\\"Norm\\\", RobustScaler()),\\n                (\\\"undersampling\\\", RandomUnderSampler()),\\n                (\\\"Classifier\\\", LGBMClassifier()),\\n            ]\\n        )\\n    )\\n    names.append(\\\"LGB\\\")\\n    return models, names\";\n",
       "                var nbb_cells = Jupyter.notebook.get_cells();\n",
       "                for (var i = 0; i < nbb_cells.length; ++i) {\n",
       "                    if (nbb_cells[i].input_prompt_number == nbb_cell_id) {\n",
       "                        if (nbb_cells[i].get_text() == nbb_unformatted_code) {\n",
       "                             nbb_cells[i].set_text(nbb_formatted_code);\n",
       "                        }\n",
       "                        break;\n",
       "                    }\n",
       "                }\n",
       "            }, 500);\n",
       "            "
      ],
      "text/plain": [
       "<IPython.core.display.Javascript object>"
      ]
     },
     "metadata": {},
     "output_type": "display_data"
    }
   ],
   "source": [
    "# list of models to evaluate\n",
    "def get_models():\n",
    "    models, names = list(), list()\n",
    "    # Linear Algorithms\n",
    "    # LR_baseline\n",
    "    models.append(make_pipeline(RobustScaler(), LogisticRegression(solver=\"lbfgs\")))\n",
    "    names.append(\"LR\")\n",
    "    # LR SMOTE\n",
    "    models.append(\n",
    "        Pipeline(\n",
    "            [\n",
    "                (\"sadasyn\", ADASYN(sampling_strategy=0.30)),\n",
    "                (\"oversample\", SVMSMOTE(sampling_strategy=0.60)),\n",
    "                (\"Norm\", RobustScaler()),\n",
    "                (\"undersampling\", RandomUnderSampler()),\n",
    "                (\"Classifier\", LogisticRegression()),\n",
    "            ]\n",
    "        )\n",
    "    )\n",
    "    names.append(\"LR\")\n",
    "    # Non linear Algorithms\n",
    "    # SVM\n",
    "    models.append(\n",
    "        Pipeline(\n",
    "            [\n",
    "                (\"sadasyn\", ADASYN(sampling_strategy=0.30)),\n",
    "                (\"oversample\", SVMSMOTE(sampling_strategy=0.60)),\n",
    "                (\"Norm\", RobustScaler()),\n",
    "                (\"undersampling\", RandomUnderSampler()),\n",
    "                (\"Classifier\", SVC()),\n",
    "            ]\n",
    "        )\n",
    "    )\n",
    "    names.append(\"SVM\")\n",
    "    # Ensemble Algorithms\n",
    "    # Bagged Decision Trees (Bagging)\n",
    "    models.append(\n",
    "        Pipeline(\n",
    "            [\n",
    "                (\"sadasyn\", ADASYN(sampling_strategy=0.30)),\n",
    "                (\"oversample\", SVMSMOTE(sampling_strategy=0.60)),\n",
    "                (\"Norm\", RobustScaler()),\n",
    "                (\"undersampling\", RandomUnderSampler()),\n",
    "                (\"Classifier\", BaggingClassifier()),\n",
    "            ]\n",
    "        )\n",
    "    )\n",
    "    names.append(\"BAG\")\n",
    "\n",
    "    # Random Forest\n",
    "    models.append(\n",
    "        Pipeline(\n",
    "            [\n",
    "                (\"sadasyn\", ADASYN(sampling_strategy=0.30)),\n",
    "                (\"oversample\", SVMSMOTE(sampling_strategy=0.60)),\n",
    "                (\"Norm\", RobustScaler()),\n",
    "                (\"undersampling\", RandomUnderSampler()),\n",
    "                (\"Classifier\", RandomForestClassifier()),\n",
    "            ]\n",
    "        )\n",
    "    )\n",
    "    names.append(\"RF\")\n",
    "\n",
    "    # Stochastic Gradient Boosting\n",
    "    models.append(\n",
    "        Pipeline(\n",
    "            [\n",
    "                (\"sadasyn\", ADASYN(sampling_strategy=0.30)),\n",
    "                (\"oversample\", SVMSMOTE(sampling_strategy=0.60)),\n",
    "                (\"Norm\", RobustScaler()),\n",
    "                (\"undersampling\", RandomUnderSampler()),\n",
    "                (\"Classifier\", GradientBoostingClassifier()),\n",
    "            ]\n",
    "        )\n",
    "    )\n",
    "    names.append(\"GBM\")\n",
    "\n",
    "    # Light gradrient booting\n",
    "    models.append(\n",
    "        Pipeline(\n",
    "            [\n",
    "                (\"sadasyn\", ADASYN(sampling_strategy=0.30)),\n",
    "                (\"oversample\", SVMSMOTE(sampling_strategy=0.60)),\n",
    "                (\"Norm\", RobustScaler()),\n",
    "                (\"undersampling\", RandomUnderSampler()),\n",
    "                (\"Classifier\", LGBMClassifier()),\n",
    "            ]\n",
    "        )\n",
    "    )\n",
    "    names.append(\"LGB\")\n",
    "    return models, names"
   ]
  },
  {
   "cell_type": "code",
   "execution_count": 102,
   "id": "dd35315d",
   "metadata": {},
   "outputs": [
    {
     "data": {
      "application/javascript": [
       "\n",
       "            setTimeout(function() {\n",
       "                var nbb_cell_id = 102;\n",
       "                var nbb_unformatted_code = \"rapid = 0\\nif rapid == 1:\\n    results_loaded = loadtxt(\\\"results_score_1.csv\\\", delimiter=\\\",\\\")\";\n",
       "                var nbb_formatted_code = \"rapid = 0\\nif rapid == 1:\\n    results_loaded = loadtxt(\\\"results_score_1.csv\\\", delimiter=\\\",\\\")\";\n",
       "                var nbb_cells = Jupyter.notebook.get_cells();\n",
       "                for (var i = 0; i < nbb_cells.length; ++i) {\n",
       "                    if (nbb_cells[i].input_prompt_number == nbb_cell_id) {\n",
       "                        if (nbb_cells[i].get_text() == nbb_unformatted_code) {\n",
       "                             nbb_cells[i].set_text(nbb_formatted_code);\n",
       "                        }\n",
       "                        break;\n",
       "                    }\n",
       "                }\n",
       "            }, 500);\n",
       "            "
      ],
      "text/plain": [
       "<IPython.core.display.Javascript object>"
      ]
     },
     "metadata": {},
     "output_type": "display_data"
    }
   ],
   "source": [
    "rapid = 0\n",
    "if rapid == 1:\n",
    "    results_loaded = loadtxt(\"results_score_1.csv\", delimiter=\",\")"
   ]
  },
  {
   "cell_type": "markdown",
   "id": "2ea74c13",
   "metadata": {},
   "source": [
    "<a id='roc' />\n",
    "\n",
    "### Roc auc score"
   ]
  },
  {
   "cell_type": "code",
   "execution_count": 112,
   "id": "8f5f0669",
   "metadata": {},
   "outputs": [
    {
     "data": {
      "application/javascript": [
       "\n",
       "            setTimeout(function() {\n",
       "                var nbb_cell_id = 112;\n",
       "                var nbb_unformatted_code = \"# evaluate a model\\ndef evaluate_model_roc(X, y, model):\\n    # define evaluation procedure\\n    cv = RepeatedStratifiedKFold(n_splits=5, n_repeats=3, random_state=1)\\n    # evaluate model\\n    scores = cross_val_score(model, X, y, scoring=\\\"roc_auc\\\", cv=cv, n_jobs=-1)\\n    return scores\";\n",
       "                var nbb_formatted_code = \"# evaluate a model\\ndef evaluate_model_roc(X, y, model):\\n    # define evaluation procedure\\n    cv = RepeatedStratifiedKFold(n_splits=5, n_repeats=3, random_state=1)\\n    # evaluate model\\n    scores = cross_val_score(model, X, y, scoring=\\\"roc_auc\\\", cv=cv, n_jobs=-1)\\n    return scores\";\n",
       "                var nbb_cells = Jupyter.notebook.get_cells();\n",
       "                for (var i = 0; i < nbb_cells.length; ++i) {\n",
       "                    if (nbb_cells[i].input_prompt_number == nbb_cell_id) {\n",
       "                        if (nbb_cells[i].get_text() == nbb_unformatted_code) {\n",
       "                             nbb_cells[i].set_text(nbb_formatted_code);\n",
       "                        }\n",
       "                        break;\n",
       "                    }\n",
       "                }\n",
       "            }, 500);\n",
       "            "
      ],
      "text/plain": [
       "<IPython.core.display.Javascript object>"
      ]
     },
     "metadata": {},
     "output_type": "display_data"
    }
   ],
   "source": [
    "# evaluate a model\n",
    "def evaluate_model_roc(X, y, model):\n",
    "    # define evaluation procedure\n",
    "    cv = RepeatedStratifiedKFold(n_splits=5, n_repeats=3, random_state=1)\n",
    "    # evaluate model\n",
    "    scores = cross_val_score(model, X, y, scoring=\"roc_auc\", cv=cv, n_jobs=-1)\n",
    "    return scores"
   ]
  },
  {
   "cell_type": "code",
   "execution_count": 113,
   "id": "cba84843",
   "metadata": {},
   "outputs": [
    {
     "name": "stdout",
     "output_type": "stream",
     "text": [
      ">LR 0.556 (0.018)\n",
      "total time:  5.991949081420898 sec\n",
      ">LR 0.637 (0.018)\n",
      "total time:  108.02961897850037 sec\n",
      ">SVM 0.592 (0.020)\n",
      "total time:  283.79070925712585 sec\n",
      ">BAG 0.603 (0.017)\n",
      "total time:  136.35765147209167 sec\n",
      ">RF 0.675 (0.017)\n",
      "total time:  128.10980105400085 sec\n",
      ">GBM 0.684 (0.011)\n",
      "total time:  216.8181128501892 sec\n",
      ">LGB 0.695 (0.017)\n",
      "total time:  118.6102409362793 sec\n"
     ]
    },
    {
     "data": {
      "application/javascript": [
       "\n",
       "            setTimeout(function() {\n",
       "                var nbb_cell_id = 113;\n",
       "                var nbb_unformatted_code = \"if rapid == 0:\\n    # define models\\n    models, names = get_models()\\n    results_roc = list()\\n    # evaluate each model\\n    for i in range(len(models)):\\n\\n        start = time.time()\\n        # evaluate the model and store results\\n        scores = evaluate_model_roc(X_train, y_train, models[i])\\n        results_roc.append(scores)\\n        # summarize and store\\n        print(\\\">%s %.3f (%.3f)\\\" % (names[i], mean(scores), std(scores)))\\n        end = time.time()\\n        print(\\\"total time: \\\", (end - start), \\\"sec\\\")\";\n",
       "                var nbb_formatted_code = \"if rapid == 0:\\n    # define models\\n    models, names = get_models()\\n    results_roc = list()\\n    # evaluate each model\\n    for i in range(len(models)):\\n\\n        start = time.time()\\n        # evaluate the model and store results\\n        scores = evaluate_model_roc(X_train, y_train, models[i])\\n        results_roc.append(scores)\\n        # summarize and store\\n        print(\\\">%s %.3f (%.3f)\\\" % (names[i], mean(scores), std(scores)))\\n        end = time.time()\\n        print(\\\"total time: \\\", (end - start), \\\"sec\\\")\";\n",
       "                var nbb_cells = Jupyter.notebook.get_cells();\n",
       "                for (var i = 0; i < nbb_cells.length; ++i) {\n",
       "                    if (nbb_cells[i].input_prompt_number == nbb_cell_id) {\n",
       "                        if (nbb_cells[i].get_text() == nbb_unformatted_code) {\n",
       "                             nbb_cells[i].set_text(nbb_formatted_code);\n",
       "                        }\n",
       "                        break;\n",
       "                    }\n",
       "                }\n",
       "            }, 500);\n",
       "            "
      ],
      "text/plain": [
       "<IPython.core.display.Javascript object>"
      ]
     },
     "metadata": {},
     "output_type": "display_data"
    }
   ],
   "source": [
    "if rapid == 0:\n",
    "    # define models\n",
    "    models, names = get_models()\n",
    "    results_roc = list()\n",
    "    # evaluate each model\n",
    "    for i in range(len(models)):\n",
    "\n",
    "        start = time.time()\n",
    "        # evaluate the model and store results\n",
    "        scores = evaluate_model_roc(X_train, y_train, models[i])\n",
    "        results_roc.append(scores)\n",
    "        # summarize and store\n",
    "        print(\">%s %.3f (%.3f)\" % (names[i], mean(scores), std(scores)))\n",
    "        end = time.time()\n",
    "        print(\"total time: \", (end - start), \"sec\")"
   ]
  },
  {
   "cell_type": "code",
   "execution_count": 114,
   "id": "f8c60958",
   "metadata": {
    "scrolled": false
   },
   "outputs": [
    {
     "data": {
      "image/png": "[encoded data removed]",
      "text/plain": [
       "<Figure size 720x360 with 1 Axes>"
      ]
     },
     "metadata": {
      "needs_background": "light"
     },
     "output_type": "display_data"
    },
    {
     "data": {
      "application/javascript": [
       "\n",
       "            setTimeout(function() {\n",
       "                var nbb_cell_id = 114;\n",
       "                var nbb_unformatted_code = \"# plot the results\\nplt.figure(figsize=(10, 5))\\nplt.boxplot(results_roc, labels=names, showmeans=True)\\nplt.show()\";\n",
       "                var nbb_formatted_code = \"# plot the results\\nplt.figure(figsize=(10, 5))\\nplt.boxplot(results_roc, labels=names, showmeans=True)\\nplt.show()\";\n",
       "                var nbb_cells = Jupyter.notebook.get_cells();\n",
       "                for (var i = 0; i < nbb_cells.length; ++i) {\n",
       "                    if (nbb_cells[i].input_prompt_number == nbb_cell_id) {\n",
       "                        if (nbb_cells[i].get_text() == nbb_unformatted_code) {\n",
       "                             nbb_cells[i].set_text(nbb_formatted_code);\n",
       "                        }\n",
       "                        break;\n",
       "                    }\n",
       "                }\n",
       "            }, 500);\n",
       "            "
      ],
      "text/plain": [
       "<IPython.core.display.Javascript object>"
      ]
     },
     "metadata": {},
     "output_type": "display_data"
    }
   ],
   "source": [
    "# plot the results\n",
    "plt.figure(figsize=(10, 5))\n",
    "plt.boxplot(results_roc, labels=names, showmeans=True)\n",
    "plt.show()"
   ]
  },
  {
   "cell_type": "markdown",
   "id": "f061ce7a",
   "metadata": {},
   "source": [
    "<a id='beta' />\n",
    "\n",
    "### fbeta score"
   ]
  },
  {
   "cell_type": "code",
   "execution_count": 106,
   "id": "c062e3a4",
   "metadata": {},
   "outputs": [
    {
     "data": {
      "application/javascript": [
       "\n",
       "            setTimeout(function() {\n",
       "                var nbb_cell_id = 106;\n",
       "                var nbb_unformatted_code = \"# evaluate a model\\ndef evaluate_model_fb(X, y, model):\\n    # define evaluation procedure\\n    cv = RepeatedStratifiedKFold(n_splits=5, n_repeats=3, random_state=1)\\n    # evaluate model\\n    scores = cross_val_score(model, X, y, scoring=ftwo_scorer, cv=cv, n_jobs=-1)\\n    return scores\";\n",
       "                var nbb_formatted_code = \"# evaluate a model\\ndef evaluate_model_fb(X, y, model):\\n    # define evaluation procedure\\n    cv = RepeatedStratifiedKFold(n_splits=5, n_repeats=3, random_state=1)\\n    # evaluate model\\n    scores = cross_val_score(model, X, y, scoring=ftwo_scorer, cv=cv, n_jobs=-1)\\n    return scores\";\n",
       "                var nbb_cells = Jupyter.notebook.get_cells();\n",
       "                for (var i = 0; i < nbb_cells.length; ++i) {\n",
       "                    if (nbb_cells[i].input_prompt_number == nbb_cell_id) {\n",
       "                        if (nbb_cells[i].get_text() == nbb_unformatted_code) {\n",
       "                             nbb_cells[i].set_text(nbb_formatted_code);\n",
       "                        }\n",
       "                        break;\n",
       "                    }\n",
       "                }\n",
       "            }, 500);\n",
       "            "
      ],
      "text/plain": [
       "<IPython.core.display.Javascript object>"
      ]
     },
     "metadata": {},
     "output_type": "display_data"
    }
   ],
   "source": [
    "# evaluate a model\n",
    "def evaluate_model_fb(X, y, model):\n",
    "    # define evaluation procedure\n",
    "    cv = RepeatedStratifiedKFold(n_splits=5, n_repeats=3, random_state=1)\n",
    "    # evaluate model\n",
    "    scores = cross_val_score(model, X, y, scoring=ftwo_scorer, cv=cv, n_jobs=-1)\n",
    "    return scores"
   ]
  },
  {
   "cell_type": "code",
   "execution_count": 107,
   "id": "e41444e0",
   "metadata": {},
   "outputs": [
    {
     "name": "stdout",
     "output_type": "stream",
     "text": [
      ">LR 0.002 (0.004)\n",
      "total time:  4.03716516494751 sec\n",
      ">LR 0.323 (0.017)\n",
      "total time:  113.24053859710693 sec\n",
      ">SVM 0.134 (0.059)\n",
      "total time:  292.51178646087646 sec\n",
      ">BAG 0.052 (0.017)\n",
      "total time:  139.9505259990692 sec\n",
      ">RF 0.020 (0.010)\n",
      "total time:  130.3326234817505 sec\n",
      ">GBM 0.026 (0.010)\n",
      "total time:  221.53230953216553 sec\n",
      ">LGB 0.051 (0.014)\n",
      "total time:  120.19735980033875 sec\n"
     ]
    },
    {
     "data": {
      "application/javascript": [
       "\n",
       "            setTimeout(function() {\n",
       "                var nbb_cell_id = 107;\n",
       "                var nbb_unformatted_code = \"if rapid == 0:\\n    # define models\\n    models, names = get_models()\\n    results_fb = list()\\n    # evaluate each model\\n    for i in range(len(models)):\\n\\n        start = time.time()\\n        # evaluate the model and store results\\n        scores = evaluate_model_fb(X_train, y_train, models[i])\\n        results_fb.append(scores)\\n        # summarize and store\\n        print(\\\">%s %.3f (%.3f)\\\" % (names[i], mean(scores), std(scores)))\\n        end = time.time()\\n        print(\\\"total time: \\\", (end - start), \\\"sec\\\")\";\n",
       "                var nbb_formatted_code = \"if rapid == 0:\\n    # define models\\n    models, names = get_models()\\n    results_fb = list()\\n    # evaluate each model\\n    for i in range(len(models)):\\n\\n        start = time.time()\\n        # evaluate the model and store results\\n        scores = evaluate_model_fb(X_train, y_train, models[i])\\n        results_fb.append(scores)\\n        # summarize and store\\n        print(\\\">%s %.3f (%.3f)\\\" % (names[i], mean(scores), std(scores)))\\n        end = time.time()\\n        print(\\\"total time: \\\", (end - start), \\\"sec\\\")\";\n",
       "                var nbb_cells = Jupyter.notebook.get_cells();\n",
       "                for (var i = 0; i < nbb_cells.length; ++i) {\n",
       "                    if (nbb_cells[i].input_prompt_number == nbb_cell_id) {\n",
       "                        if (nbb_cells[i].get_text() == nbb_unformatted_code) {\n",
       "                             nbb_cells[i].set_text(nbb_formatted_code);\n",
       "                        }\n",
       "                        break;\n",
       "                    }\n",
       "                }\n",
       "            }, 500);\n",
       "            "
      ],
      "text/plain": [
       "<IPython.core.display.Javascript object>"
      ]
     },
     "metadata": {},
     "output_type": "display_data"
    }
   ],
   "source": [
    "if rapid == 0:\n",
    "    # define models\n",
    "    models, names = get_models()\n",
    "    results_fb = list()\n",
    "    # evaluate each model\n",
    "    for i in range(len(models)):\n",
    "\n",
    "        start = time.time()\n",
    "        # evaluate the model and store results\n",
    "        scores = evaluate_model_fb(X_train, y_train, models[i])\n",
    "        results_fb.append(scores)\n",
    "        # summarize and store\n",
    "        print(\">%s %.3f (%.3f)\" % (names[i], mean(scores), std(scores)))\n",
    "        end = time.time()\n",
    "        print(\"total time: \", (end - start), \"sec\")"
   ]
  },
  {
   "cell_type": "code",
   "execution_count": 108,
   "id": "19072382",
   "metadata": {
    "scrolled": false
   },
   "outputs": [
    {
     "data": {
      "image/png": "[encoded data removed]",
      "text/plain": [
       "<Figure size 720x360 with 1 Axes>"
      ]
     },
     "metadata": {
      "needs_background": "light"
     },
     "output_type": "display_data"
    },
    {
     "data": {
      "application/javascript": [
       "\n",
       "            setTimeout(function() {\n",
       "                var nbb_cell_id = 108;\n",
       "                var nbb_unformatted_code = \"# plot the results\\nplt.figure(figsize=(10, 5))\\nplt.boxplot(results_fb, labels=names, showmeans=True)\\nplt.show()\";\n",
       "                var nbb_formatted_code = \"# plot the results\\nplt.figure(figsize=(10, 5))\\nplt.boxplot(results_fb, labels=names, showmeans=True)\\nplt.show()\";\n",
       "                var nbb_cells = Jupyter.notebook.get_cells();\n",
       "                for (var i = 0; i < nbb_cells.length; ++i) {\n",
       "                    if (nbb_cells[i].input_prompt_number == nbb_cell_id) {\n",
       "                        if (nbb_cells[i].get_text() == nbb_unformatted_code) {\n",
       "                             nbb_cells[i].set_text(nbb_formatted_code);\n",
       "                        }\n",
       "                        break;\n",
       "                    }\n",
       "                }\n",
       "            }, 500);\n",
       "            "
      ],
      "text/plain": [
       "<IPython.core.display.Javascript object>"
      ]
     },
     "metadata": {},
     "output_type": "display_data"
    }
   ],
   "source": [
    "# plot the results\n",
    "plt.figure(figsize=(10, 5))\n",
    "plt.boxplot(results_fb, labels=names, showmeans=True)\n",
    "plt.show()"
   ]
  },
  {
   "cell_type": "markdown",
   "id": "469a188e",
   "metadata": {},
   "source": [
    "<a id='cus' />\n",
    "\n",
    "### Custom score"
   ]
  },
  {
   "cell_type": "code",
   "execution_count": 103,
   "id": "4ad03ea0",
   "metadata": {},
   "outputs": [
    {
     "data": {
      "application/javascript": [
       "\n",
       "            setTimeout(function() {\n",
       "                var nbb_cell_id = 103;\n",
       "                var nbb_unformatted_code = \"# evaluate a model\\ndef evaluate_model_cus(X, y, model):\\n    # define evaluation procedure\\n    cv = RepeatedStratifiedKFold(n_splits=5, n_repeats=3, random_state=1)\\n    # evaluate model\\n    scores = cross_val_score(model, X, y, scoring=custom_score, cv=cv, n_jobs=-1)\\n    return scores\";\n",
       "                var nbb_formatted_code = \"# evaluate a model\\ndef evaluate_model_cus(X, y, model):\\n    # define evaluation procedure\\n    cv = RepeatedStratifiedKFold(n_splits=5, n_repeats=3, random_state=1)\\n    # evaluate model\\n    scores = cross_val_score(model, X, y, scoring=custom_score, cv=cv, n_jobs=-1)\\n    return scores\";\n",
       "                var nbb_cells = Jupyter.notebook.get_cells();\n",
       "                for (var i = 0; i < nbb_cells.length; ++i) {\n",
       "                    if (nbb_cells[i].input_prompt_number == nbb_cell_id) {\n",
       "                        if (nbb_cells[i].get_text() == nbb_unformatted_code) {\n",
       "                             nbb_cells[i].set_text(nbb_formatted_code);\n",
       "                        }\n",
       "                        break;\n",
       "                    }\n",
       "                }\n",
       "            }, 500);\n",
       "            "
      ],
      "text/plain": [
       "<IPython.core.display.Javascript object>"
      ]
     },
     "metadata": {},
     "output_type": "display_data"
    }
   ],
   "source": [
    "# evaluate a model\n",
    "def evaluate_model_cus(X, y, model):\n",
    "    # define evaluation procedure\n",
    "    cv = RepeatedStratifiedKFold(n_splits=5, n_repeats=3, random_state=1)\n",
    "    # evaluate model\n",
    "    scores = cross_val_score(model, X, y, scoring=custom_score, cv=cv, n_jobs=-1)\n",
    "    return scores"
   ]
  },
  {
   "cell_type": "code",
   "execution_count": 104,
   "id": "99f2c529",
   "metadata": {},
   "outputs": [
    {
     "name": "stdout",
     "output_type": "stream",
     "text": [
      ">LR -6280.000 (23.490)\n",
      "total time:  6.08362340927124 sec\n",
      ">LR -2309.000 (289.106)\n",
      "total time:  110.3922472000122 sec\n",
      ">SVM -5589.000 (345.863)\n",
      "total time:  290.0752809047699 sec\n",
      ">BAG -5945.000 (94.135)\n",
      "total time:  134.69839096069336 sec\n",
      ">RF -6185.000 (52.254)\n",
      "total time:  128.28663992881775 sec\n",
      ">GBM -6156.000 (54.770)\n",
      "total time:  216.3303201198578 sec\n",
      ">LGB -6008.000 (64.148)\n",
      "total time:  117.78478145599365 sec\n"
     ]
    },
    {
     "data": {
      "application/javascript": [
       "\n",
       "            setTimeout(function() {\n",
       "                var nbb_cell_id = 104;\n",
       "                var nbb_unformatted_code = \"if rapid == 0:\\n    # define models\\n    models, names = get_models()\\n    results_cus = list()\\n    # evaluate each model\\n    for i in range(len(models)):\\n\\n        start = time.time()\\n        # evaluate the model and store results\\n        scores = evaluate_model_cus(X_train, y_train, models[i])\\n        results_cus.append(scores)\\n        # summarize and store\\n        print(\\\">%s %.3f (%.3f)\\\" % (names[i], mean(scores), std(scores)))\\n        end = time.time()\\n        print(\\\"total time: \\\", (end - start), \\\"sec\\\")\";\n",
       "                var nbb_formatted_code = \"if rapid == 0:\\n    # define models\\n    models, names = get_models()\\n    results_cus = list()\\n    # evaluate each model\\n    for i in range(len(models)):\\n\\n        start = time.time()\\n        # evaluate the model and store results\\n        scores = evaluate_model_cus(X_train, y_train, models[i])\\n        results_cus.append(scores)\\n        # summarize and store\\n        print(\\\">%s %.3f (%.3f)\\\" % (names[i], mean(scores), std(scores)))\\n        end = time.time()\\n        print(\\\"total time: \\\", (end - start), \\\"sec\\\")\";\n",
       "                var nbb_cells = Jupyter.notebook.get_cells();\n",
       "                for (var i = 0; i < nbb_cells.length; ++i) {\n",
       "                    if (nbb_cells[i].input_prompt_number == nbb_cell_id) {\n",
       "                        if (nbb_cells[i].get_text() == nbb_unformatted_code) {\n",
       "                             nbb_cells[i].set_text(nbb_formatted_code);\n",
       "                        }\n",
       "                        break;\n",
       "                    }\n",
       "                }\n",
       "            }, 500);\n",
       "            "
      ],
      "text/plain": [
       "<IPython.core.display.Javascript object>"
      ]
     },
     "metadata": {},
     "output_type": "display_data"
    }
   ],
   "source": [
    "if rapid == 0:\n",
    "    # define models\n",
    "    models, names = get_models()\n",
    "    results_cus = list()\n",
    "    # evaluate each model\n",
    "    for i in range(len(models)):\n",
    "\n",
    "        start = time.time()\n",
    "        # evaluate the model and store results\n",
    "        scores = evaluate_model_cus(X_train, y_train, models[i])\n",
    "        results_cus.append(scores)\n",
    "        # summarize and store\n",
    "        print(\">%s %.3f (%.3f)\" % (names[i], mean(scores), std(scores)))\n",
    "        end = time.time()\n",
    "        print(\"total time: \", (end - start), \"sec\")"
   ]
  },
  {
   "cell_type": "code",
   "execution_count": 105,
   "id": "b49f6891",
   "metadata": {
    "scrolled": false
   },
   "outputs": [
    {
     "data": {
      "image/png": "[encoded data removed]",
      "text/plain": [
       "<Figure size 720x360 with 1 Axes>"
      ]
     },
     "metadata": {
      "needs_background": "light"
     },
     "output_type": "display_data"
    },
    {
     "data": {
      "application/javascript": [
       "\n",
       "            setTimeout(function() {\n",
       "                var nbb_cell_id = 105;\n",
       "                var nbb_unformatted_code = \"# plot the results\\nplt.figure(figsize=(10, 5))\\nplt.boxplot(results_cus, labels=names, showmeans=True)\\nplt.show()\";\n",
       "                var nbb_formatted_code = \"# plot the results\\nplt.figure(figsize=(10, 5))\\nplt.boxplot(results_cus, labels=names, showmeans=True)\\nplt.show()\";\n",
       "                var nbb_cells = Jupyter.notebook.get_cells();\n",
       "                for (var i = 0; i < nbb_cells.length; ++i) {\n",
       "                    if (nbb_cells[i].input_prompt_number == nbb_cell_id) {\n",
       "                        if (nbb_cells[i].get_text() == nbb_unformatted_code) {\n",
       "                             nbb_cells[i].set_text(nbb_formatted_code);\n",
       "                        }\n",
       "                        break;\n",
       "                    }\n",
       "                }\n",
       "            }, 500);\n",
       "            "
      ],
      "text/plain": [
       "<IPython.core.display.Javascript object>"
      ]
     },
     "metadata": {},
     "output_type": "display_data"
    }
   ],
   "source": [
    "# plot the results\n",
    "plt.figure(figsize=(10, 5))\n",
    "plt.boxplot(results_cus, labels=names, showmeans=True)\n",
    "plt.show()"
   ]
  }
 ],
 "metadata": {
  "kernelspec": {
   "display_name": "Python 3 (ipykernel)",
   "language": "python",
   "name": "python3"
  },
  "language_info": {
   "codemirror_mode": {
    "name": "ipython",
    "version": 3
   },
   "file_extension": ".py",
   "mimetype": "text/x-python",
   "name": "python",
   "nbconvert_exporter": "python",
   "pygments_lexer": "ipython3",
   "version": "3.9.7"
  }
 },
 "nbformat": 4,
 "nbformat_minor": 5
}
